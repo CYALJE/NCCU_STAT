{
 "cells": [
  {
   "cell_type": "markdown",
   "id": "standard-refrigerator",
   "metadata": {},
   "source": [
    "### 1. Example 3.5: Compare coefficients from lm() with $\\hat{\\mu_i}$ & $\\hat{\\alpha_i}$\n",
    "\n",
    "輸入資料以及提取變數"
   ]
  },
  {
   "cell_type": "code",
   "execution_count": 5,
   "id": "essential-linux",
   "metadata": {},
   "outputs": [],
   "source": [
    "resin = read.table(\"http://www.stat.umn.edu/~gary/book/fcdae.data/exmpl3.2\", header = TRUE)\n",
    "y = resin$y\n",
    "temp = resin$temp"
   ]
  },
  {
   "cell_type": "markdown",
   "id": "assumed-egypt",
   "metadata": {},
   "source": [
    "建立模型"
   ]
  },
  {
   "cell_type": "code",
   "execution_count": 6,
   "id": "solved-lobby",
   "metadata": {},
   "outputs": [
    {
     "data": {
      "text/plain": [
       "\n",
       "Call:\n",
       "lm(formula = y ~ factor(temp), data = resin)\n",
       "\n",
       "Residuals:\n",
       "     Min       1Q   Median       3Q      Max \n",
       "-0.22667 -0.03667  0.00250  0.03125  0.20333 \n",
       "\n",
       "Coefficients:\n",
       "              Estimate Std. Error t value Pr(>|t|)    \n",
       "(Intercept)    1.93250    0.03387  57.055  < 2e-16 ***\n",
       "factor(temp)2 -0.30375    0.04790  -6.341 4.06e-07 ***\n",
       "factor(temp)3 -0.55500    0.04790 -11.586 5.49e-13 ***\n",
       "factor(temp)4 -0.73821    0.04958 -14.889 6.13e-16 ***\n",
       "factor(temp)5 -0.87583    0.05174 -16.928  < 2e-16 ***\n",
       "---\n",
       "Signif. codes:  0 ‘***’ 0.001 ‘**’ 0.01 ‘*’ 0.05 ‘.’ 0.1 ‘ ’ 1\n",
       "\n",
       "Residual standard error: 0.0958 on 32 degrees of freedom\n",
       "Multiple R-squared:  0.9233,\tAdjusted R-squared:  0.9138 \n",
       "F-statistic: 96.36 on 4 and 32 DF,  p-value: < 2.2e-16\n"
      ]
     },
     "metadata": {},
     "output_type": "display_data"
    }
   ],
   "source": [
    "g = lm(y ~ factor(temp), data = resin)\n",
    "summary(g)"
   ]
  },
  {
   "cell_type": "markdown",
   "id": "immediate-mozambique",
   "metadata": {},
   "source": [
    "從 inClass2 的題目中可以算出"
   ]
  },
  {
   "cell_type": "code",
   "execution_count": 7,
   "id": "available-smoke",
   "metadata": {},
   "outputs": [
    {
     "data": {
      "text/html": [
       "<table>\n",
       "<thead><tr><th></th><th scope=col>Df</th><th scope=col>Sum Sq</th><th scope=col>Mean Sq</th><th scope=col>F value</th><th scope=col>Pr(&gt;F)</th></tr></thead>\n",
       "<tbody>\n",
       "\t<tr><th scope=row>factor(temp)</th><td> 4          </td><td>3.5376321   </td><td>0.884408016 </td><td>96.36296    </td><td>2.241949e-17</td></tr>\n",
       "\t<tr><th scope=row>Residuals</th><td>32          </td><td>0.2936923   </td><td>0.009177883 </td><td>      NA    </td><td>          NA</td></tr>\n",
       "</tbody>\n",
       "</table>\n"
      ],
      "text/latex": [
       "\\begin{tabular}{r|lllll}\n",
       "  & Df & Sum Sq & Mean Sq & F value & Pr(>F)\\\\\n",
       "\\hline\n",
       "\tfactor(temp) &  4           & 3.5376321    & 0.884408016  & 96.36296     & 2.241949e-17\\\\\n",
       "\tResiduals & 32           & 0.2936923    & 0.009177883  &       NA     &           NA\\\\\n",
       "\\end{tabular}\n"
      ],
      "text/markdown": [
       "\n",
       "| <!--/--> | Df | Sum Sq | Mean Sq | F value | Pr(>F) |\n",
       "|---|---|---|---|---|---|\n",
       "| factor(temp) |  4           | 3.5376321    | 0.884408016  | 96.36296     | 2.241949e-17 |\n",
       "| Residuals | 32           | 0.2936923    | 0.009177883  |       NA     |           NA |\n",
       "\n"
      ],
      "text/plain": [
       "             Df Sum Sq    Mean Sq     F value  Pr(>F)      \n",
       "factor(temp)  4 3.5376321 0.884408016 96.36296 2.241949e-17\n",
       "Residuals    32 0.2936923 0.009177883       NA           NA"
      ]
     },
     "metadata": {},
     "output_type": "display_data"
    },
    {
     "data": {
      "text/html": [
       "<table>\n",
       "<thead><tr><th scope=col>group_mean</th><th scope=col>alpha_hat</th></tr></thead>\n",
       "<tbody>\n",
       "\t<tr><td>1.932500   </td><td> 0.46736486</td></tr>\n",
       "\t<tr><td>1.628750   </td><td> 0.16361486</td></tr>\n",
       "\t<tr><td>1.377500   </td><td>-0.08763514</td></tr>\n",
       "\t<tr><td>1.194286   </td><td>-0.27084942</td></tr>\n",
       "\t<tr><td>1.056667   </td><td>-0.40846847</td></tr>\n",
       "</tbody>\n",
       "</table>\n"
      ],
      "text/latex": [
       "\\begin{tabular}{r|ll}\n",
       " group\\_mean & alpha\\_hat\\\\\n",
       "\\hline\n",
       "\t 1.932500    &  0.46736486\\\\\n",
       "\t 1.628750    &  0.16361486\\\\\n",
       "\t 1.377500    & -0.08763514\\\\\n",
       "\t 1.194286    & -0.27084942\\\\\n",
       "\t 1.056667    & -0.40846847\\\\\n",
       "\\end{tabular}\n"
      ],
      "text/markdown": [
       "\n",
       "| group_mean | alpha_hat |\n",
       "|---|---|\n",
       "| 1.932500    |  0.46736486 |\n",
       "| 1.628750    |  0.16361486 |\n",
       "| 1.377500    | -0.08763514 |\n",
       "| 1.194286    | -0.27084942 |\n",
       "| 1.056667    | -0.40846847 |\n",
       "\n"
      ],
      "text/plain": [
       "  group_mean alpha_hat  \n",
       "1 1.932500    0.46736486\n",
       "2 1.628750    0.16361486\n",
       "3 1.377500   -0.08763514\n",
       "4 1.194286   -0.27084942\n",
       "5 1.056667   -0.40846847"
      ]
     },
     "metadata": {},
     "output_type": "display_data"
    }
   ],
   "source": [
    "anova(g)\n",
    "mu_hat = mean(y)\n",
    "group_mean = tapply(y, temp, mean)\n",
    "alpha_hat = group_mean - mu_hat\n",
    "table = cbind(group_mean, alpha_hat)\n",
    "table"
   ]
  },
  {
   "cell_type": "markdown",
   "id": "specified-vatican",
   "metadata": {},
   "source": [
    "|組別|$\\hat{\\mu_i}$|$\\hat{\\alpha_i}$|\n",
    "|:---:|:---:|:---:|\n",
    "|1|1.932500|0.46736486|\n",
    "|2|1.628750|0.16361486|\n",
    "|3|1.377500|-0.08763514|\n",
    "|4|1.194286|-0.27084942|\n",
    "|5|1.056667|-0.40846847|\n",
    "\n",
    "其中用 lm() 建立的 linear model 中的係數是以 factor(temp)1 當作<font color=#FF0000>reference</font>，其他 factor 與 reference 的差異，故如下表：\n",
    "\n",
    "|組別||$\\hat{\\mu_i}$|\n",
    "|:---:|:---:|:---:|\n",
    "|1|1.932500 =|1.932500|\n",
    "|2|1.932500 - 0.30375 = |1.628750|\n",
    "|3|1.932500 - 0.55500 = |1.377500|\n",
    "|4|1.932500 - 0.73821 = |1.194286|\n",
    "|5|1.932500 - 0.87583 = |1.056667|\n",
    "\n",
    "再計算 $\\bar{y_{..}}$ "
   ]
  },
  {
   "cell_type": "code",
   "execution_count": 8,
   "id": "regional-sender",
   "metadata": {},
   "outputs": [
    {
     "data": {
      "text/html": [
       "1.46513513513514"
      ],
      "text/latex": [
       "1.46513513513514"
      ],
      "text/markdown": [
       "1.46513513513514"
      ],
      "text/plain": [
       "[1] 1.465135"
      ]
     },
     "metadata": {},
     "output_type": "display_data"
    }
   ],
   "source": [
    "mean(resin[, 2])"
   ]
  },
  {
   "cell_type": "markdown",
   "id": "russian-incident",
   "metadata": {},
   "source": [
    "剛剛已經從 linear model 內計算出 $\\hat{\\mu_i}$ 的大小\n",
    "接下來用$\\hat{\\mu_i} - \\bar{y_{..}}$ 即可得到各組的 $\\hat{\\alpha_i}$，如下表：\n",
    "\n",
    "|組別||\\hat{\\alpha_i}|\n",
    "|:--:|:--:|:--:|\n",
    "|1|1.932500-1.465135=|0.46736486|\n",
    "|2|1.628750-1.465135=|0.16361486|\n",
    "|3|1.377500-1.465135=|-0.08763514|\n",
    "|4|1.194286-1.465135=|-0.27084942|\n",
    "|5|1.056667-1.465135=|-0.40846847|\n",
    "\n",
    "### 2. Do Exercise 3.5: obtain also treatment effects\n",
    "\n",
    "讀入資料"
   ]
  },
  {
   "cell_type": "code",
   "execution_count": 9,
   "id": "ancient-timing",
   "metadata": {},
   "outputs": [
    {
     "data": {
      "text/html": [
       "<table>\n",
       "<thead><tr><th scope=col>trt</th><th scope=col>deg</th></tr></thead>\n",
       "<tbody>\n",
       "\t<tr><td>1  </td><td>140</td></tr>\n",
       "\t<tr><td>1  </td><td>138</td></tr>\n",
       "\t<tr><td>1  </td><td>140</td></tr>\n",
       "\t<tr><td>1  </td><td>138</td></tr>\n",
       "\t<tr><td>1  </td><td>142</td></tr>\n",
       "\t<tr><td>2  </td><td>140</td></tr>\n",
       "\t<tr><td>2  </td><td>150</td></tr>\n",
       "\t<tr><td>2  </td><td>120</td></tr>\n",
       "\t<tr><td>2  </td><td>128</td></tr>\n",
       "\t<tr><td>2  </td><td>130</td></tr>\n",
       "\t<tr><td>3  </td><td>118</td></tr>\n",
       "\t<tr><td>3  </td><td>130</td></tr>\n",
       "\t<tr><td>3  </td><td>128</td></tr>\n",
       "\t<tr><td>3  </td><td>118</td></tr>\n",
       "\t<tr><td>3  </td><td>118</td></tr>\n",
       "</tbody>\n",
       "</table>\n"
      ],
      "text/latex": [
       "\\begin{tabular}{r|ll}\n",
       " trt & deg\\\\\n",
       "\\hline\n",
       "\t 1   & 140\\\\\n",
       "\t 1   & 138\\\\\n",
       "\t 1   & 140\\\\\n",
       "\t 1   & 138\\\\\n",
       "\t 1   & 142\\\\\n",
       "\t 2   & 140\\\\\n",
       "\t 2   & 150\\\\\n",
       "\t 2   & 120\\\\\n",
       "\t 2   & 128\\\\\n",
       "\t 2   & 130\\\\\n",
       "\t 3   & 118\\\\\n",
       "\t 3   & 130\\\\\n",
       "\t 3   & 128\\\\\n",
       "\t 3   & 118\\\\\n",
       "\t 3   & 118\\\\\n",
       "\\end{tabular}\n"
      ],
      "text/markdown": [
       "\n",
       "| trt | deg |\n",
       "|---|---|\n",
       "| 1   | 140 |\n",
       "| 1   | 138 |\n",
       "| 1   | 140 |\n",
       "| 1   | 138 |\n",
       "| 1   | 142 |\n",
       "| 2   | 140 |\n",
       "| 2   | 150 |\n",
       "| 2   | 120 |\n",
       "| 2   | 128 |\n",
       "| 2   | 130 |\n",
       "| 3   | 118 |\n",
       "| 3   | 130 |\n",
       "| 3   | 128 |\n",
       "| 3   | 118 |\n",
       "| 3   | 118 |\n",
       "\n"
      ],
      "text/plain": [
       "   trt deg\n",
       "1  1   140\n",
       "2  1   138\n",
       "3  1   140\n",
       "4  1   138\n",
       "5  1   142\n",
       "6  2   140\n",
       "7  2   150\n",
       "8  2   120\n",
       "9  2   128\n",
       "10 2   130\n",
       "11 3   118\n",
       "12 3   130\n",
       "13 3   128\n",
       "14 3   118\n",
       "15 3   118"
      ]
     },
     "metadata": {},
     "output_type": "display_data"
    }
   ],
   "source": [
    "angle = read.table(\"http://www.stat.umn.edu/~gary/book/fcdae.data/ex3.5\", header = T)\n",
    "angle"
   ]
  },
  {
   "cell_type": "markdown",
   "id": "swiss-jersey",
   "metadata": {},
   "source": [
    "建立模型"
   ]
  },
  {
   "cell_type": "code",
   "execution_count": 10,
   "id": "understood-planet",
   "metadata": {},
   "outputs": [
    {
     "data": {
      "text/plain": [
       "\n",
       "Call:\n",
       "lm(formula = deg ~ factor(trt), data = angle)\n",
       "\n",
       "Residuals:\n",
       "   Min     1Q Median     3Q    Max \n",
       " -13.6   -4.4   -1.6    4.0   16.4 \n",
       "\n",
       "Coefficients:\n",
       "             Estimate Std. Error t value Pr(>|t|)    \n",
       "(Intercept)   139.600      3.410  40.941 2.92e-14 ***\n",
       "factor(trt)2   -6.000      4.822  -1.244  0.23716    \n",
       "factor(trt)3  -17.200      4.822  -3.567  0.00387 ** \n",
       "---\n",
       "Signif. codes:  0 ‘***’ 0.001 ‘**’ 0.01 ‘*’ 0.05 ‘.’ 0.1 ‘ ’ 1\n",
       "\n",
       "Residual standard error: 7.625 on 12 degrees of freedom\n",
       "Multiple R-squared:  0.5221,\tAdjusted R-squared:  0.4425 \n",
       "F-statistic: 6.555 on 2 and 12 DF,  p-value: 0.01191\n"
      ]
     },
     "metadata": {},
     "output_type": "display_data"
    }
   ],
   "source": [
    "model = lm(deg ~ factor(trt), data = angle)\n",
    "summary(model)"
   ]
  },
  {
   "cell_type": "markdown",
   "id": "surprised-peoples",
   "metadata": {},
   "source": [
    "寫出 anova table"
   ]
  },
  {
   "cell_type": "code",
   "execution_count": 11,
   "id": "funny-honduras",
   "metadata": {},
   "outputs": [
    {
     "data": {
      "text/html": [
       "<table>\n",
       "<thead><tr><th></th><th scope=col>Df</th><th scope=col>Sum Sq</th><th scope=col>Mean Sq</th><th scope=col>F value</th><th scope=col>Pr(&gt;F)</th></tr></thead>\n",
       "<tbody>\n",
       "\t<tr><th scope=row>factor(trt)</th><td> 2        </td><td>762.1333  </td><td>381.06667 </td><td>6.555046  </td><td>0.01191236</td></tr>\n",
       "\t<tr><th scope=row>Residuals</th><td>12        </td><td>697.6000  </td><td> 58.13333 </td><td>      NA  </td><td>        NA</td></tr>\n",
       "</tbody>\n",
       "</table>\n"
      ],
      "text/latex": [
       "\\begin{tabular}{r|lllll}\n",
       "  & Df & Sum Sq & Mean Sq & F value & Pr(>F)\\\\\n",
       "\\hline\n",
       "\tfactor(trt) &  2         & 762.1333   & 381.06667  & 6.555046   & 0.01191236\\\\\n",
       "\tResiduals & 12         & 697.6000   &  58.13333  &       NA   &         NA\\\\\n",
       "\\end{tabular}\n"
      ],
      "text/markdown": [
       "\n",
       "| <!--/--> | Df | Sum Sq | Mean Sq | F value | Pr(>F) |\n",
       "|---|---|---|---|---|---|\n",
       "| factor(trt) |  2         | 762.1333   | 381.06667  | 6.555046   | 0.01191236 |\n",
       "| Residuals | 12         | 697.6000   |  58.13333  |       NA   |         NA |\n",
       "\n"
      ],
      "text/plain": [
       "            Df Sum Sq   Mean Sq   F value  Pr(>F)    \n",
       "factor(trt)  2 762.1333 381.06667 6.555046 0.01191236\n",
       "Residuals   12 697.6000  58.13333       NA         NA"
      ]
     },
     "metadata": {},
     "output_type": "display_data"
    }
   ],
   "source": [
    "anova(model)"
   ]
  },
  {
   "cell_type": "markdown",
   "id": "copyrighted-amount",
   "metadata": {},
   "source": [
    "先算group_mean再減去整組資料的總平均，也就是 deg 的總平均，用以計算 treatment effects"
   ]
  },
  {
   "cell_type": "code",
   "execution_count": 12,
   "id": "ongoing-consciousness",
   "metadata": {},
   "outputs": [
    {
     "data": {
      "text/html": [
       "<dl class=dl-horizontal>\n",
       "\t<dt>1</dt>\n",
       "\t\t<dd>139.6</dd>\n",
       "\t<dt>2</dt>\n",
       "\t\t<dd>133.6</dd>\n",
       "\t<dt>3</dt>\n",
       "\t\t<dd>122.4</dd>\n",
       "</dl>\n"
      ],
      "text/latex": [
       "\\begin{description*}\n",
       "\\item[1] 139.6\n",
       "\\item[2] 133.6\n",
       "\\item[3] 122.4\n",
       "\\end{description*}\n"
      ],
      "text/markdown": [
       "1\n",
       ":   139.62\n",
       ":   133.63\n",
       ":   122.4\n",
       "\n"
      ],
      "text/plain": [
       "    1     2     3 \n",
       "139.6 133.6 122.4 "
      ]
     },
     "metadata": {},
     "output_type": "display_data"
    }
   ],
   "source": [
    "group_mean = tapply(angle$deg, angle$trt, mean)\n",
    "group_mean"
   ]
  },
  {
   "cell_type": "code",
   "execution_count": 13,
   "id": "coupled-equality",
   "metadata": {},
   "outputs": [
    {
     "data": {
      "text/html": [
       "<dl class=dl-horizontal>\n",
       "\t<dt>1</dt>\n",
       "\t\t<dd>7.73333333333332</dd>\n",
       "\t<dt>2</dt>\n",
       "\t\t<dd>1.73333333333332</dd>\n",
       "\t<dt>3</dt>\n",
       "\t\t<dd>-9.46666666666667</dd>\n",
       "</dl>\n"
      ],
      "text/latex": [
       "\\begin{description*}\n",
       "\\item[1] 7.73333333333332\n",
       "\\item[2] 1.73333333333332\n",
       "\\item[3] -9.46666666666667\n",
       "\\end{description*}\n"
      ],
      "text/markdown": [
       "1\n",
       ":   7.733333333333322\n",
       ":   1.733333333333323\n",
       ":   -9.46666666666667\n",
       "\n"
      ],
      "text/plain": [
       "        1         2         3 \n",
       " 7.733333  1.733333 -9.466667 "
      ]
     },
     "metadata": {},
     "output_type": "display_data"
    }
   ],
   "source": [
    "deg_mean = mean(angle$deg)\n",
    "treatment_effects = group_mean - deg_mean\n",
    "treatment_effects"
   ]
  },
  {
   "cell_type": "markdown",
   "id": "dietary-intro",
   "metadata": {},
   "source": [
    "即可得到各組的 treatment effects"
   ]
  }
 ],
 "metadata": {
  "kernelspec": {
   "display_name": "R",
   "language": "R",
   "name": "ir"
  },
  "language_info": {
   "codemirror_mode": "r",
   "file_extension": ".r",
   "mimetype": "text/x-r-source",
   "name": "R",
   "pygments_lexer": "r",
   "version": "3.6.1"
  }
 },
 "nbformat": 4,
 "nbformat_minor": 5
}
