{
 "cells": [
  {
   "cell_type": "markdown",
   "id": "incorrect-program",
   "metadata": {},
   "source": [
    "### 第一題：obtain group means ($\\mu_i$) and treatment effects ($\\alpha_i$)\n",
    "\n",
    "讀入資料，提取變數"
   ]
  },
  {
   "cell_type": "code",
   "execution_count": 2,
   "id": "cultural-compiler",
   "metadata": {},
   "outputs": [],
   "source": [
    "resin = read.table(\"http://www.stat.umn.edu/~gary/book/fcdae.data/exmpl3.2\", header = T)\n",
    "y = resin$y\n",
    "temp = resin$temp"
   ]
  },
  {
   "cell_type": "markdown",
   "id": "initial-hundred",
   "metadata": {},
   "source": [
    "建立模型"
   ]
  },
  {
   "cell_type": "code",
   "execution_count": 3,
   "id": "dirty-samuel",
   "metadata": {},
   "outputs": [
    {
     "data": {
      "text/plain": [
       "\n",
       "Call:\n",
       "lm(formula = y ~ factor(temp), data = resin)\n",
       "\n",
       "Residuals:\n",
       "     Min       1Q   Median       3Q      Max \n",
       "-0.22667 -0.03667  0.00250  0.03125  0.20333 \n",
       "\n",
       "Coefficients:\n",
       "              Estimate Std. Error t value Pr(>|t|)    \n",
       "(Intercept)    1.93250    0.03387  57.055  < 2e-16 ***\n",
       "factor(temp)2 -0.30375    0.04790  -6.341 4.06e-07 ***\n",
       "factor(temp)3 -0.55500    0.04790 -11.586 5.49e-13 ***\n",
       "factor(temp)4 -0.73821    0.04958 -14.889 6.13e-16 ***\n",
       "factor(temp)5 -0.87583    0.05174 -16.928  < 2e-16 ***\n",
       "---\n",
       "Signif. codes:  0 ‘***’ 0.001 ‘**’ 0.01 ‘*’ 0.05 ‘.’ 0.1 ‘ ’ 1\n",
       "\n",
       "Residual standard error: 0.0958 on 32 degrees of freedom\n",
       "Multiple R-squared:  0.9233,\tAdjusted R-squared:  0.9138 \n",
       "F-statistic: 96.36 on 4 and 32 DF,  p-value: < 2.2e-16\n"
      ]
     },
     "metadata": {},
     "output_type": "display_data"
    }
   ],
   "source": [
    "g = lm(y ~ factor(temp), data = resin)\n",
    "summary(g)"
   ]
  },
  {
   "cell_type": "code",
   "execution_count": 7,
   "id": "compact-assurance",
   "metadata": {},
   "outputs": [
    {
     "name": "stdout",
     "output_type": "stream",
     "text": [
      "Analysis of Variance Table\n",
      "\n",
      "Response: y\n",
      "             Df Sum Sq Mean Sq F value    Pr(>F)    \n",
      "factor(temp)  4 3.5376 0.88441  96.363 < 2.2e-16 ***\n",
      "Residuals    32 0.2937 0.00918                      \n",
      "---\n",
      "Signif. codes:  0 ‘***’ 0.001 ‘**’ 0.01 ‘*’ 0.05 ‘.’ 0.1 ‘ ’ 1\n"
     ]
    }
   ],
   "source": [
    "print(anova(g))"
   ]
  },
  {
   "cell_type": "code",
   "execution_count": 6,
   "id": "seasonal-white",
   "metadata": {},
   "outputs": [
    {
     "name": "stdout",
     "output_type": "stream",
     "text": [
      "[1] 1.465135\n"
     ]
    }
   ],
   "source": [
    "mu_hat = mean(y)\n",
    "print(mu_hat)"
   ]
  },
  {
   "cell_type": "markdown",
   "id": "mature-height",
   "metadata": {},
   "source": [
    "算出分組的平均數"
   ]
  },
  {
   "cell_type": "code",
   "execution_count": 8,
   "id": "mediterranean-bulgaria",
   "metadata": {},
   "outputs": [
    {
     "name": "stdout",
     "output_type": "stream",
     "text": [
      "       1        2        3        4        5 \n",
      "1.932500 1.628750 1.377500 1.194286 1.056667 \n"
     ]
    }
   ],
   "source": [
    "groupmean = tapply(y, temp, mean)\n",
    "print(groupmean)"
   ]
  },
  {
   "cell_type": "markdown",
   "id": "julian-injection",
   "metadata": {},
   "source": [
    "計算 $\\hat{\\alpha}$"
   ]
  },
  {
   "cell_type": "code",
   "execution_count": 10,
   "id": "italic-miller",
   "metadata": {},
   "outputs": [
    {
     "name": "stdout",
     "output_type": "stream",
     "text": [
      "          1           2           3           4           5 \n",
      " 0.46736486  0.16361486 -0.08763514 -0.27084942 -0.40846847 \n"
     ]
    }
   ],
   "source": [
    "alpha_hat = groupmean - mu_hat\n",
    "print(alpha_hat)"
   ]
  },
  {
   "cell_type": "markdown",
   "id": "assured-present",
   "metadata": {},
   "source": [
    "製表"
   ]
  },
  {
   "cell_type": "code",
   "execution_count": 11,
   "id": "italian-lawrence",
   "metadata": {},
   "outputs": [
    {
     "name": "stdout",
     "output_type": "stream",
     "text": [
      "  groupmean   alpha_hat\n",
      "1  1.932500  0.46736486\n",
      "2  1.628750  0.16361486\n",
      "3  1.377500 -0.08763514\n",
      "4  1.194286 -0.27084942\n",
      "5  1.056667 -0.40846847\n"
     ]
    }
   ],
   "source": [
    "table = cbind(groupmean, alpha_hat)\n",
    "print(table)"
   ]
  },
  {
   "cell_type": "markdown",
   "id": "revised-patent",
   "metadata": {},
   "source": [
    "### 第二題：in Example 3.6, obtain ANOVA table"
   ]
  },
  {
   "cell_type": "code",
   "execution_count": 13,
   "id": "partial-berlin",
   "metadata": {},
   "outputs": [
    {
     "name": "stdout",
     "output_type": "stream",
     "text": [
      "Analysis of Variance Table\n",
      "\n",
      "Response: y\n",
      "             Df Sum Sq Mean Sq F value    Pr(>F)    \n",
      "factor(temp)  4 3.5376 0.88441  96.363 < 2.2e-16 ***\n",
      "Residuals    32 0.2937 0.00918                      \n",
      "---\n",
      "Signif. codes:  0 ‘***’ 0.001 ‘**’ 0.01 ‘*’ 0.05 ‘.’ 0.1 ‘ ’ 1\n"
     ]
    }
   ],
   "source": [
    "resin = read.table(\"http://www.stat.umn.edu/~gary/book/fcdae.data/exmpl3.2\", header = T)\n",
    "g1 = lm(y ~ factor(temp), data = resin)\n",
    "print(anova(g1))"
   ]
  }
 ],
 "metadata": {
  "kernelspec": {
   "display_name": "R",
   "language": "R",
   "name": "ir"
  },
  "language_info": {
   "codemirror_mode": "r",
   "file_extension": ".r",
   "mimetype": "text/x-r-source",
   "name": "R",
   "pygments_lexer": "r",
   "version": "3.6.1"
  }
 },
 "nbformat": 4,
 "nbformat_minor": 5
}
