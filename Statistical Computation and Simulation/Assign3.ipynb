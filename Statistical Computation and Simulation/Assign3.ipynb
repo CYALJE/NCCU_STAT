{
  "nbformat": 4,
  "nbformat_minor": 0,
  "metadata": {
    "colab": {
      "name": "Assign3.ipynb",
      "provenance": [],
      "collapsed_sections": []
    },
    "kernelspec": {
      "name": "ir",
      "display_name": "R"
    },
    "language_info": {
      "name": "R"
    }
  },
  "cells": [
    {
      "cell_type": "markdown",
      "metadata": {
        "id": "VZ5Fv7X9gS2Z"
      },
      "source": [
        "1.Given the following data, use the orthogonalization methods such as Cholesky or QR to perform regression analysis, including the parameter estimates and their standard errors via the sweep operator. Note that, to solve the linear equation, you\n",
        "may use the Gauss elimination or use the function “lm” or “glm” in R."
      ]
    },
    {
      "cell_type": "markdown",
      "metadata": {
        "id": "VWuGVOVxgZOj"
      },
      "source": [
        "|$x_1$ Reactor temperature$(^{\\circ}C)$|$x_2$ Ratio of $H_2$ to n-heptane(mole ratio)|$x_3$ Contact time(sec.)|$y$ Conversion of n-heptane to acetylene(%)|\n",
        "|:-:|:-:|:-:|:-:|\n",
        "|1300|7.5|0.0120|49.0|\n",
        "|1300|9.0|0.0120|50.2|\n",
        "|1300|11.0|0.0115|50.5|\n",
        "|1300|13.5|0.0130|48.5|\n",
        "|1300|17.0|0.0135|47.5|\n",
        "|1300|23.0|0.0120|44.5|\n",
        "|1200|5.3|0.0400|28.0|\n",
        "|1200|7.5|0.0380|31.5|\n",
        "|1200|11.0|0.0320|34.5|\n",
        "|1200|13.5|0.0260|35.0|\n",
        "|1200|17.0|0.0340|38.0|\n",
        "|1200|23.0|0.0410|38.5|\n",
        "|1100|5.3|0.0840|15.0|\n",
        "|1100|7.5|0.0980|17.0|\n",
        "|1100|11.0|0.0920|20.5|\n",
        "|1100|17.0|0.0860|29.5|\n",
        "\n",
        "It is anticipated that an equation of the following form would fit the data\n",
        "\n",
        "$E(Y) = \\beta_0 + \\sum{\\beta_iX_i} + \\sum{\\beta_{ii}X^2_i} + \\sum_{i<j}{\\beta_{ij}X_i X_j}$, and $Var(Y)=\\sigma^2$"
      ]
    },
    {
      "cell_type": "code",
      "metadata": {
        "colab": {
          "base_uri": "https://localhost:8080/"
        },
        "id": "xLv1W5foqXKv",
        "outputId": "0515966c-54a5-4272-943e-2ea4444cfeaa"
      },
      "source": [
        "data1 = data.frame(x1 = c(rep(1300, 6), rep(1200, 6), rep(1100, 4)),\n",
        "                  x2 = c(7.5, 9.0, 11.0, 13.5, 17.0, 23.0, 5.3, 7.5, 11.0, 13.5, 17.0, 23.0, 5.3, 7.5, 11.0, 17.0),\n",
        "                  x3 = c(0.012, 0.012, 0.0115, 0.013, 0.0135, 0.012, 0.04, 0.038, 0.032, 0.026, 0.034, 0.041, 0.084, 0.098, 0.092, 0.086),\n",
        "                  y = c(49.0, 50.2, 50.5, 48.5, 47.5, 44.5, 28.0, 31.5, 34.5, 35.0, 38.0, 38.5, 15.0, 17.0, 20.5, 29.5))\n",
        "data = data.frame(data1, x1_sq = data1$x1^2, x2_sq = data1$x2^2, x3_sq = data1$x3^2, x1x2 = data1$x1 * data1$x2, x1x3 = data1$x1 * data1$x3, x2x3 = data1$x2 * data1$x3)\n",
        "print(head(data, 10))"
      ],
      "execution_count": 1,
      "outputs": [
        {
          "output_type": "stream",
          "text": [
            "     x1   x2     x3    y   x1_sq  x2_sq      x3_sq  x1x2  x1x3   x2x3\n",
            "1  1300  7.5 0.0120 49.0 1690000  56.25 0.00014400  9750 15.60 0.0900\n",
            "2  1300  9.0 0.0120 50.2 1690000  81.00 0.00014400 11700 15.60 0.1080\n",
            "3  1300 11.0 0.0115 50.5 1690000 121.00 0.00013225 14300 14.95 0.1265\n",
            "4  1300 13.5 0.0130 48.5 1690000 182.25 0.00016900 17550 16.90 0.1755\n",
            "5  1300 17.0 0.0135 47.5 1690000 289.00 0.00018225 22100 17.55 0.2295\n",
            "6  1300 23.0 0.0120 44.5 1690000 529.00 0.00014400 29900 15.60 0.2760\n",
            "7  1200  5.3 0.0400 28.0 1440000  28.09 0.00160000  6360 48.00 0.2120\n",
            "8  1200  7.5 0.0380 31.5 1440000  56.25 0.00144400  9000 45.60 0.2850\n",
            "9  1200 11.0 0.0320 34.5 1440000 121.00 0.00102400 13200 38.40 0.3520\n",
            "10 1200 13.5 0.0260 35.0 1440000 182.25 0.00067600 16200 31.20 0.3510\n"
          ],
          "name": "stdout"
        }
      ]
    },
    {
      "cell_type": "code",
      "metadata": {
        "id": "ZWamYLaBrI3G",
        "colab": {
          "base_uri": "https://localhost:8080/"
        },
        "outputId": "f3a594db-a19a-4bb0-8a5d-2ab2fd340881"
      },
      "source": [
        "X = data[, -4]\n",
        "X = cbind(intercept = rep(1, 16), X)\n",
        "X = as.matrix(X, ncol = 4)\n",
        "y = as.matrix(data[, 4])\n",
        "print(head(X))"
      ],
      "execution_count": null,
      "outputs": [
        {
          "output_type": "stream",
          "text": [
            "     intercept   x1   x2     x3   x1_sq  x2_sq      x3_sq  x1x2  x1x3   x2x3\n",
            "[1,]         1 1300  7.5 0.0120 1690000  56.25 0.00014400  9750 15.60 0.0900\n",
            "[2,]         1 1300  9.0 0.0120 1690000  81.00 0.00014400 11700 15.60 0.1080\n",
            "[3,]         1 1300 11.0 0.0115 1690000 121.00 0.00013225 14300 14.95 0.1265\n",
            "[4,]         1 1300 13.5 0.0130 1690000 182.25 0.00016900 17550 16.90 0.1755\n",
            "[5,]         1 1300 17.0 0.0135 1690000 289.00 0.00018225 22100 17.55 0.2295\n",
            "[6,]         1 1300 23.0 0.0120 1690000 529.00 0.00014400 29900 15.60 0.2760\n"
          ],
          "name": "stdout"
        }
      ]
    },
    {
      "cell_type": "code",
      "metadata": {
        "colab": {
          "base_uri": "https://localhost:8080/"
        },
        "id": "LbhnvkIRtOeR",
        "outputId": "ee3b0bb4-1d4b-4ddb-83cc-3bb52c58bfee"
      },
      "source": [
        "x = qr(X)\n",
        "Q = qr.Q(x)\n",
        "R = qr.R(x)\n",
        "beta = solve(R) %*% t(Q) %*% y\n",
        "print(round(beta, 4))"
      ],
      "execution_count": null,
      "outputs": [
        {
          "output_type": "stream",
          "text": [
            "                 [,1]\n",
            "intercept  -3617.2278\n",
            "x1             5.3243\n",
            "x2            19.2440\n",
            "x3         13766.3211\n",
            "x1_sq         -0.0019\n",
            "x2_sq         -0.0303\n",
            "x3_sq     -11581.6834\n",
            "x1x2          -0.0141\n",
            "x1x3         -10.5773\n",
            "x2x3         -21.0348\n"
          ],
          "name": "stdout"
        }
      ]
    },
    {
      "cell_type": "code",
      "metadata": {
        "colab": {
          "base_uri": "https://localhost:8080/"
        },
        "id": "Gd-bhNnmz41w",
        "outputId": "e56675dc-d3bd-4329-b07d-bb02b25104b0"
      },
      "source": [
        "y_hat = X %*% as.matrix(beta)\n",
        "residual = y - y_hat\n",
        "sigma_hat = sqrt(sum(residual^2) / 6)\n",
        "sigma_hat_sq = sigma_hat^2\n",
        "print(sigma_hat_sq)"
      ],
      "execution_count": null,
      "outputs": [
        {
          "output_type": "stream",
          "text": [
            "[1] 0.8125974\n"
          ],
          "name": "stdout"
        }
      ]
    },
    {
      "cell_type": "code",
      "metadata": {
        "colab": {
          "base_uri": "https://localhost:8080/",
          "height": 476
        },
        "id": "Dc3HT9dMqX9Z",
        "outputId": "abe96d77-db6f-42cc-8b47-2319e7b5f068"
      },
      "source": [
        "lm1 = lm(y ~ x1 + x2 + x3 + I(x1^2) + I(x2^2) + I(x3^2) + I(x1*x2) + I(x2 * x3) + I(x1 * x3), data = data)\n",
        "summary(lm1)"
      ],
      "execution_count": null,
      "outputs": [
        {
          "output_type": "display_data",
          "data": {
            "text/plain": [
              "\n",
              "Call:\n",
              "lm(formula = y ~ x1 + x2 + x3 + I(x1^2) + I(x2^2) + I(x3^2) + \n",
              "    I(x1 * x2) + I(x2 * x3) + I(x1 * x3), data = data)\n",
              "\n",
              "Residuals:\n",
              "    Min      1Q  Median      3Q     Max \n",
              "-1.3499 -0.3411  0.1297  0.5011  0.6720 \n",
              "\n",
              "Coefficients:\n",
              "              Estimate Std. Error t value Pr(>|t|)   \n",
              "(Intercept) -3.617e+03  3.136e+03  -1.153  0.29260   \n",
              "x1           5.324e+00  4.879e+00   1.091  0.31706   \n",
              "x2           1.924e+01  4.303e+00   4.472  0.00423 **\n",
              "x3           1.377e+04  1.045e+04   1.318  0.23572   \n",
              "I(x1^2)     -1.927e-03  1.896e-03  -1.016  0.34874   \n",
              "I(x2^2)     -3.034e-02  1.168e-02  -2.597  0.04084 * \n",
              "I(x3^2)     -1.158e+04  7.699e+03  -1.504  0.18318   \n",
              "I(x1 * x2)  -1.414e-02  3.212e-03  -4.404  0.00455 **\n",
              "I(x2 * x3)  -2.103e+01  9.241e+00  -2.276  0.06312 . \n",
              "I(x1 * x3)  -1.058e+01  8.241e+00  -1.283  0.24666   \n",
              "---\n",
              "Signif. codes:  0 ‘***’ 0.001 ‘**’ 0.01 ‘*’ 0.05 ‘.’ 0.1 ‘ ’ 1\n",
              "\n",
              "Residual standard error: 0.9014 on 6 degrees of freedom\n",
              "Multiple R-squared:  0.9977,\tAdjusted R-squared:  0.9943 \n",
              "F-statistic: 289.7 on 9 and 6 DF,  p-value: 3.225e-07\n"
            ]
          },
          "metadata": {
            "tags": []
          }
        }
      ]
    },
    {
      "cell_type": "markdown",
      "metadata": {
        "id": "VWNllY6v12ub"
      },
      "source": [
        "+ 一開始先把需要的 model matrix X 以及 response y 先藉由切割 data 準備好，X 需要加上 intercept，再將 X 做 QR decomposition，藉由 $R \\hat{\\beta} = Q'Y$ 求出 $\\beta$ 的估計量 $\\hat{\\beta}$，再使用求出的估計量求出每個估計量的 std，經過求算，結果與直接使用`lm()`指令所得的結果相同。"
      ]
    },
    {
      "cell_type": "markdown",
      "metadata": {
        "id": "qOQdl3YcgZXx"
      },
      "source": [
        "2.Figure a way to find the parameters of AR(1) and AR(2) models for the data “lynx” in R. Also, apply statistical software such as R, SAS, SPSS, and Minitab to get estimates for the AR(1) and AR(2) model and compare them to those from your program."
      ]
    },
    {
      "cell_type": "code",
      "metadata": {
        "colab": {
          "base_uri": "https://localhost:8080/"
        },
        "id": "vRZknewZ0IX_",
        "outputId": "4a46f68f-50aa-4a45-8804-cfe3be6593a3"
      },
      "source": [
        "print(lynx)"
      ],
      "execution_count": null,
      "outputs": [
        {
          "output_type": "stream",
          "text": [
            "Time Series:\n",
            "Start = 1821 \n",
            "End = 1934 \n",
            "Frequency = 1 \n",
            "  [1]  269  321  585  871 1475 2821 3928 5943 4950 2577  523   98  184  279  409\n",
            " [16] 2285 2685 3409 1824  409  151   45   68  213  546 1033 2129 2536  957  361\n",
            " [31]  377  225  360  731 1638 2725 2871 2119  684  299  236  245  552 1623 3311\n",
            " [46] 6721 4254  687  255  473  358  784 1594 1676 2251 1426  756  299  201  229\n",
            " [61]  469  736 2042 2811 4431 2511  389   73   39   49   59  188  377 1292 4031\n",
            " [76] 3495  587  105  153  387  758 1307 3465 6991 6313 3794 1836  345  382  808\n",
            " [91] 1388 2713 3800 3091 2985 3790  674   81   80  108  229  399 1132 2432 3574\n",
            "[106] 2935 1537  529  485  662 1000 1590 2657 3396\n"
          ],
          "name": "stdout"
        }
      ]
    },
    {
      "cell_type": "code",
      "metadata": {
        "colab": {
          "base_uri": "https://localhost:8080/",
          "height": 680
        },
        "id": "UHTp26Ih7B6x",
        "outputId": "b5480b41-694e-4467-f15f-f4b7af404148"
      },
      "source": [
        "df = data.frame(lynx)\n",
        "# for AR(1)\n",
        "response1 = df[2:114, ]\n",
        "x1 = df[1:113, ]\n",
        "lm1 = lm(response1 ~ x1)\n",
        "summary(lm1)\n",
        "cat(\"=====================================================================\\n\")\n",
        "# for AR(2)\n",
        "response2 = df[3:114, ]\n",
        "X1 = df[2:113, ]\n",
        "X2 = df[1:112, ]\n",
        "lm2 = lm(response2 ~ X1 + X2)\n",
        "summary(lm2)\n",
        "\n",
        "mu = mean(lynx)\n",
        "print(mu)"
      ],
      "execution_count": null,
      "outputs": [
        {
          "output_type": "display_data",
          "data": {
            "text/plain": [
              "\n",
              "Call:\n",
              "lm(formula = response1 ~ x1)\n",
              "\n",
              "Residuals:\n",
              "    Min      1Q  Median      3Q     Max \n",
              "-2828.8  -517.8  -177.3   566.5  4043.0 \n",
              "\n",
              "Coefficients:\n",
              "             Estimate Std. Error t value Pr(>|t|)    \n",
              "(Intercept) 454.15168  145.35094   3.125  0.00227 ** \n",
              "x1            0.71971    0.06635  10.847  < 2e-16 ***\n",
              "---\n",
              "Signif. codes:  0 ‘***’ 0.001 ‘**’ 0.01 ‘*’ 0.05 ‘.’ 0.1 ‘ ’ 1\n",
              "\n",
              "Residual standard error: 1112 on 111 degrees of freedom\n",
              "Multiple R-squared:  0.5146,\tAdjusted R-squared:  0.5102 \n",
              "F-statistic: 117.7 on 1 and 111 DF,  p-value: < 2.2e-16\n"
            ]
          },
          "metadata": {
            "tags": []
          }
        },
        {
          "output_type": "stream",
          "text": [
            "=====================================================================\n"
          ],
          "name": "stdout"
        },
        {
          "output_type": "display_data",
          "data": {
            "text/plain": [
              "\n",
              "Call:\n",
              "lm(formula = response2 ~ X1 + X2)\n",
              "\n",
              "Residuals:\n",
              "    Min      1Q  Median      3Q     Max \n",
              "-2594.2  -454.2  -204.3   428.2  3179.1 \n",
              "\n",
              "Coefficients:\n",
              "             Estimate Std. Error t value Pr(>|t|)    \n",
              "(Intercept) 710.10559  121.84070   5.828 5.78e-08 ***\n",
              "X1            1.15242    0.07658  15.049  < 2e-16 ***\n",
              "X2           -0.60623    0.07654  -7.920 2.16e-12 ***\n",
              "---\n",
              "Signif. codes:  0 ‘***’ 0.001 ‘**’ 0.01 ‘*’ 0.05 ‘.’ 0.1 ‘ ’ 1\n",
              "\n",
              "Residual standard error: 893.3 on 109 degrees of freedom\n",
              "Multiple R-squared:  0.6905,\tAdjusted R-squared:  0.6848 \n",
              "F-statistic: 121.6 on 2 and 109 DF,  p-value: < 2.2e-16\n"
            ]
          },
          "metadata": {
            "tags": []
          }
        },
        {
          "output_type": "stream",
          "text": [
            "[1] 1538.018\n"
          ],
          "name": "stdout"
        }
      ]
    },
    {
      "cell_type": "code",
      "metadata": {
        "colab": {
          "base_uri": "https://localhost:8080/"
        },
        "id": "CekgjyEb-aca",
        "outputId": "7546fe19-4010-46e7-b375-de02849468c7"
      },
      "source": [
        "# YW method\n",
        "# for AR(1)\n",
        "rho1 = cor(df[-1, ], df[-114, ])\n",
        "mu = mean(lynx)\n",
        "beta0_hat = mu * (1 - rho1)\n",
        "cat(\"rho1:\", rho1, \"beta0_hat:\", beta0_hat, \"mu:\", mu)"
      ],
      "execution_count": null,
      "outputs": [
        {
          "output_type": "stream",
          "text": [
            "rho1: 0.7173419 beta0_hat: 434.7331 mu: 1538.018"
          ],
          "name": "stdout"
        }
      ]
    },
    {
      "cell_type": "code",
      "metadata": {
        "colab": {
          "base_uri": "https://localhost:8080/"
        },
        "id": "YVwll6I2TXEt",
        "outputId": "caf76483-7ae2-484c-8afa-3f734a31800e"
      },
      "source": [
        "# YW method\n",
        "# for AR(2)\n",
        "rho1 = cor(df[-114, ], df[-1, ])\n",
        "rho2 = cor(df[-c(113, 114), ], df[-c(1, 2), ])\n",
        "phi2 = (rho2 - rho1^2) / (1 - rho1^2)\n",
        "phi1 = (1 - phi2) * rho1\n",
        "cat(\"rho1:\", rho1, \"rho2:\", rho2, \"phi1:\", phi1, \"phi2:\", phi2)"
      ],
      "execution_count": null,
      "outputs": [
        {
          "output_type": "stream",
          "text": [
            "rho1: 0.7173419 rho2: 0.2176821 phi1: 1.156089 phi2: -0.6116292"
          ],
          "name": "stdout"
        }
      ]
    },
    {
      "cell_type": "code",
      "metadata": {
        "colab": {
          "base_uri": "https://localhost:8080/",
          "height": 1000
        },
        "id": "LH6KYtmTBQGE",
        "outputId": "cd9e23b1-a7b9-42fe-ba94-327bc78fff43"
      },
      "source": [
        "# from software\n",
        "# OLS\n",
        "cat(\"For AR(1)\")\n",
        "ar(lynx, method = \"ols\", order.max = 1)\n",
        "cat('==================================================================================\\n')\n",
        "# Y-W method\n",
        "ar(lynx, method = \"yw\", order.max = 1)\n",
        "cat('==================================================================================\\n')\n",
        "# R default\n",
        "ar(lynx, order.max = 1)\n",
        "cat('==================================================================================\\n')\n",
        "cat('==================================================================================\\n')\n",
        "cat(\"For AR(2)\")\n",
        "# OLS\n",
        "ar(lynx, method = \"ols\", order.max = 2)\n",
        "cat('==================================================================================\\n')\n",
        "# Y-W method\n",
        "ar(lynx, method = \"yw\", order.max = 2)\n",
        "cat('==================================================================================\\n')\n",
        "# R default\n",
        "ar(lynx, order.max = 2)"
      ],
      "execution_count": null,
      "outputs": [
        {
          "output_type": "stream",
          "text": [
            "For AR(1)"
          ],
          "name": "stdout"
        },
        {
          "output_type": "display_data",
          "data": {
            "text/plain": [
              "\n",
              "Call:\n",
              "ar(x = lynx, order.max = 1, method = \"ols\")\n",
              "\n",
              "Coefficients:\n",
              "     1  \n",
              "0.7197  \n",
              "\n",
              "Intercept: 23.06 (103.6) \n",
              "\n",
              "Order selected 1  sigma^2 estimated as  1213805"
            ]
          },
          "metadata": {
            "tags": []
          }
        },
        {
          "output_type": "stream",
          "text": [
            "==================================================================================\n"
          ],
          "name": "stdout"
        },
        {
          "output_type": "display_data",
          "data": {
            "text/plain": [
              "\n",
              "Call:\n",
              "ar(x = lynx, order.max = 1, method = \"yw\")\n",
              "\n",
              "Coefficients:\n",
              "     1  \n",
              "0.7108  \n",
              "\n",
              "Order selected 1  sigma^2 estimated as  1255323"
            ]
          },
          "metadata": {
            "tags": []
          }
        },
        {
          "output_type": "stream",
          "text": [
            "==================================================================================\n"
          ],
          "name": "stdout"
        },
        {
          "output_type": "display_data",
          "data": {
            "text/plain": [
              "\n",
              "Call:\n",
              "ar(x = lynx, order.max = 1)\n",
              "\n",
              "Coefficients:\n",
              "     1  \n",
              "0.7108  \n",
              "\n",
              "Order selected 1  sigma^2 estimated as  1255323"
            ]
          },
          "metadata": {
            "tags": []
          }
        },
        {
          "output_type": "stream",
          "text": [
            "==================================================================================\n",
            "==================================================================================\n",
            "For AR(2)"
          ],
          "name": "stdout"
        },
        {
          "output_type": "display_data",
          "data": {
            "text/plain": [
              "\n",
              "Call:\n",
              "ar(x = lynx, order.max = 2, method = \"ols\")\n",
              "\n",
              "Coefficients:\n",
              "      1        2  \n",
              " 1.1524  -0.6062  \n",
              "\n",
              "Intercept: 12.14 (83.29) \n",
              "\n",
              "Order selected 2  sigma^2 estimated as  776677"
            ]
          },
          "metadata": {
            "tags": []
          }
        },
        {
          "output_type": "stream",
          "text": [
            "==================================================================================\n"
          ],
          "name": "stdout"
        },
        {
          "output_type": "display_data",
          "data": {
            "text/plain": [
              "\n",
              "Call:\n",
              "ar(x = lynx, order.max = 2, method = \"yw\")\n",
              "\n",
              "Coefficients:\n",
              "      1        2  \n",
              " 1.1287  -0.5879  \n",
              "\n",
              "Order selected 2  sigma^2 estimated as  828863"
            ]
          },
          "metadata": {
            "tags": []
          }
        },
        {
          "output_type": "stream",
          "text": [
            "==================================================================================\n"
          ],
          "name": "stdout"
        },
        {
          "output_type": "display_data",
          "data": {
            "text/plain": [
              "\n",
              "Call:\n",
              "ar(x = lynx, order.max = 2)\n",
              "\n",
              "Coefficients:\n",
              "      1        2  \n",
              " 1.1287  -0.5879  \n",
              "\n",
              "Order selected 2  sigma^2 estimated as  828863"
            ]
          },
          "metadata": {
            "tags": []
          }
        }
      ]
    },
    {
      "cell_type": "markdown",
      "metadata": {
        "id": "Zc81qyUJVCmK"
      },
      "source": [
        "|AR(1)|Default(R)|OLS(R)|YW method(R)|OLS(manual)|YW method(manual)|\n",
        "|:-:|:-:|:-:|:-:|:-:|:-:|\n",
        "|$\\hat{\\phi_1}$|0.7108|0.7197|0.7108|0.71971|0.7173419|\n",
        "\n",
        "\n",
        "\n",
        "|AR(2)|Default(R)|OLS(R)|YW method(R)|OLS(manual)|YW method(manual)|\n",
        "|:-:|:-:|:-:|:-:|:-:|:-:|\n",
        "|$\\hat{\\phi_1}$|1.1287|1.1524|1.1287|1.15242|1.156089|\n",
        "|$\\hat{\\phi_2}$|-0.5879|-0.6062|-0.5879|-0.60623|-0.6116292|\n"
      ]
    },
    {
      "cell_type": "markdown",
      "metadata": {
        "id": "oRWjTn7xgZbu"
      },
      "source": [
        "3.Singular Value Decomposition (SVD) and Principal Component Analysis (PCA) both can be used to reduce the data dimensionality. Please go to the webpage of Ministry of Interior and download Taiwan mortality data, 17 five-age groups for ages 0 ~ 4, 5 ~ 9, ..., 80 ~ 84 in 1991-2015, and use these data to demonstrate how these two methods work. The data of the years 1991-2010 are used as the “training” (in-sample) data and the years 2010-2015 are used as the “testing” (out-sample) data. Comments on your findings.\n"
      ]
    },
    {
      "cell_type": "code",
      "metadata": {
        "id": "YxhjXXTIM6CJ",
        "colab": {
          "base_uri": "https://localhost:8080/"
        },
        "outputId": "6b69c4ec-9467-405a-915d-c3ed91c5d3b5"
      },
      "source": [
        "# SVD\n",
        "install.packages(\"MLmetrics\")\n",
        "install.packages(\"readxl\")\n",
        "library(readxl)\n",
        "library(MLmetrics)\n",
        "library(\"readxl\")\n",
        "\n",
        "mortality = t(read.csv(\"mortality.csv\", header = T))\n",
        "train = log(mortality[, 1:19])\n",
        "test = mortality[, 20:24]\n",
        "\n",
        "a = matrix(apply(train, 1, mean))\n",
        "y = train - matrix(rep(a, 19), ncol = 19)\n",
        "aa = svd(y)\n",
        "b = matrix((1 / sum(aa$u[, 1])) * aa$u[, 1])\n",
        "k = matrix(sum(aa$u[,1]) * (aa$d[1]) * (aa$v[, 1]))\n",
        "tsdata = ts(k, start = c(1992), end = (2010), frequency = 1)\n",
        "k.fit = ar.ols(tsdata, order = 1)\n",
        "\n",
        "for (i in c(20:24)){\n",
        "  k[i] = k.fit$x.intercept + k.fit$ar * k[i-1]\n",
        "}\n",
        "\n",
        "result = exp(matrix(rep(a, 5),ncol = 5) + b %*% t(matrix(k[20:24])))\n",
        "print(t(result))\n",
        "print(MAPE(result, test))"
      ],
      "execution_count": 12,
      "outputs": [
        {
          "output_type": "stream",
          "text": [
            "Installing package into ‘/usr/local/lib/R/site-library’\n",
            "(as ‘lib’ is unspecified)\n",
            "\n",
            "Installing package into ‘/usr/local/lib/R/site-library’\n",
            "(as ‘lib’ is unspecified)\n",
            "\n"
          ],
          "name": "stderr"
        },
        {
          "output_type": "stream",
          "text": [
            "            [,1]         [,2]         [,3]         [,4]         [,5]\n",
            "[1,] 0.001174991 0.0001515412 0.0001474879 0.0004719898 0.0006862635\n",
            "[2,] 0.001143483 0.0001454445 0.0001399936 0.0004469873 0.0006600090\n",
            "[3,] 0.001112840 0.0001395968 0.0001328848 0.0004233246 0.0006347754\n",
            "[4,] 0.001083038 0.0001339879 0.0001261413 0.0004009290 0.0006105223\n",
            "[5,] 0.001054053 0.0001286078 0.0001197442 0.0003797319 0.0005872110\n",
            "             [,6]        [,7]        [,8]        [,9]       [,10]       [,11]\n",
            "[1,] 0.0009639908 0.001501116 0.002428921 0.003627671 0.004887114 0.006350775\n",
            "[2,] 0.0009362436 0.001474125 0.002411524 0.003618742 0.004865425 0.006272982\n",
            "[3,] 0.0009093127 0.001447636 0.002394264 0.003609840 0.004843847 0.006196193\n",
            "[4,] 0.0008831736 0.001421641 0.002377138 0.003600966 0.004822378 0.006120393\n",
            "[5,] 0.0008578025 0.001396129 0.002360146 0.003592120 0.004801019 0.006045571\n",
            "           [,12]      [,13]      [,14]      [,15]      [,16]      [,17]\n",
            "[1,] 0.008720137 0.01276602 0.02005064 0.03140678 0.04784809 0.07204180\n",
            "[2,] 0.008573448 0.01252518 0.01977014 0.03103005 0.04714636 0.07083290\n",
            "[3,] 0.008429321 0.01228903 0.01949375 0.03065808 0.04645538 0.06964507\n",
            "[4,] 0.008287710 0.01205749 0.01922141 0.03029082 0.04577498 0.06847793\n",
            "[5,] 0.008148570 0.01183046 0.01895305 0.02992819 0.04510498 0.06733110\n",
            "[1] 0.08186785\n"
          ],
          "name": "stdout"
        }
      ]
    },
    {
      "cell_type": "code",
      "metadata": {
        "colab": {
          "base_uri": "https://localhost:8080/",
          "height": 130
        },
        "id": "HBveH1UZSBpY",
        "outputId": "d9d3016e-db1e-4169-957d-a91bed306557"
      },
      "source": [
        "# pca\n",
        "mortality = t(mortality)\n",
        "pca.mortality = prcomp(mortality[1:19,], scale = TRUE)\n",
        "PC1 = ts(pca.mortality$x[, 'PC1'], start = c(1992), end = (2010), frequency = 1)\n",
        "k_pca = as.vector(pca.mortality$x[,'PC1'])\n",
        "k_pca.fit = ar.ols(PC1, order = 1)\n",
        "for (i in c(20:24)){\n",
        "  k_pca[i] = k_pca.fit$x.intercept + k_pca.fit$ar*k_pca[i - 1]\n",
        "}\n",
        "b = pca.mortality$rotation[, \"PC1\"]\n",
        "options(scipen = 999)\n",
        "result = exp(matrix(rep(a, 5), ncol = 5) + b %*% t(matrix(k_pca[20:24])))\n",
        "library(MLmetrics)\n",
        "print(t(result))\n",
        "print(MAPE(result, test))"
      ],
      "execution_count": 11,
      "outputs": [
        {
          "output_type": "error",
          "ename": "ERROR",
          "evalue": "ignored",
          "traceback": [
            "Error in mortality[1:19, ]: subscript out of bounds\nTraceback:\n",
            "1. prcomp(mortality[1:19, ], scale = TRUE)"
          ]
        }
      ]
    },
    {
      "cell_type": "markdown",
      "metadata": {
        "id": "dwLUZAmIgZf0"
      },
      "source": [
        "4.(a) Write a small program to perform the “Permutation test” and test your result on the correlation of DDT vs. eggshell thickness in class, and the following data:\n",
        "\n",
        "|X|585|1002|472|493|408|690|291|\n",
        "|:-:|:-:|:-:|:-:|:-:|:-:|:-:|:-:|\n",
        "|Y|0.1|0.2|0.5|1.0|1.5|2.0|3.0|\n",
        "\n",
        "Check your answer with other correlation tests, such as regular Pearson and\n",
        "Spearman correlation coefficients."
      ]
    },
    {
      "cell_type": "code",
      "metadata": {
        "colab": {
          "base_uri": "https://localhost:8080/"
        },
        "id": "XwXgw98Q11hn",
        "outputId": "84753906-00d8-4bc0-b4c5-942c698ef5c9"
      },
      "source": [
        "install.packages(\"gtools\")"
      ],
      "execution_count": null,
      "outputs": [
        {
          "output_type": "stream",
          "text": [
            "Installing package into ‘/usr/local/lib/R/site-library’\n",
            "(as ‘lib’ is unspecified)\n",
            "\n"
          ],
          "name": "stderr"
        }
      ]
    },
    {
      "cell_type": "code",
      "metadata": {
        "colab": {
          "base_uri": "https://localhost:8080/",
          "height": 680
        },
        "id": "WWeUUrj51wnK",
        "outputId": "57d618b6-92b2-414f-8fda-9738b1fdf842"
      },
      "source": [
        "library(gtools)\n",
        "# permutation\n",
        "x = c(65, 98, 117, 122, 130)\n",
        "y = c(.52, .53, .49, .49, .37)\n",
        "data = rbind(x, y)\n",
        "r = permutations(5, 5)\n",
        "obs = sum(x * y)\n",
        "print(obs)\n",
        "s = NA\n",
        "for (i in 1:120){\n",
        "    s[i] = sum(x * y[r[i,]])\n",
        "}\n",
        "\n",
        "# simulation\n",
        "table = NULL\n",
        "for (i in 1:10000){\n",
        "    a = sample(c(1, 2, 3, 4, 5), 5, replace = FALSE)\n",
        "    b = sample(c(1, 2, 3, 4, 5), 5, replace = FALSE)\n",
        "    value = sum(x[c(a)] * y[c(b)])\n",
        "    table = c(table, value)\n",
        "}\n",
        "print(table(table))\n",
        "\n",
        "\n",
        "num = sum(s >= obs)\n",
        "p = (120 - num) / 120 # p=0.0167 reject H0 x、y呈負相關\n",
        "print(p)\n",
        "cat(\"==========================================================\\n\")\n",
        "# pearson\n",
        "print(cor(x, y))\n",
        "cor.test(x, y, method = \"pearson\") #$p.value\n",
        "cat(\"==========================================================\\n\")\n",
        "# spearman\n",
        "print(cor(x, y, method = \"spearman\"))\n",
        "cor.test(x, y, method = \"spearman\") #$p.value"
      ],
      "execution_count": null,
      "outputs": [
        {
          "output_type": "stream",
          "text": [
            "[1] 250.95\n",
            "table\n",
            "250.62 250.95 251.19 251.34 251.58 251.71 251.91 252.15 252.18 252.51 252.54 \n",
            "   173    187    174    141    135    172    281    154    170    345    158 \n",
            "252.66 252.67  252.7  252.9 253.14 253.19 253.42 253.47 253.66 253.79 253.86 \n",
            "   162    157    181    342    183    183    169    454    175    163    170 \n",
            "254.18 254.22 254.46 254.62 254.75 254.78 255.03 255.18 255.42  255.5 255.55 \n",
            "   165    168    322    146    179    183    169    169    331    168    191 \n",
            "255.75 256.07 257.26 257.31  257.5 257.63  257.7 257.78 260.31 260.46  260.5 \n",
            "   171    164    168    182    170    177    181    162    167    180    148 \n",
            " 260.7 261.02 261.22 261.27 261.46 261.59 261.66 261.74 \n",
            "   339    173    154    174    179    169    160    162 \n",
            "[1] 0.01666667\n",
            "==========================================================\n",
            "[1] -0.6630711\n"
          ],
          "name": "stdout"
        },
        {
          "output_type": "display_data",
          "data": {
            "text/plain": [
              "\n",
              "\tPearson's product-moment correlation\n",
              "\n",
              "data:  x and y\n",
              "t = -1.5343, df = 3, p-value = 0.2225\n",
              "alternative hypothesis: true correlation is not equal to 0\n",
              "95 percent confidence interval:\n",
              " -0.9749731  0.5281884\n",
              "sample estimates:\n",
              "       cor \n",
              "-0.6630711 \n"
            ]
          },
          "metadata": {
            "tags": []
          }
        },
        {
          "output_type": "stream",
          "text": [
            "==========================================================\n",
            "[1] -0.8720816\n"
          ],
          "name": "stdout"
        },
        {
          "output_type": "stream",
          "text": [
            "Warning message in cor.test.default(x, y, method = \"spearman\"):\n",
            "“Cannot compute exact p-value with ties”\n"
          ],
          "name": "stderr"
        },
        {
          "output_type": "display_data",
          "data": {
            "text/plain": [
              "\n",
              "\tSpearman's rank correlation rho\n",
              "\n",
              "data:  x and y\n",
              "S = 37.442, p-value = 0.05385\n",
              "alternative hypothesis: true rho is not equal to 0\n",
              "sample estimates:\n",
              "       rho \n",
              "-0.8720816 \n"
            ]
          },
          "metadata": {
            "tags": []
          }
        }
      ]
    },
    {
      "cell_type": "code",
      "metadata": {
        "colab": {
          "base_uri": "https://localhost:8080/",
          "height": 493
        },
        "id": "eZPPkWYs2k64",
        "outputId": "b33bd474-a8d0-47cf-8d1d-69ce5be7a57b"
      },
      "source": [
        "X = c(585, 1002, 472, 493, 408, 690, 291)\n",
        "Y = c(.1, .2, .5, 1.0, 1.5, 2.0, 3.0)\n",
        "\n",
        "Data = rbind(X, Y)\n",
        "r = permutations(7, 7)\n",
        "obs = sum(X * Y)\n",
        "print(obs)\n",
        "s = NA\n",
        "for (i in 1:3432){\n",
        "    s[i] = sum(X * Y[r[i,]])\n",
        "}\n",
        "print(sum(s < 3852.9))\n",
        "\n",
        "\n",
        "# simulation\n",
        "table = NULL\n",
        "for (i in 1:10000){\n",
        "    a = sample(c(1, 2, 3, 4, 5, 6, 7), 7, replace = FALSE)\n",
        "    b = sample(c(1, 2, 3, 4, 5, 6, 7), 7, replace = FALSE)\n",
        "    value = sum(X[c(a)] * Y[c(b)])\n",
        "    table = c(table, value)\n",
        "}\n",
        "print(sum(table < 3852.9))\n",
        "\n",
        "num = sum(s >= obs)\n",
        "p = (3432 - num) / 3432 # p=0.0167 reject H0 x、y呈負相關\n",
        "print(p)\n",
        "cat(\"==========================================================\\n\")\n",
        "# pearson\n",
        "print(cor(X, Y))\n",
        "cor.test(X, Y, method = \"pearson\") #$p.value\n",
        "cat(\"==========================================================\\n\")\n",
        "# spearman\n",
        "print(cor(X, Y, method = \"spearman\"))\n",
        "cor.test(X, Y, method = \"spearman\") #$p.value"
      ],
      "execution_count": null,
      "outputs": [
        {
          "output_type": "stream",
          "text": [
            "[1] 3852.9\n",
            "[1] 350\n",
            "[1] 797\n",
            "[1] 0.1019814\n",
            "==========================================================\n",
            "[1] -0.5592018\n"
          ],
          "name": "stdout"
        },
        {
          "output_type": "display_data",
          "data": {
            "text/plain": [
              "\n",
              "\tPearson's product-moment correlation\n",
              "\n",
              "data:  X and Y\n",
              "t = -1.5083, df = 5, p-value = 0.1919\n",
              "alternative hypothesis: true correlation is not equal to 0\n",
              "95 percent confidence interval:\n",
              " -0.9234039  0.3348768\n",
              "sample estimates:\n",
              "       cor \n",
              "-0.5592018 \n"
            ]
          },
          "metadata": {
            "tags": []
          }
        },
        {
          "output_type": "stream",
          "text": [
            "==========================================================\n",
            "[1] -0.5357143\n"
          ],
          "name": "stdout"
        },
        {
          "output_type": "display_data",
          "data": {
            "text/plain": [
              "\n",
              "\tSpearman's rank correlation rho\n",
              "\n",
              "data:  X and Y\n",
              "S = 86, p-value = 0.2357\n",
              "alternative hypothesis: true rho is not equal to 0\n",
              "sample estimates:\n",
              "       rho \n",
              "-0.5357143 \n"
            ]
          },
          "metadata": {
            "tags": []
          }
        }
      ]
    },
    {
      "cell_type": "markdown",
      "metadata": {
        "id": "31-GE9gIjh95"
      },
      "source": [
        "4.(b) Simulate a set of two correlated normal distribution variables, with zero mean and variance 1. Let the correlation coefficient be 0.2 and 0.8. (Use Cholesky!) Then convert the data back to Uniform(0,1) and record only the first decimal number. (亦即只取小數第一位，0至9的整數) Suppose the sample size is 10. Apply the permutation test, Pearson and Spearman correlation coefficients, and records the p-values of these three methods. (10,000 simulation runs)"
      ]
    },
    {
      "cell_type": "code",
      "metadata": {
        "id": "vtBRF8J9khVp"
      },
      "source": [
        "mat = matrix(c(1, 0.2, 0.2, 1), nrow = 2)\n",
        "inv = t(chol(mat))"
      ],
      "execution_count": null,
      "outputs": []
    },
    {
      "cell_type": "code",
      "metadata": {
        "id": "euWwsEAmN11H"
      },
      "source": [
        "table = NULL\n",
        "for (i in 1:10000){\n",
        "    r1 = rnorm(10)\n",
        "    r2 = rnorm(10)\n",
        "    \n",
        "    number = r1 * inv[2, 1] + r2 * inv[2, 2]\n",
        "    a1 = floor(10 * pnorm(r1))\n",
        "    a2 = floor(10 * number)\n",
        "    a3 = cor.test(a1, a2)$p.value\n",
        "\n",
        "    b3 = cor.test(a1, a2, method = \"spearman\")$p.value\n",
        "\n",
        "    table_for_z = NULL\n",
        "    obs = sum(a1 * a2)\n",
        "\n",
        "    for (j in 1:1000){\n",
        "    z1 = sample(a1, 10, replace = FALSE)\n",
        "    z2 = sample(a2, 10, replace = FALSE)\n",
        "    table_for_z = c(table_for_z, sum(z1 * z2))\n",
        "    }\n",
        "    \n",
        "    c3 = sum(table_for_z > obs) / 1000\n",
        "\n",
        "    table = c(table, c(a3, b3, c3))\n",
        "}"
      ],
      "execution_count": null,
      "outputs": []
    },
    {
      "cell_type": "code",
      "metadata": {
        "id": "Ph5LAVfumqGJ"
      },
      "source": [
        "tb = matrix(table, ncol = 3, byrow = TRUE)"
      ],
      "execution_count": null,
      "outputs": []
    },
    {
      "cell_type": "code",
      "metadata": {
        "colab": {
          "base_uri": "https://localhost:8080/",
          "height": 454
        },
        "id": "tZgZkxB9oTMu",
        "outputId": "30ef1f79-2a6e-44ce-ddf9-cbe711083b7b"
      },
      "source": [
        "t_101 = sum(tb[, 1] < 0.1)\n",
        "t_1005 = sum(tb[, 1] < 0.05)\n",
        "t_1001 = sum(tb[, 1] < 0.01)\n",
        "t_201 = sum(tb[, 2] < 0.1)\n",
        "t_2005 = sum(tb[, 2] < 0.05)\n",
        "t_2001 = sum(tb[, 2] < 0.01)\n",
        "t_301 = sum(tb[, 3] < 0.1)\n",
        "t_3005 = sum(tb[, 3] < 0.05)\n",
        "t_3001 = sum(tb[, 3] < 0.01)\n",
        "cat(t_101, t_1005, t_1001, t_201, t_2005, t_2001, t_301, t_3005, t_3001)\n",
        "\n",
        "\n",
        "par(mfrow = c(1, 3))\n",
        "hist(tb[, 1], main = \"Pearson with rho = 0.2\", xlab = \"p-value\")\n",
        "abline(v = 0.1, col = \"red\")\n",
        "abline(v = 0.05, col = \"blue\")\n",
        "abline(v = 0.01, col = \"green\")\n",
        "hist(tb[, 2], main = \"Spearman with rho = 0.2\", xlab = \"p-value\")\n",
        "abline(v = 0.1, col = \"red\")\n",
        "abline(v = 0.05, col = \"blue\")\n",
        "abline(v = 0.01, col = \"green\")\n",
        "hist(tb[, 3], main = \"Permutation with rho = 0.2\", xlab = \"p-value\")\n",
        "abline(v = 0.1, col = \"red\")\n",
        "abline(v = 0.05, col = \"blue\")\n",
        "abline(v = 0.01, col = \"green\")"
      ],
      "execution_count": null,
      "outputs": [
        {
          "output_type": "stream",
          "text": [
            "1466 797 191 1425 827 215 2308 1332 347"
          ],
          "name": "stdout"
        },
        {
          "output_type": "display_data",
          "data": {
            "image/png": "[encoded data removed]",
            "text/plain": [
              "Plot with title “Permutation with rho = 0.2”"
            ]
          },
          "metadata": {
            "tags": [],
            "image/png": {
              "width": 420,
              "height": 420
            }
          }
        }
      ]
    },
    {
      "cell_type": "code",
      "metadata": {
        "id": "cOcML-5dtqHr"
      },
      "source": [
        "mat1 = matrix(c(1, 0.8, 0.8, 1), nrow = 2)\n",
        "inv1 = t(chol(mat1))\n",
        "\n",
        "table = NULL\n",
        "for (i in 1:10000){\n",
        "    r3 = rnorm(10)\n",
        "    r4 = rnorm(10)\n",
        "    \n",
        "    number1 = r3 * inv1[2, 1] + r4 * inv1[2, 2]\n",
        "    d1 = floor(10 * pnorm(r3))\n",
        "    d2 = floor(10 * number1)\n",
        "    d3 = cor.test(d1, d2)$p.value\n",
        "\n",
        "    e3 = cor.test(d1, d2, method = \"spearman\")$p.value\n",
        "\n",
        "    table_for_z1 = NULL\n",
        "    obs = sum(d1 * d2)\n",
        "    for (j in 1:1000){\n",
        "    za1 = sample(d1, 10, replace = FALSE)\n",
        "    za2 = sample(d2, 10, replace = FALSE)\n",
        "    table_for_z1 = c(table_for_z1, sum(za1 * za2))\n",
        "    }\n",
        "    f3 = sum(table_for_z1 > obs) / 1000\n",
        "\n",
        "    table = c(table, c(d3, e3, f3))\n",
        "}\n"
      ],
      "execution_count": null,
      "outputs": []
    },
    {
      "cell_type": "code",
      "metadata": {
        "id": "HP87PalMvNnU"
      },
      "source": [
        "tb1 = matrix(table, ncol = 3, byrow = T)"
      ],
      "execution_count": null,
      "outputs": []
    },
    {
      "cell_type": "code",
      "metadata": {
        "colab": {
          "base_uri": "https://localhost:8080/",
          "height": 454
        },
        "id": "ejZ7tIwIvYpb",
        "outputId": "a94da287-03d1-486a-cdeb-50346f0e98e2"
      },
      "source": [
        "t1_101 = sum(tb1[, 1] < 0.1)\n",
        "t1_1005 = sum(tb1[, 1] < 0.05)\n",
        "t1_1001 = sum(tb1[, 1] < 0.01)\n",
        "t1_201 = sum(tb1[, 2] < 0.1)\n",
        "t1_2005 = sum(tb1[, 2] < 0.05)\n",
        "t1_2001 = sum(tb1[, 2] < 0.01)\n",
        "t1_301 = sum(tb1[, 3] < 0.1)\n",
        "t1_3005 = sum(tb1[, 3] < 0.05)\n",
        "t1_3001 = sum(tb1[, 3] < 0.01)\n",
        "cat(t1_101, t1_1005, t1_1001, t1_201, t1_2005, t1_2001, t1_301, t1_3005, t1_3001)\n",
        "\n",
        "\n",
        "par(mfrow = c(1, 3))\n",
        "hist(tb1[, 1], main = \"Pearson with rho = 0.8\", xlab = \"p-value\")\n",
        "abline(v = 0.1, col = \"red\")\n",
        "abline(v = 0.05, col = \"blue\")\n",
        "abline(v = 0.01, col = \"green\")\n",
        "hist(tb1[, 2], main = \"Spearman with rho = 0.8\", xlab = \"p-value\")\n",
        "abline(v = 0.1, col = \"red\")\n",
        "abline(v = 0.05, col = \"blue\")\n",
        "abline(v = 0.01, col = \"green\")\n",
        "hist(tb1[, 3], main = \"Permutation with rho = 0.8\", xlab = \"p-value\")\n",
        "abline(v = 0.1, col = \"red\")\n",
        "abline(v = 0.05, col = \"blue\")\n",
        "abline(v = 0.01, col = \"green\")"
      ],
      "execution_count": null,
      "outputs": [
        {
          "output_type": "stream",
          "text": [
            "9149 8425 5984 8678 7790 5340 9638 9132 7003"
          ],
          "name": "stdout"
        },
        {
          "output_type": "display_data",
          "data": {
            "image/png": "[encoded data removed]",
            "text/plain": [
              "Plot with title “Permutation with rho = 0.8”"
            ]
          },
          "metadata": {
            "tags": [],
            "image/png": {
              "width": 420,
              "height": 420
            }
          }
        }
      ]
    },
    {
      "cell_type": "markdown",
      "metadata": {
        "id": "FkS8C8qOj97F"
      },
      "source": [
        "5.Using simulation to construct critical values of the Mann-Whitney-Wilcoxon test in the case that $2\\leq n_1, n_2 \\leq 10$, where n1 and n2 are the number of observations in two populations. (Note: The number of replications shall be at least 10,000.)"
      ]
    },
    {
      "cell_type": "code",
      "metadata": {
        "colab": {
          "base_uri": "https://localhost:8080/"
        },
        "id": "xAMyn-pCp220",
        "outputId": "d239aef1-467a-42b3-906b-19a3be7b586b"
      },
      "source": [
        "data = NULL\n",
        "for (i in 2:10){\n",
        "    for (j in 2:10){\n",
        "        a = NULL\n",
        "        for (k in 1:10000){\n",
        "            x = runif(i)\n",
        "            y = runif(j)\n",
        "            z = wilcox.test(x, y)$statistic\n",
        "            z = as.numeric(z)\n",
        "            a = c(a, z)\n",
        "        }\n",
        "        data = cbind(data, sort(a))\n",
        "    }\n",
        "}\n",
        "\n",
        "df = data.frame(data, row.names = c(1:10000))\n",
        "critical_value = df[500, ]\n",
        "critical_matrix = matrix(critical_value, ncol = 9, byrow = TRUE)\n",
        "print(critical_matrix)"
      ],
      "execution_count": null,
      "outputs": [
        {
          "output_type": "stream",
          "text": [
            "      [,1] [,2] [,3] [,4] [,5] [,6] [,7] [,8] [,9]\n",
            " [1,] 0    0    0    0    1    1    2    2    2   \n",
            " [2,] 0    0    1    2    3    3    4    5    5   \n",
            " [3,] 0    1    2    3    4    5    6    7    8   \n",
            " [4,] 1    2    3    5    6    7    9    10   11  \n",
            " [5,] 1    3    4    6    8    9    11   13   15  \n",
            " [6,] 1    3    5    7    9    12   13   16   18  \n",
            " [7,] 2    4    6    9    11   14   16   19   21  \n",
            " [8,] 2    5    7    10   13   16   19   22   25  \n",
            " [9,] 2    5    8    11   15   18   22   25   28  \n"
          ],
          "name": "stdout"
        }
      ]
    },
    {
      "cell_type": "code",
      "metadata": {
        "id": "ktD4oAaT5EWZ"
      },
      "source": [
        "MWWTest = function(seq1, seq2){\n",
        "    seq = c(seq1, seq2)\n",
        "    n1 = length(seq1)\n",
        "    n2 = length(seq2)\n",
        "\n",
        "    r1 = rank(seq)[1:n1]\n",
        "    r2 = rank(seq)[-c(1:n1)]\n",
        "    \n",
        "    W1 = sum(r1)\n",
        "    W2 = sum(r2)\n",
        "    \n",
        "    U1 = n1 * n2 + (n1 * (n1 + 1) / 2) - W1\n",
        "    U2 = n1 * n2 + (n2 * (n2 + 1) / 2) - W2\n",
        "    \n",
        "    U = min(U1, U2)\n",
        "    Z = (U - n1 * n2 / 2) / sqrt(n1 * n2 * (n1 + n2 +1) / 12)\n",
        "    df = data.frame(U1, U2)\n",
        "    return (U)\n",
        "}"
      ],
      "execution_count": 13,
      "outputs": []
    },
    {
      "cell_type": "code",
      "metadata": {
        "id": "mDrWx400DAIf"
      },
      "source": [
        "data = NULL\n",
        "for (i in 2:10){\n",
        "    for (j in 2:10){\n",
        "        x = NULL\n",
        "        for (k in 1:10000){\n",
        "            y = MWWTest(runif(i), runif(j))\n",
        "            x = c(x, y)\n",
        "        }\n",
        "        data = cbind(data, sort(as.numeric(x)))\n",
        "    }\n",
        "}"
      ],
      "execution_count": 14,
      "outputs": []
    },
    {
      "cell_type": "code",
      "metadata": {
        "colab": {
          "base_uri": "https://localhost:8080/"
        },
        "id": "9LzpqmACGXdZ",
        "outputId": "4da3ebcd-13aa-430e-f5e5-29792f3430b7"
      },
      "source": [
        "df = data.frame(data, row.names = c(1:10000))\n",
        "critical = df[500, ]\n",
        "cri_mat = matrix(critical, ncol = 9, byrow = TRUE)\n",
        "print(cri_mat)"
      ],
      "execution_count": 15,
      "outputs": [
        {
          "output_type": "stream",
          "text": [
            "      [,1] [,2] [,3] [,4] [,5] [,6] [,7] [,8] [,9]\n",
            " [1,] 0    0    0    0    0    0    0    1    1   \n",
            " [2,] 0    0    0    1    2    2    3    3    3   \n",
            " [3,] 0    0    1    2    3    4    5    5    6   \n",
            " [4,] 0    1    2    3    4    6    7    8    9   \n",
            " [5,] 0    2    3    4    6    8    9    10   12  \n",
            " [6,] 0    2    4    6    8    9    11   13   15  \n",
            " [7,] 1    3    5    7    9    11   14   16   18  \n",
            " [8,] 1    3    5    8    10   13   16   18   21  \n",
            " [9,] 1    4    7    9    12   15   18   21   24  \n"
          ],
          "name": "stdout"
        }
      ]
    },
    {
      "cell_type": "code",
      "metadata": {
        "colab": {
          "base_uri": "https://localhost:8080/"
        },
        "id": "Bc3QEzcToCYa",
        "outputId": "25ef1efe-d0fe-4d5b-f960-1fcf5a50b9d8"
      },
      "source": [
        "cri_df = data.frame(cri_mat, row.names = c(2:10))\n",
        "colnames(cri_df) = c(2:10)\n",
        "print(cri_df)"
      ],
      "execution_count": 16,
      "outputs": [
        {
          "output_type": "stream",
          "text": [
            "   2 3 4 5  6  7  8  9 10\n",
            "2  0 0 0 0  0  0  0  1  1\n",
            "3  0 0 0 1  2  2  3  3  3\n",
            "4  0 0 1 2  3  4  5  5  6\n",
            "5  0 1 2 3  4  6  7  8  9\n",
            "6  0 2 3 4  6  8  9 10 12\n",
            "7  0 2 4 6  8  9 11 13 15\n",
            "8  1 3 5 7  9 11 14 16 18\n",
            "9  1 3 5 8 10 13 16 18 21\n",
            "10 1 4 7 9 12 15 18 21 24\n"
          ],
          "name": "stdout"
        }
      ]
    },
    {
      "cell_type": "markdown",
      "metadata": {
        "id": "vwKECEYQj-Bs"
      },
      "source": [
        "6.Similar to what Efron did in the Law school data example, compute the bootstrap simulation for 50, 100, ..., 10,000 replications. But, instead of using the original 15 observations, we want to know if the number of observations plays an important role. Randomly select 10, 15, 20, and 25 observations and then see if the bootstrap variance converges as the number of replications increases. (Note: You also need to compare your results with that of population.)\n"
      ]
    },
    {
      "cell_type": "markdown",
      "metadata": {
        "id": "g2ZgYpZvj-J6"
      },
      "source": [
        "|school|LSAT|GPA|school|LSAT|GPA|school|LSAT|GPA|school|LSAT|GPA|\n",
        "|:-:|:-:|:-:|:-:|:-:|:-:|:-:|:-:|:-:|:-:|:-:|:-:|\n",
        "|1|622|3.23|22|614|3.19|43|573|2.85|63|572|3.08|\n",
        "|2|542|2.83|23|628|3.03|44|644|3.38|64|610|3.13|\n",
        "|3|579|3.24|24|575|3.01|(45)|545|2.76|65|562|3.01|\n",
        "|(4)|653|3.12|25|662|3.39|46|645|3.27|66|635|3.30|\n",
        "|5|606|3.09|26|627|3.41|(47)|651|3.36|67|614|3.35|\n",
        "|(6)|576|3.39|27|608|3.04|48|562|3.19|68|546|2.82|\n",
        "|7|620|3.10|28|632|3.29|49|609|3.17|69|598|3.20|\n",
        "|8|615|3.40|29|587|3.16|(50)|555|3.00|(70)|666|3.44|\n",
        "|9|553|2.97|30|581|3.17|51|586|3.11|71|570|3.01|\n",
        "|10|607|2.91|(31)|605|3.13|(52)|580|3.07|72|570|2.92|\n",
        "|11|558|3.11|32|704|3.36|(53)|594|2.96|73|605|3.45|\n",
        "|12|596|3.24|33|477|2.57|54|594|3.05|74|565|3.15|\n",
        "|(13)|635|3.30|34|591|3.02|55|560|2.93|75|686|3.50|\n",
        "|14|581|3.22|(35)|578|3.03|56|641|3.28|76|608|3.16|\n",
        "|(15)|661|3.43|(36)|572|2.88|57|512|3.01|77|595|3.19|\n",
        "|16|547|2.91|37|615|3.37|58|631|3.21|78|590|3.15|\n",
        "|17|599|3.23|38|606|3.20|59|597|3.32|(79)|558|2.81|\n",
        "|18|646|3.47|39|603|3.23|60|621|3.24|80|611|3.16|\n",
        "|19|622|3.15|40|535|2.98|61|617|3.03|81|564|3.02|\n",
        "|20|611|3.33|41|595|3.11|62|637|3.33|(82)|575|2.74|\n",
        "|21|546|2.99|42|575|2.92|||||||\n"
      ]
    },
    {
      "cell_type": "code",
      "metadata": {
        "colab": {
          "base_uri": "https://localhost:8080/",
          "height": 874
        },
        "id": "S4zpZKzUSENX",
        "outputId": "cdea2eb4-8b31-4349-be3a-d85761c58061"
      },
      "source": [
        "library(boot)\n",
        "law82 = read.table(\"http://www2.stat.duke.edu/~oma9/STA111_SummerI_2016/Labs/Law82.txt\",header=T)\n",
        "len = dim(law82)[1]\n",
        "\n",
        "bootstrap = function (rep,n){\n",
        "\n",
        "    # sample\n",
        "    # 兩變數各自variance\n",
        "    # var_LSAT = round(mean(apply(matrix(law82[, 1][s], nrow = n, ncol = rep), 2, var)), 3)\n",
        "    # var_GPA = round(mean(apply(matrix(law82[, 2][s], nrow = n, ncol = rep), 2, var)), 3)\n",
        "    # correlation\n",
        "    corr = NA\n",
        "    for (i in 1:rep){\n",
        "        s = sample(len, n, replace = TRUE)\n",
        "        corr[i] = round(cor(law82[s, 1], law82[s, 2]), 4)\n",
        "    }\n",
        "    # corr = mean(corr)\n",
        "    # print 結果\n",
        "    # result = c(var_LSAT, var_GPA,corr)\n",
        "    result = c(mean(corr), var(corr))\n",
        "    return(result)\n",
        "}\n",
        "\n",
        "print(bootstrap(10, 10))\n",
        "\n",
        "# replication function\n",
        "replication = function(n, num){\n",
        "    vec = 0\n",
        "    for (k in num){\n",
        "        vec = rbind(vec, bootstrap(rep = k, n))\n",
        "    }\n",
        "    vec = vec[-1, ]\n",
        "    rownames(vec) = num\n",
        "    colnames(vec) = c(\"mean_corr\", \"var_corr\")\n",
        "    return(vec)\n",
        "}\n",
        "\n",
        "\n",
        "# simulate\n",
        "num = c(50, 100, 200, 500, 800, 1000, 2000, 5000, 7000, 10000)\n",
        "bootstrap_10 = replication(n = 10, num)\n",
        "bootstrap_15 = replication(n = 15, num)\n",
        "bootstrap_20 = replication(n = 20, num)\n",
        "bootstrap_25 = replication(n = 25, num)\n",
        "\n",
        "# population variance\n",
        "a = cor(law82$LSAT, law82$GPA)\n",
        "\n",
        "\n",
        "# graph\n",
        "# correlarion\n",
        "plot(x = num, y = bootstrap_10[, 1], xlab = \"replication\", ylab = \"correlation\",\n",
        "     main = \"correlation\", ylim = c(0.7, 0.78), type = \"b\", col = \"red\", pch = 5, lty = 2)\n",
        "lines(x = num, y = bootstrap_15[, 1], type = \"b\", col = \"lightpink2\", pch = 19, lty = 3)\n",
        "lines(x = num, y = bootstrap_20[, 1], type = \"b\", col = \"blue\", pch = 8,lty = 4)\n",
        "lines(x = num,y = bootstrap_25[, 1], type = \"b\", col = \"mediumaquamarine\", pch = 3, lty = 5)\n",
        "abline(h = a, col = \"black\")\n",
        "legend(7000, 0.73, c(\"bootstrap_10\", \"bootstrap_15\", \"bootstrap_20\", \"bootstrap_25\"), lwd = rep(2,4), col = c(\"red\", \"lightpink2\", \"blue\", \"mediumaquamarine\"), pch = c(5, 19, 8, 3))\n",
        "\n",
        "# variance\n",
        "plot(x = num,y = bootstrap_10[, 2], xlab = \"replication\", ylab = \"var\",\n",
        "     main = \"variance\", ylim = c(0, 0.05), type = \"b\", col = \"red\", pch = 5, lty = 2)\n",
        "lines(x = num, y = bootstrap_15[, 2], type = \"b\", col = \"lightpink2\", pch = 19, lty = 3)\n",
        "lines(x = num, y = bootstrap_20[, 2], type = \"b\", col = \"blue\", pch = 8,lty = 4)\n",
        "lines(x = num, y = bootstrap_25[, 2], type = \"b\", col = \"mediumaquamarine\", pch = 3,lty = 5)\n",
        "legend(7000, 0.05, c(\"bootstrap_10\", \"bootstrap_15\", \"bootstrap_20\", \"bootstrap_25\"), lwd = rep(2, 4), col = c(\"red\", \"lightpink2\", \"blue\", \"mediumaquamarine\"), pch = c(5, 19, 8, 3))"
      ],
      "execution_count": null,
      "outputs": [
        {
          "output_type": "stream",
          "text": [
            "[1] 0.69345000 0.03707088\n"
          ],
          "name": "stdout"
        },
        {
          "output_type": "display_data",
          "data": {
            "image/png": "[encoded data removed]",
            "text/plain": [
              "Plot with title “correlation”"
            ]
          },
          "metadata": {
            "tags": [],
            "image/png": {
              "width": 420,
              "height": 420
            }
          }
        },
        {
          "output_type": "display_data",
          "data": {
            "image/png": "[encoded data removed]",
            "text/plain": [
              "Plot with title “variance”"
            ]
          },
          "metadata": {
            "tags": [],
            "image/png": {
              "width": 420,
              "height": 420
            }
          }
        }
      ]
    },
    {
      "cell_type": "code",
      "metadata": {
        "id": "Xj_Evnfekx51"
      },
      "source": [
        "# prepare the data\n",
        "data = read.csv(\"6-data.csv\", header = TRUE)"
      ],
      "execution_count": null,
      "outputs": []
    },
    {
      "cell_type": "code",
      "metadata": {
        "id": "mev3NTVSnsQQ"
      },
      "source": [
        "# population mean & var\n",
        "LSAT = data[, 2]\n",
        "GPA = data[, 3]\n",
        "cat(\"mean of LSAT: \", mean(LSAT), \",\",\"var of LSAT: \", var(LSAT), \"\\n\")\n",
        "cat(\"mean of GPA: \", mean(GPA), \",\",\"var of GPA: \", var(GPA), \"\\n\")\n",
        "cat(\"correlation between GPA and LSAT:\", cor(GPA, LSAT))\n",
        "plot(LSAT, GPA)"
      ],
      "execution_count": null,
      "outputs": []
    },
    {
      "cell_type": "code",
      "metadata": {
        "id": "25itI3ohnk5G"
      },
      "source": [
        "bootstrap_LSAT = function(number, times){\n",
        "    m = NULL\n",
        "    v = NULL\n",
        "    n = as.numeric(number)\n",
        "    t = as.numeric(times)\n",
        "    for (i in 1:t){\n",
        "        x = sample(LSAT, n, replace = TRUE)\n",
        "        m = c(m, mean(x))\n",
        "        v = c(v, var(x))\n",
        "    }\n",
        "    df = data.frame(mean = m, variance = v)\n",
        "    return (df)\n",
        "}\n",
        "\n",
        "bootstrap_GPA = function(number, times){\n",
        "    m = NULL\n",
        "    v = NULL\n",
        "    n = as.numeric(number)\n",
        "    t = as.numeric(times)\n",
        "    for (i in 1:t){\n",
        "        x = sample(GPA, n, replace = TRUE)\n",
        "        m = c(m, mean(x))\n",
        "        v = c(v, var(x))\n",
        "    }\n",
        "    df = data.frame(mean = m, variance = v)\n",
        "    return (df)\n",
        "}\n",
        "\n",
        "bootstrap_cor = function(numbers, times){\n",
        "    n = as.numeric(numbers)\n",
        "    t = as.numeric(times)\n",
        "    c = NULL\n",
        "    for (i in 1:t){\n",
        "        x = sample(LSAT, n, replace = TRUE)\n",
        "        y = sample(GPA, n, replace = TRUE)\n",
        "        \n",
        "        o = cor(x, y)\n",
        "        c = c(c, o)\n",
        "    }\n",
        "    hist(c)\n",
        "    print(var(c))\n",
        "    return (c)\n",
        "}"
      ],
      "execution_count": null,
      "outputs": []
    },
    {
      "cell_type": "markdown",
      "metadata": {
        "id": "zQdhhTWopE3y"
      },
      "source": [
        "\n",
        "7.(Bonus!) The task is to use SVD to compress the lion image, similar to the handout on my webpage. In addition to the SVD, you need to apply other non-linear data reduction methods and compare their differences.\n",
        "\n",
        "(不寫)"
      ]
    }
  ]
}