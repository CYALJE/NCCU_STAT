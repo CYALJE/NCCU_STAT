{
  "nbformat": 4,
  "nbformat_minor": 0,
  "metadata": {
    "colab": {
      "name": "Assign4.ipynb",
      "provenance": [],
      "collapsed_sections": []
    },
    "kernelspec": {
      "name": "ir",
      "display_name": "R"
    },
    "language_info": {
      "name": "R"
    }
  },
  "cells": [
    {
      "cell_type": "markdown",
      "metadata": {
        "id": "UNjoepMKh5B0"
      },
      "source": [
        "1.The block bootstrap can be used in prediction for dependent data. Use the built-in data “sunspot.year” in R, which is can be modeled as an AR(2) model, compare the difference of prediction via block bootstrap and AR(2) model. As a check, you can leave the final 10 observations as “testing” data. "
      ]
    },
    {
      "cell_type": "code",
      "metadata": {
        "colab": {
          "base_uri": "https://localhost:8080/"
        },
        "id": "m7Y4qj9Fh33u",
        "outputId": "dbaf5ccf-7fe2-4a1d-fd74-b2c5bac492fc"
      },
      "source": [
        "print(sunspot.year)"
      ],
      "execution_count": 1,
      "outputs": [
        {
          "output_type": "stream",
          "text": [
            "Time Series:\n",
            "Start = 1700 \n",
            "End = 1988 \n",
            "Frequency = 1 \n",
            "  [1]   5.0  11.0  16.0  23.0  36.0  58.0  29.0  20.0  10.0   8.0   3.0   0.0\n",
            " [13]   0.0   2.0  11.0  27.0  47.0  63.0  60.0  39.0  28.0  26.0  22.0  11.0\n",
            " [25]  21.0  40.0  78.0 122.0 103.0  73.0  47.0  35.0  11.0   5.0  16.0  34.0\n",
            " [37]  70.0  81.0 111.0 101.0  73.0  40.0  20.0  16.0   5.0  11.0  22.0  40.0\n",
            " [49]  60.0  80.9  83.4  47.7  47.8  30.7  12.2   9.6  10.2  32.4  47.6  54.0\n",
            " [61]  62.9  85.9  61.2  45.1  36.4  20.9  11.4  37.8  69.8 106.1 100.8  81.6\n",
            " [73]  66.5  34.8  30.6   7.0  19.8  92.5 154.4 125.9  84.8  68.1  38.5  22.8\n",
            " [85]  10.2  24.1  82.9 132.0 130.9 118.1  89.9  66.6  60.0  46.9  41.0  21.3\n",
            " [97]  16.0   6.4   4.1   6.8  14.5  34.0  45.0  43.1  47.5  42.2  28.1  10.1\n",
            "[109]   8.1   2.5   0.0   1.4   5.0  12.2  13.9  35.4  45.8  41.1  30.1  23.9\n",
            "[121]  15.6   6.6   4.0   1.8   8.5  16.6  36.3  49.6  64.2  67.0  70.9  47.8\n",
            "[133]  27.5   8.5  13.2  56.9 121.5 138.3 103.2  85.7  64.6  36.7  24.2  10.7\n",
            "[145]  15.0  40.1  61.5  98.5 124.7  96.3  66.6  64.5  54.1  39.0  20.6   6.7\n",
            "[157]   4.3  22.7  54.8  93.8  95.8  77.2  59.1  44.0  47.0  30.5  16.3   7.3\n",
            "[169]  37.6  74.0 139.0 111.2 101.6  66.2  44.7  17.0  11.3  12.4   3.4   6.0\n",
            "[181]  32.3  54.3  59.7  63.7  63.5  52.2  25.4  13.1   6.8   6.3   7.1  35.6\n",
            "[193]  73.0  85.1  78.0  64.0  41.8  26.2  26.7  12.1   9.5   2.7   5.0  24.4\n",
            "[205]  42.0  63.5  53.8  62.0  48.5  43.9  18.6   5.7   3.6   1.4   9.6  47.4\n",
            "[217]  57.1 103.9  80.6  63.6  37.6  26.1  14.2   5.8  16.7  44.3  63.9  69.0\n",
            "[229]  77.8  64.9  35.7  21.2  11.1   5.7   8.7  36.1  79.7 114.4 109.6  88.8\n",
            "[241]  67.8  47.5  30.6  16.3   9.6  33.2  92.6 151.6 136.3 134.7  83.9  69.4\n",
            "[253]  31.5  13.9   4.4  38.0 141.7 190.2 184.8 159.0 112.3  53.9  37.5  27.9\n",
            "[265]  10.2  15.1  47.0  93.8 105.9 105.5 104.5  66.6  68.9  38.0  34.5  15.5\n",
            "[277]  12.6  27.5  92.5 155.4 154.7 140.5 115.9  66.6  45.9  17.9  13.4  29.2\n",
            "[289] 100.2\n"
          ],
          "name": "stdout"
        }
      ]
    },
    {
      "cell_type": "code",
      "metadata": {
        "colab": {
          "base_uri": "https://localhost:8080/"
        },
        "id": "bbgG1pY6OK95",
        "outputId": "c9697eca-1cdd-48a2-e014-de20ada8cbe3"
      },
      "source": [
        "print(sunspot.year[-c(1:279)])"
      ],
      "execution_count": null,
      "outputs": [
        {
          "output_type": "stream",
          "text": [
            " [1] 155.4 154.7 140.5 115.9  66.6  45.9  17.9  13.4  29.2 100.2\n"
          ],
          "name": "stdout"
        }
      ]
    },
    {
      "cell_type": "code",
      "metadata": {
        "id": "Cnyo1HyFkOIP"
      },
      "source": [
        "data = sunspot.year\n",
        "train.data = data[c(1:279)]\n",
        "test.data = data[-c(1:279)]"
      ],
      "execution_count": null,
      "outputs": []
    },
    {
      "cell_type": "code",
      "metadata": {
        "colab": {
          "base_uri": "https://localhost:8080/"
        },
        "id": "XSXWpfk5kd14",
        "outputId": "5d3a3baa-4df2-4d19-9674-05b8616991e2"
      },
      "source": [
        "# AR(2)\n",
        "data.train = ts(train.data, start = 1700, end = 1979)\n",
        "sunspot.ar = ar(train.data, order.max = 2, method = \"mle\")\n",
        "pred = predict(sunspot.ar, n.ahead = 10)\n",
        "print(pred$pred)"
      ],
      "execution_count": null,
      "outputs": [
        {
          "output_type": "stream",
          "text": [
            "Time Series:\n",
            "Start = 280 \n",
            "End = 289 \n",
            "Frequency = 1 \n",
            " [1] 123.25346 121.31135  97.66354  66.39796  39.43555  23.59818  20.15822\n",
            " [8]  26.21727  36.91324  47.52198\n"
          ],
          "name": "stdout"
        }
      ]
    },
    {
      "cell_type": "code",
      "metadata": {
        "colab": {
          "base_uri": "https://localhost:8080/"
        },
        "id": "0QDKE_nrkzPW",
        "outputId": "22c5dacd-6d83-4ee7-f932-ea0d6769942d"
      },
      "source": [
        "# block bootstrap\n",
        "# 差分\n",
        "diff = train.data[-1] - train.data[-279]\n",
        "\n",
        "mat = matrix(ncol = 10, nrow = 10000)\n",
        "\n",
        "for (i in 1:10000){\n",
        "    sample = sample(1:269, 1)\n",
        "    mat[i, ] = diff[c(sample:(sample + 10 - 1))]\n",
        "}\n",
        "\n",
        "seq = apply(mat, 2, median)\n",
        "mat = apply(mat, 2, sort)\n",
        "\n",
        "pred1 = NULL\n",
        "for (i in 1:10){\n",
        "    pred1 = c(pred1, sum(seq[c(1:i)]) + train.data[279])  \n",
        "}\n",
        "print(pred1)"
      ],
      "execution_count": null,
      "outputs": [
        {
          "output_type": "stream",
          "text": [
            " [1] 89.5 86.9 84.3 81.3 77.3 74.3 71.3 67.8 64.3 61.3\n"
          ],
          "name": "stdout"
        }
      ]
    },
    {
      "cell_type": "code",
      "metadata": {
        "colab": {
          "base_uri": "https://localhost:8080/",
          "height": 630
        },
        "id": "nJTKGoEli6MQ",
        "outputId": "01376972-a9d6-4f4e-9ddc-9701c8ada3c4"
      },
      "source": [
        "original = sunspot.year\n",
        "ar = c(train.data, as.numeric(pred$pred))\n",
        "bb = c(train.data, pred1)\n",
        "df = data.frame(opriginal.data = original, AR_model = ar, block_bootstrap = bb)\n",
        "print(tail(df, 10))\n",
        "# graph\n",
        "par(pin = c(5, 3))\n",
        "ts.plot(df$block_bootstrap, df$AR_model, df$opriginal.data, col = c('blue', 'red', 'black'), main = '2 Different ways to predict sunsplot.year', lty = c(1, 2, 5))\n",
        "legend(x = 1700, y = 190, legend = c(\"Block Bootstrap\", \"AR(2)\", \"Original\"), col = c('blue', 'red', 'black'), lty = c(1, 2, 5))"
      ],
      "execution_count": null,
      "outputs": [
        {
          "output_type": "stream",
          "text": [
            "    opriginal.data  AR_model block_bootstrap\n",
            "280          155.4 123.25346            89.5\n",
            "281          154.7 121.31135            86.0\n",
            "282          140.5  97.66354            83.0\n",
            "283          115.9  66.39796            80.0\n",
            "284           66.6  39.43555            77.4\n",
            "285           45.9  23.59818            74.4\n",
            "286           17.9  20.15822            71.4\n",
            "287           13.4  26.21727            68.4\n",
            "288           29.2  36.91324            65.5\n",
            "289          100.2  47.52198            62.0\n"
          ],
          "name": "stdout"
        },
        {
          "output_type": "display_data",
          "data": {
            "image/png": "[encoded data removed]",
            "text/plain": [
              "Plot with title “2 Different ways to predict sunsplot.year”"
            ]
          },
          "metadata": {
            "tags": [],
            "image/png": {
              "width": 420,
              "height": 420
            }
          }
        }
      ]
    },
    {
      "cell_type": "code",
      "metadata": {
        "colab": {
          "base_uri": "https://localhost:8080/",
          "height": 437
        },
        "id": "yMVAS2UkSWaE",
        "outputId": "e194eadc-9d94-4524-a26b-73a43223d9b3"
      },
      "source": [
        "plot(df$opriginal.data[-c(1:279)], type = \"l\", col = \"red\")\n",
        "lines(df$AR_model[-c(1:279)], col = \"blue\")\n",
        "lines(df$block_bootstrap[-c(1:279)], col = \"black\")\n",
        "legend(x = 7, y = 150, legend = c('opriginal', 'AR2', 'block_bootstrap'), col = c('red', 'blue', 'black'), lty = c(1, 1, 1))"
      ],
      "execution_count": null,
      "outputs": [
        {
          "output_type": "display_data",
          "data": {
            "image/png": "[encoded data removed]",
            "text/plain": [
              "plot without title"
            ]
          },
          "metadata": {
            "tags": [],
            "image/png": {
              "width": 420,
              "height": 420
            }
          }
        }
      ]
    },
    {
      "cell_type": "markdown",
      "metadata": {
        "id": "HlY10VSsh-xr"
      },
      "source": [
        "2.Similar to what we saw in class, use simulation to evaluate the type I error and testing powers of one-way ANOVA. Suppose there are 3 treatments, each with 16 observations. However, assume that the treatment with larger mean has variance 2, instead of 1. (Note: This assignment is to check the influence of the constant variance assumption. Also, as an extended study, you could also check the normality and independence assumptions.) "
      ]
    },
    {
      "cell_type": "code",
      "metadata": {
        "id": "3HIIdncI0myJ"
      },
      "source": [
        "simu = function(mu, times){\n",
        "    pval = NULL\n",
        "    t = as.numeric(times)\n",
        "    for (i in 1:t){\n",
        "        mat = matrix(rnorm(48), ncol = 3, byrow = F)\n",
        "        mat[, 2] = rnorm(16, mu, sqrt(2))\n",
        "        team_mean = apply(mat, 2, mean)\n",
        "        total_mean = mean(mat)\n",
        "        # print(mat);print(team_mean);print(total_mean)\n",
        "        SST = sum((mat - total_mean)^2)\n",
        "        SSTrt = sum(16 * (team_mean - total_mean)^2)\n",
        "        SSE = SST - SSTrt\n",
        "        Test_statistic = (SSTrt / 2) / (SSE / 45)\n",
        "        p_val = pf(Test_statistic, 2, 45, lower.tail = F)\n",
        "        pval = c(pval, p_val)\n",
        "    }\n",
        "    return (pval)\n",
        "}"
      ],
      "execution_count": null,
      "outputs": []
    },
    {
      "cell_type": "code",
      "metadata": {
        "colab": {
          "base_uri": "https://localhost:8080/",
          "height": 489
        },
        "id": "mYpM6Q8j2wfo",
        "outputId": "d22a2b85-defb-4941-feb2-f16508065ee8"
      },
      "source": [
        "test = simu(1, 10000)\n",
        "print(sum(test < 0.01))\n",
        "print(sum(test < 0.05))\n",
        "print(sum(test < 0.1))\n",
        "hist(test, xlab = \"p-value\", main = \"Frequency of p-value\")"
      ],
      "execution_count": null,
      "outputs": [
        {
          "output_type": "stream",
          "text": [
            "[1] 4216\n",
            "[1] 6552\n",
            "[1] 7569\n"
          ],
          "name": "stdout"
        },
        {
          "output_type": "display_data",
          "data": {
            "image/png": "[encoded data removed]",
            "text/plain": [
              "Plot with title “Frequency of p-value”"
            ]
          },
          "metadata": {
            "tags": [],
            "image/png": {
              "width": 420,
              "height": 420
            }
          }
        }
      ]
    },
    {
      "cell_type": "code",
      "metadata": {
        "id": "6RJJoFp9KsHV"
      },
      "source": [
        "simu_power = function(mu, times){\n",
        "  power = NULL\n",
        "  t = as.numeric(times)\n",
        "  for (i in 1:times){\n",
        "    mat = matrix(rnorm(48), ncol = 3, byrow = F)\n",
        "    mat[, 2] = rnorm(16, mu, sqrt(2))\n",
        "    team_mean = apply(mat, 2, mean)\n",
        "    total_mean = mean(mat)\n",
        "    # print(mat);print(team_mean);print(total_mean)\n",
        "    SST = sum((mat - total_mean)^2)\n",
        "    SSTrt = sum(16 * (team_mean - total_mean)^2)\n",
        "    SSE = SST - SSTrt\n",
        "    F_crit = qf(0.05, 2, 45, lower.tail = FALSE)\n",
        "    f = sqrt((SSTrt/48)/(SSE/45))\n",
        "    lamda = f^2*48\n",
        "    beta = pf(F_crit, 2, 45, ncp = lamda, lower.tail = TRUE)\n",
        "    power = c(power, 1-beta)\n",
        "  }\n",
        "  return (power)\n",
        "}"
      ],
      "execution_count": null,
      "outputs": []
    },
    {
      "cell_type": "code",
      "metadata": {
        "colab": {
          "base_uri": "https://localhost:8080/",
          "height": 437
        },
        "id": "7fd1ZIO_KuaP",
        "outputId": "569d9091-0f97-47e3-8606-8424bece446b"
      },
      "source": [
        "mu=seq(0, 2, length.out = 200)\n",
        "test_power=NULL\n",
        "for (i in mu){\n",
        "  test_power = c(test_power,mean(simu_power(i, 10000)))\n",
        "}\n",
        "plot(x=mu,y=test_power,main=\"Power of F-test (one-way ANOVA)\",\n",
        "     xlab=\"mu\",ylab=\"power\",type=\"l\",ylim=c(0,1))\n",
        "abline(h = 1, col = \"red\", lty=2)\n",
        "abline(h = 0.05, col = \"red\", lty=2)"
      ],
      "execution_count": null,
      "outputs": [
        {
          "output_type": "display_data",
          "data": {
            "image/png": "[encoded data removed]",
            "text/plain": [
              "Plot with title “Power of F-test (one-way ANOVA)”"
            ]
          },
          "metadata": {
            "tags": [],
            "image/png": {
              "width": 420,
              "height": 420
            }
          }
        }
      ]
    },
    {
      "cell_type": "markdown",
      "metadata": {
        "id": "M8IqoEtViGAi"
      },
      "source": [
        "3.Use the bisection, false positions, and/or secant methods to find the roots, and check your answers with the functions in R (e.g., “uniroot”). You need to specify the starting points, convergence criterion, and number of iterations. \n",
        "\n",
        "(a)$f(x) = x^3 + 2x^2 + 3x - 1$\n",
        "\n",
        "(b)$f(x) = e - \\frac{1}{3.5 + x}$\n",
        "\n",
        "(c)$f(x) = \\frac{e^{-x}}{\\sqrt{1+x^2}} - 0.5$"
      ]
    },
    {
      "cell_type": "code",
      "metadata": {
        "id": "sH_WSi7kihzE"
      },
      "source": [
        "# function\n",
        "func_a = function(x){x^3 + 2 * x^2 + 3 * x - 1}\n",
        "func_b = function(x){exp(1) - (1 / (3.5 + x))}\n",
        "func_c = function(x){(exp(-x) / sqrt(1 + x^2)) - 0.5}"
      ],
      "execution_count": null,
      "outputs": []
    },
    {
      "cell_type": "code",
      "metadata": {
        "colab": {
          "base_uri": "https://localhost:8080/",
          "height": 437
        },
        "id": "n99MivBhIUUH",
        "outputId": "a6a7bf5a-0a8a-404b-c9fc-53d8a1aff298"
      },
      "source": [
        "x = seq(-5, 5, length.out = 500)\n",
        "plot(x, func_a(x), col = \"blue\", type = \"l\", main = \"three function plot under x belongs to (-5, 5)\", ylab = \"function\")\n",
        "lines(x, func_b(x), col = \"red\", lty = 2)\n",
        "lines(x, func_c(x), col = \"black\", lty = 5)\n",
        "abline(h = 0, v = 0)\n",
        "abline(v = -3.5, lty = 5)\n",
        "legend(x = -4, y = 180, legend = c(\"function a\", \"function b\", \"function c\"), col = c(\"blue\", \"red\", \"black\"), lty = c(1, 2, 5))"
      ],
      "execution_count": null,
      "outputs": [
        {
          "output_type": "display_data",
          "data": {
            "image/png": "[encoded data removed]",
            "text/plain": [
              "Plot with title “three function plot under x belongs to (-5, 5)”"
            ]
          },
          "metadata": {
            "tags": [],
            "image/png": {
              "width": 420,
              "height": 420
            }
          }
        }
      ]
    },
    {
      "cell_type": "code",
      "metadata": {
        "colab": {
          "base_uri": "https://localhost:8080/",
          "height": 640
        },
        "id": "cTDyyeSfJQ_V",
        "outputId": "539c4e1a-f777-4dbb-daa4-d52f005cea67"
      },
      "source": [
        "uniroot(func_a, c(0, 1))\n",
        "cat(\"===============================\\n\")\n",
        "uniroot(func_b, c(-3.3, -3.1))\n",
        "cat(\"===============================\\n\")\n",
        "uniroot(func_c, c(0, 1))"
      ],
      "execution_count": null,
      "outputs": [
        {
          "output_type": "display_data",
          "data": {
            "text/plain": [
              "$root\n",
              "[1] 0.2756769\n",
              "\n",
              "$f.root\n",
              "[1] -2.287619e-05\n",
              "\n",
              "$iter\n",
              "[1] 6\n",
              "\n",
              "$init.it\n",
              "[1] NA\n",
              "\n",
              "$estim.prec\n",
              "[1] 6.103516e-05\n"
            ],
            "text/latex": "\\begin{description}\n\\item[\\$root] 0.275676921339566\n\\item[\\$f.root] -2.28761901243102e-05\n\\item[\\$iter] 6\n\\item[\\$init.it] <NA>\n\\item[\\$estim.prec] 6.1035156250111e-05\n\\end{description}\n",
            "text/markdown": "$root\n:   0.275676921339566\n$f.root\n:   -2.28761901243102e-05\n$iter\n:   6\n$init.it\n:   &lt;NA&gt;\n$estim.prec\n:   6.1035156250111e-05\n\n\n",
            "text/html": [
              "<dl>\n",
              "\t<dt>$root</dt>\n",
              "\t\t<dd>0.275676921339566</dd>\n",
              "\t<dt>$f.root</dt>\n",
              "\t\t<dd>-2.28761901243102e-05</dd>\n",
              "\t<dt>$iter</dt>\n",
              "\t\t<dd>6</dd>\n",
              "\t<dt>$init.it</dt>\n",
              "\t\t<dd>&lt;NA&gt;</dd>\n",
              "\t<dt>$estim.prec</dt>\n",
              "\t\t<dd>6.1035156250111e-05</dd>\n",
              "</dl>\n"
            ]
          },
          "metadata": {
            "tags": []
          }
        },
        {
          "output_type": "stream",
          "text": [
            "===============================\n"
          ],
          "name": "stdout"
        },
        {
          "output_type": "display_data",
          "data": {
            "text/plain": [
              "$root\n",
              "[1] -3.132146\n",
              "\n",
              "$f.root\n",
              "[1] -0.000187168\n",
              "\n",
              "$iter\n",
              "[1] 5\n",
              "\n",
              "$init.it\n",
              "[1] NA\n",
              "\n",
              "$estim.prec\n",
              "[1] 6.103516e-05\n"
            ],
            "text/latex": "\\begin{description}\n\\item[\\$root] -3.13214588751383\n\\item[\\$f.root] -0.00018716796297813\n\\item[\\$iter] 5\n\\item[\\$init.it] <NA>\n\\item[\\$estim.prec] 6.10351562513323e-05\n\\end{description}\n",
            "text/markdown": "$root\n:   -3.13214588751383\n$f.root\n:   -0.00018716796297813\n$iter\n:   5\n$init.it\n:   &lt;NA&gt;\n$estim.prec\n:   6.10351562513323e-05\n\n\n",
            "text/html": [
              "<dl>\n",
              "\t<dt>$root</dt>\n",
              "\t\t<dd>-3.13214588751383</dd>\n",
              "\t<dt>$f.root</dt>\n",
              "\t\t<dd>-0.00018716796297813</dd>\n",
              "\t<dt>$iter</dt>\n",
              "\t\t<dd>5</dd>\n",
              "\t<dt>$init.it</dt>\n",
              "\t\t<dd>&lt;NA&gt;</dd>\n",
              "\t<dt>$estim.prec</dt>\n",
              "\t\t<dd>6.10351562513323e-05</dd>\n",
              "</dl>\n"
            ]
          },
          "metadata": {
            "tags": []
          }
        },
        {
          "output_type": "stream",
          "text": [
            "===============================\n"
          ],
          "name": "stdout"
        },
        {
          "output_type": "display_data",
          "data": {
            "text/plain": [
              "$root\n",
              "[1] 0.5577421\n",
              "\n",
              "$f.root\n",
              "[1] -9.543937e-06\n",
              "\n",
              "$iter\n",
              "[1] 5\n",
              "\n",
              "$init.it\n",
              "[1] NA\n",
              "\n",
              "$estim.prec\n",
              "[1] 6.103516e-05\n"
            ],
            "text/latex": "\\begin{description}\n\\item[\\$root] 0.557742090299512\n\\item[\\$f.root] -9.54393651259045e-06\n\\item[\\$iter] 5\n\\item[\\$init.it] <NA>\n\\item[\\$estim.prec] 6.1035156250222e-05\n\\end{description}\n",
            "text/markdown": "$root\n:   0.557742090299512\n$f.root\n:   -9.54393651259045e-06\n$iter\n:   5\n$init.it\n:   &lt;NA&gt;\n$estim.prec\n:   6.1035156250222e-05\n\n\n",
            "text/html": [
              "<dl>\n",
              "\t<dt>$root</dt>\n",
              "\t\t<dd>0.557742090299512</dd>\n",
              "\t<dt>$f.root</dt>\n",
              "\t\t<dd>-9.54393651259045e-06</dd>\n",
              "\t<dt>$iter</dt>\n",
              "\t\t<dd>5</dd>\n",
              "\t<dt>$init.it</dt>\n",
              "\t\t<dd>&lt;NA&gt;</dd>\n",
              "\t<dt>$estim.prec</dt>\n",
              "\t\t<dd>6.1035156250222e-05</dd>\n",
              "</dl>\n"
            ]
          },
          "metadata": {
            "tags": []
          }
        }
      ]
    },
    {
      "cell_type": "code",
      "metadata": {
        "id": "hQ7AAGCN_oia"
      },
      "source": [
        "# bisection method\n",
        "bisection = function(f, x0, x1, tol = 1e-10){\n",
        "    a = x0\n",
        "    b = x1\n",
        "    tol = tol\n",
        "    i = 0\n",
        "    if (f(a)*f(b) > 0){print(\"There are no roots between x0 and x1.\")}\n",
        "    while (abs(b - a) > 2 * tol){\n",
        "        i = i + 1\n",
        "        mid = 0.5 * (a + b)\n",
        "        if (f(mid) * f(b) < 0){\n",
        "            a = mid\n",
        "        }else{\n",
        "            b = mid\n",
        "        }\n",
        "    }\n",
        "    return (list(roots = mid, iteration = i, tol = tol))\n",
        "}"
      ],
      "execution_count": null,
      "outputs": []
    },
    {
      "cell_type": "code",
      "metadata": {
        "id": "96tCLbhBOmDh",
        "colab": {
          "base_uri": "https://localhost:8080/",
          "height": 438
        },
        "outputId": "51835475-af7e-4244-a9f8-cb55ecfd9010"
      },
      "source": [
        "bisection(func_a, 0, 1)\n",
        "cat(\"===============================\\n\")\n",
        "bisection(func_b, -3.3, -3.1)\n",
        "cat(\"===============================\\n\")\n",
        "bisection(func_c, 0, 1)"
      ],
      "execution_count": null,
      "outputs": [
        {
          "output_type": "display_data",
          "data": {
            "text/plain": [
              "$roots\n",
              "[1] 0.2756822\n",
              "\n",
              "$iteration\n",
              "[1] 33\n",
              "\n",
              "$tol\n",
              "[1] 1e-10\n"
            ],
            "text/latex": "\\begin{description}\n\\item[\\$roots] 0.275682203588076\n\\item[\\$iteration] 33\n\\item[\\$tol] 1e-10\n\\end{description}\n",
            "text/markdown": "$roots\n:   0.275682203588076\n$iteration\n:   33\n$tol\n:   1e-10\n\n\n",
            "text/html": [
              "<dl>\n",
              "\t<dt>$roots</dt>\n",
              "\t\t<dd>0.275682203588076</dd>\n",
              "\t<dt>$iteration</dt>\n",
              "\t\t<dd>33</dd>\n",
              "\t<dt>$tol</dt>\n",
              "\t\t<dd>1e-10</dd>\n",
              "</dl>\n"
            ]
          },
          "metadata": {
            "tags": []
          }
        },
        {
          "output_type": "stream",
          "text": [
            "===============================\n"
          ],
          "name": "stdout"
        },
        {
          "output_type": "display_data",
          "data": {
            "text/plain": [
              "$roots\n",
              "[1] -3.132121\n",
              "\n",
              "$iteration\n",
              "[1] 30\n",
              "\n",
              "$tol\n",
              "[1] 1e-10\n"
            ],
            "text/latex": "\\begin{description}\n\\item[\\$roots] -3.13212055880576\n\\item[\\$iteration] 30\n\\item[\\$tol] 1e-10\n\\end{description}\n",
            "text/markdown": "$roots\n:   -3.13212055880576\n$iteration\n:   30\n$tol\n:   1e-10\n\n\n",
            "text/html": [
              "<dl>\n",
              "\t<dt>$roots</dt>\n",
              "\t\t<dd>-3.13212055880576</dd>\n",
              "\t<dt>$iteration</dt>\n",
              "\t\t<dd>30</dd>\n",
              "\t<dt>$tol</dt>\n",
              "\t\t<dd>1e-10</dd>\n",
              "</dl>\n"
            ]
          },
          "metadata": {
            "tags": []
          }
        },
        {
          "output_type": "stream",
          "text": [
            "===============================\n"
          ],
          "name": "stdout"
        },
        {
          "output_type": "display_data",
          "data": {
            "text/plain": [
              "$roots\n",
              "[1] 0.5577287\n",
              "\n",
              "$iteration\n",
              "[1] 33\n",
              "\n",
              "$tol\n",
              "[1] 1e-10\n"
            ],
            "text/latex": "\\begin{description}\n\\item[\\$roots] 0.557728699059226\n\\item[\\$iteration] 33\n\\item[\\$tol] 1e-10\n\\end{description}\n",
            "text/markdown": "$roots\n:   0.557728699059226\n$iteration\n:   33\n$tol\n:   1e-10\n\n\n",
            "text/html": [
              "<dl>\n",
              "\t<dt>$roots</dt>\n",
              "\t\t<dd>0.557728699059226</dd>\n",
              "\t<dt>$iteration</dt>\n",
              "\t\t<dd>33</dd>\n",
              "\t<dt>$tol</dt>\n",
              "\t\t<dd>1e-10</dd>\n",
              "</dl>\n"
            ]
          },
          "metadata": {
            "tags": []
          }
        }
      ]
    },
    {
      "cell_type": "code",
      "metadata": {
        "id": "tJLOYCkMUuHA"
      },
      "source": [
        "# secant method\n",
        "secant = function(f, x0, x1, tol = 1e-10){\n",
        "    iter = 0\n",
        "    while (abs(f(x0)) > tol){\n",
        "        x2 = x1 - f(x1) * (x1 - x0) / (f(x1) - f(x0))\n",
        "        x0 = x1\n",
        "        x1 = x2\n",
        "        iter = iter + 1\n",
        "    }\n",
        "    return (list(roots = x1, iteration = iter, tol = tol))\n",
        "}"
      ],
      "execution_count": null,
      "outputs": []
    },
    {
      "cell_type": "code",
      "metadata": {
        "colab": {
          "base_uri": "https://localhost:8080/",
          "height": 438
        },
        "id": "iQkMW-Dxvy0K",
        "outputId": "28610af7-b809-4a1b-f038-a36e7c797c54"
      },
      "source": [
        "secant(func_a, 0, 1)\n",
        "cat(\"============================\\n\")\n",
        "secant(func_b, -3.3, -3.1)\n",
        "cat(\"============================\\n\")\n",
        "secant(func_c, 0, 1)"
      ],
      "execution_count": null,
      "outputs": [
        {
          "output_type": "display_data",
          "data": {
            "text/plain": [
              "$roots\n",
              "[1] 0.2756822\n",
              "\n",
              "$iteration\n",
              "[1] 7\n",
              "\n",
              "$tol\n",
              "[1] 1e-10\n"
            ],
            "text/latex": "\\begin{description}\n\\item[\\$roots] 0.275682203650985\n\\item[\\$iteration] 7\n\\item[\\$tol] 1e-10\n\\end{description}\n",
            "text/markdown": "$roots\n:   0.275682203650985\n$iteration\n:   7\n$tol\n:   1e-10\n\n\n",
            "text/html": [
              "<dl>\n",
              "\t<dt>$roots</dt>\n",
              "\t\t<dd>0.275682203650985</dd>\n",
              "\t<dt>$iteration</dt>\n",
              "\t\t<dd>7</dd>\n",
              "\t<dt>$tol</dt>\n",
              "\t\t<dd>1e-10</dd>\n",
              "</dl>\n"
            ]
          },
          "metadata": {
            "tags": []
          }
        },
        {
          "output_type": "stream",
          "text": [
            "============================\n"
          ],
          "name": "stdout"
        },
        {
          "output_type": "display_data",
          "data": {
            "text/plain": [
              "$roots\n",
              "[1] -3.132121\n",
              "\n",
              "$iteration\n",
              "[1] 7\n",
              "\n",
              "$tol\n",
              "[1] 1e-10\n"
            ],
            "text/latex": "\\begin{description}\n\\item[\\$roots] -3.13212055882856\n\\item[\\$iteration] 7\n\\item[\\$tol] 1e-10\n\\end{description}\n",
            "text/markdown": "$roots\n:   -3.13212055882856\n$iteration\n:   7\n$tol\n:   1e-10\n\n\n",
            "text/html": [
              "<dl>\n",
              "\t<dt>$roots</dt>\n",
              "\t\t<dd>-3.13212055882856</dd>\n",
              "\t<dt>$iteration</dt>\n",
              "\t\t<dd>7</dd>\n",
              "\t<dt>$tol</dt>\n",
              "\t\t<dd>1e-10</dd>\n",
              "</dl>\n"
            ]
          },
          "metadata": {
            "tags": []
          }
        },
        {
          "output_type": "stream",
          "text": [
            "============================\n"
          ],
          "name": "stdout"
        },
        {
          "output_type": "display_data",
          "data": {
            "text/plain": [
              "$roots\n",
              "[1] 0.5577287\n",
              "\n",
              "$iteration\n",
              "[1] 7\n",
              "\n",
              "$tol\n",
              "[1] 1e-10\n"
            ],
            "text/latex": "\\begin{description}\n\\item[\\$roots] 0.557728698980331\n\\item[\\$iteration] 7\n\\item[\\$tol] 1e-10\n\\end{description}\n",
            "text/markdown": "$roots\n:   0.557728698980331\n$iteration\n:   7\n$tol\n:   1e-10\n\n\n",
            "text/html": [
              "<dl>\n",
              "\t<dt>$roots</dt>\n",
              "\t\t<dd>0.557728698980331</dd>\n",
              "\t<dt>$iteration</dt>\n",
              "\t\t<dd>7</dd>\n",
              "\t<dt>$tol</dt>\n",
              "\t\t<dd>1e-10</dd>\n",
              "</dl>\n"
            ]
          },
          "metadata": {
            "tags": []
          }
        }
      ]
    },
    {
      "cell_type": "code",
      "metadata": {
        "id": "6S1LcIFaJsyp"
      },
      "source": [
        "# false position\n",
        "falsePosition = function(f, a, b, tol = 1e-10){\n",
        "    iter = 0\n",
        "    if (f(a) * f(b) >= 0){\n",
        "        print(\"you have not assumed right a and b\")\n",
        "    }\n",
        "\n",
        "    while (f(a) * f(b) < 0){\n",
        "        \n",
        "        iter = iter + 1\n",
        "        c = (a * f(b) - b * f(a)) / (f(b) - f(a))\n",
        "        # print(c)\n",
        "        if (abs(b - a) < tol){\n",
        "            # 條件不確定這個條件\n",
        "            break\n",
        "        }\n",
        "        else if (f(c) * f(a) < 0){\n",
        "            b = c\n",
        "            \n",
        "        }else{\n",
        "            a = c\n",
        "            \n",
        "        }\n",
        "    }\n",
        "    return (list(roots = c, iteration = iter, tol = tol))\n",
        "}"
      ],
      "execution_count": null,
      "outputs": []
    },
    {
      "cell_type": "code",
      "metadata": {
        "colab": {
          "base_uri": "https://localhost:8080/",
          "height": 438
        },
        "id": "J6rpuySkgamU",
        "outputId": "6ed2a173-684c-43bd-c286-18f8d3716a08"
      },
      "source": [
        "falsePosition(func_a, 0, 1)\n",
        "cat(\"====================================\\n\")\n",
        "falsePosition(func_b, -3.3, -3.1)\n",
        "cat(\"====================================\\n\")\n",
        "falsePosition(func_c, 0, 1)"
      ],
      "execution_count": null,
      "outputs": [
        {
          "output_type": "display_data",
          "data": {
            "text/plain": [
              "$roots\n",
              "[1] 0.2756822\n",
              "\n",
              "$iteration\n",
              "[1] 37\n",
              "\n",
              "$tol\n",
              "[1] 1e-10\n"
            ],
            "text/latex": "\\begin{description}\n\\item[\\$roots] 0.275682203650985\n\\item[\\$iteration] 37\n\\item[\\$tol] 1e-10\n\\end{description}\n",
            "text/markdown": "$roots\n:   0.275682203650985\n$iteration\n:   37\n$tol\n:   1e-10\n\n\n",
            "text/html": [
              "<dl>\n",
              "\t<dt>$roots</dt>\n",
              "\t\t<dd>0.275682203650985</dd>\n",
              "\t<dt>$iteration</dt>\n",
              "\t\t<dd>37</dd>\n",
              "\t<dt>$tol</dt>\n",
              "\t\t<dd>1e-10</dd>\n",
              "</dl>\n"
            ]
          },
          "metadata": {
            "tags": []
          }
        },
        {
          "output_type": "stream",
          "text": [
            "====================================\n"
          ],
          "name": "stdout"
        },
        {
          "output_type": "display_data",
          "data": {
            "text/plain": [
              "$roots\n",
              "[1] -3.132121\n",
              "\n",
              "$iteration\n",
              "[1] 41\n",
              "\n",
              "$tol\n",
              "[1] 1e-10\n"
            ],
            "text/latex": "\\begin{description}\n\\item[\\$roots] -3.13212055882856\n\\item[\\$iteration] 41\n\\item[\\$tol] 1e-10\n\\end{description}\n",
            "text/markdown": "$roots\n:   -3.13212055882856\n$iteration\n:   41\n$tol\n:   1e-10\n\n\n",
            "text/html": [
              "<dl>\n",
              "\t<dt>$roots</dt>\n",
              "\t\t<dd>-3.13212055882856</dd>\n",
              "\t<dt>$iteration</dt>\n",
              "\t\t<dd>41</dd>\n",
              "\t<dt>$tol</dt>\n",
              "\t\t<dd>1e-10</dd>\n",
              "</dl>\n"
            ]
          },
          "metadata": {
            "tags": []
          }
        },
        {
          "output_type": "stream",
          "text": [
            "====================================\n"
          ],
          "name": "stdout"
        },
        {
          "output_type": "display_data",
          "data": {
            "text/plain": [
              "$roots\n",
              "[1] 0.5577287\n",
              "\n",
              "$iteration\n",
              "[1] 24\n",
              "\n",
              "$tol\n",
              "[1] 1e-10\n"
            ],
            "text/latex": "\\begin{description}\n\\item[\\$roots] 0.557728698980331\n\\item[\\$iteration] 24\n\\item[\\$tol] 1e-10\n\\end{description}\n",
            "text/markdown": "$roots\n:   0.557728698980331\n$iteration\n:   24\n$tol\n:   1e-10\n\n\n",
            "text/html": [
              "<dl>\n",
              "\t<dt>$roots</dt>\n",
              "\t\t<dd>0.557728698980331</dd>\n",
              "\t<dt>$iteration</dt>\n",
              "\t\t<dd>24</dd>\n",
              "\t<dt>$tol</dt>\n",
              "\t\t<dd>1e-10</dd>\n",
              "</dl>\n"
            ]
          },
          "metadata": {
            "tags": []
          }
        }
      ]
    },
    {
      "cell_type": "markdown",
      "metadata": {
        "id": "4kt5q2JeiiXl"
      },
      "source": [
        "4.Consider a multinomial observation $X = (x_1, x_2, x_3, x_4)$ with class probabilities given by $(p_1, p_2, p_3, p_4) = (\\frac{2+\\theta}{4}, \\frac{1-\\theta}{4}, \\frac{1-\\theta}{4}, \\frac{\\theta}{4})$, where $0< \\theta <1$. The sample size is $n = \\sum{x_i}$ and the parameter $\\theta$ is to be estimated from the observed frequencies (1997, 906, 904, 32), i.e., sample size 3839. Use the secant, Ridder’s (or Brent’s), and Newton-Raphosn methods to find the MLE (via $l'(\\theta)$). You may choose your own starting points and convergence criterion (preferred $10^{-6}$ or smaller)."
      ]
    },
    {
      "cell_type": "code",
      "metadata": {
        "id": "4mSjGPUEt1jh"
      },
      "source": [
        "L = function(x){1997/(2+x) - 1810/(1-x) + 32/x}\n",
        "dL = function(x){-1997/((2+x)^2) - 1810/((1-x)^2) - 32/(x^2)}"
      ],
      "execution_count": null,
      "outputs": []
    },
    {
      "cell_type": "code",
      "metadata": {
        "colab": {
          "base_uri": "https://localhost:8080/",
          "height": 437
        },
        "id": "mi5LjlElGIzW",
        "outputId": "2dff9deb-8c89-474a-ce8b-5ba979293781"
      },
      "source": [
        "x = seq(0, 0.1, length.out = 200)\n",
        "\n",
        "plot(x, dL(x), type = \"l\", col = \"red\", ylab = \"(lnL(x))'\")\n",
        "abline(h = 0)"
      ],
      "execution_count": null,
      "outputs": [
        {
          "output_type": "display_data",
          "data": {
            "image/png": "[encoded data removed]",
            "text/plain": [
              "plot without title"
            ]
          },
          "metadata": {
            "tags": [],
            "image/png": {
              "width": 420,
              "height": 420
            }
          }
        }
      ]
    },
    {
      "cell_type": "code",
      "metadata": {
        "colab": {
          "base_uri": "https://localhost:8080/",
          "height": 213
        },
        "id": "5CtjaRmIGkde",
        "outputId": "353b2da2-1e81-452e-fd74-68e009e7a051"
      },
      "source": [
        "uniroot(L, c(0, 1))"
      ],
      "execution_count": null,
      "outputs": [
        {
          "output_type": "display_data",
          "data": {
            "text/plain": [
              "$root\n",
              "[1] 0.03570979\n",
              "\n",
              "$f.root\n",
              "[1] 0.06907122\n",
              "\n",
              "$iter\n",
              "[1] 9\n",
              "\n",
              "$init.it\n",
              "[1] NA\n",
              "\n",
              "$estim.prec\n",
              "[1] 6.103516e-05\n"
            ],
            "text/latex": "\\begin{description}\n\\item[\\$root] 0.0357097924746126\n\\item[\\$f.root] 0.0690712248674572\n\\item[\\$iter] 9\n\\item[\\$init.it] <NA>\n\\item[\\$estim.prec] 6.10351562500139e-05\n\\end{description}\n",
            "text/markdown": "$root\n:   0.0357097924746126\n$f.root\n:   0.0690712248674572\n$iter\n:   9\n$init.it\n:   &lt;NA&gt;\n$estim.prec\n:   6.10351562500139e-05\n\n\n",
            "text/html": [
              "<dl>\n",
              "\t<dt>$root</dt>\n",
              "\t\t<dd>0.0357097924746126</dd>\n",
              "\t<dt>$f.root</dt>\n",
              "\t\t<dd>0.0690712248674572</dd>\n",
              "\t<dt>$iter</dt>\n",
              "\t\t<dd>9</dd>\n",
              "\t<dt>$init.it</dt>\n",
              "\t\t<dd>&lt;NA&gt;</dd>\n",
              "\t<dt>$estim.prec</dt>\n",
              "\t\t<dd>6.10351562500139e-05</dd>\n",
              "</dl>\n"
            ]
          },
          "metadata": {
            "tags": []
          }
        }
      ]
    },
    {
      "cell_type": "code",
      "metadata": {
        "id": "kdI7nz9pDa4Y"
      },
      "source": [
        "# secant method\n",
        "secant = function(f, x0, x1, tol = 1e-10){\n",
        "    iter = 0\n",
        "    while (abs(f(x0)) > tol){\n",
        "        x2 = x1 - f(x1) * (x1 - x0) / (f(x1) - f(x0))\n",
        "        x0 = x1\n",
        "        x1 = x2\n",
        "        iter = iter + 1\n",
        "    }\n",
        "    return (list(root = x1, iteration = iter, tol = tol))\n",
        "}"
      ],
      "execution_count": null,
      "outputs": []
    },
    {
      "cell_type": "code",
      "metadata": {
        "colab": {
          "base_uri": "https://localhost:8080/",
          "height": 146
        },
        "id": "T5seYR6XGpyA",
        "outputId": "23cee857-c059-4678-ff73-ac866f596627"
      },
      "source": [
        "secant(L, 0.005, 0.5)"
      ],
      "execution_count": null,
      "outputs": [
        {
          "output_type": "display_data",
          "data": {
            "text/plain": [
              "$roots\n",
              "[1] 0.0357123\n",
              "\n",
              "$iteration\n",
              "[1] 10\n",
              "\n",
              "$tol\n",
              "[1] 1e-10\n"
            ],
            "text/latex": "\\begin{description}\n\\item[\\$roots] 0.0357123022406282\n\\item[\\$iteration] 10\n\\item[\\$tol] 1e-10\n\\end{description}\n",
            "text/markdown": "$roots\n:   0.0357123022406282\n$iteration\n:   10\n$tol\n:   1e-10\n\n\n",
            "text/html": [
              "<dl>\n",
              "\t<dt>$roots</dt>\n",
              "\t\t<dd>0.0357123022406282</dd>\n",
              "\t<dt>$iteration</dt>\n",
              "\t\t<dd>10</dd>\n",
              "\t<dt>$tol</dt>\n",
              "\t\t<dd>1e-10</dd>\n",
              "</dl>\n"
            ]
          },
          "metadata": {
            "tags": []
          }
        }
      ]
    },
    {
      "cell_type": "code",
      "metadata": {
        "id": "t_gAgSnosa18"
      },
      "source": [
        "# ridders\n",
        "ridders = function(f, a, b, tol = 1e-10, max.iter = 500){\n",
        "    x1 = a\n",
        "    x2 = b\n",
        "    f1 = f(x1)\n",
        "    f2 = f(x2)\n",
        "    iter = 0\n",
        "    if (f1 * f2 >= 0) stop(\"f(a) and f(b) must have different signs!\")\n",
        "    while (abs(x1 - x2) > tol && iter <= max.iter){\n",
        "        mid = 0.5 * (x1 + x2)\n",
        "        fm = f(mid)\n",
        "        if (fm == 0){return (list(root = mid, iteration = iter, tol = tol))}\n",
        "        x3 = mid + (mid - x1) * sign(f1 - f2) * fm / sqrt(fm^2 - f1 * f2)\n",
        "        f3 = f(x3)\n",
        "        iter = iter + 1\n",
        "        if (f3 == 0){return (list(root = x3, iteration = iter, tol = tol))}\n",
        "        if (fm * f3 < 0){\n",
        "            x1 = mid\n",
        "            f1 = fm\n",
        "            x2 = x3\n",
        "            f2 = f3\n",
        "        }else if (f1 * f3 < 0){\n",
        "            x2 = x3\n",
        "            f2 = f3\n",
        "        }else if (f2 * f3 < 0){\n",
        "            x1 = x3\n",
        "            f1 = f3\n",
        "        }else{\n",
        "            stop(\"X\")\n",
        "        }\n",
        "    }\n",
        "    if (abs(f1) < abs(f2)){\n",
        "        x0 = x1\n",
        "        f0 = f1\n",
        "    }else{\n",
        "        x0 = x2\n",
        "        f0 = f2\n",
        "    }\n",
        "    return (list(root = x0, iteration = iter, tol = tol))\n",
        "}"
      ],
      "execution_count": null,
      "outputs": []
    },
    {
      "cell_type": "code",
      "metadata": {
        "colab": {
          "base_uri": "https://localhost:8080/",
          "height": 146
        },
        "id": "kmCHVo_lHUXQ",
        "outputId": "fe2dd192-cda1-4bfd-e04d-2f50639cda08"
      },
      "source": [
        "ridders(L, 0, 1)"
      ],
      "execution_count": null,
      "outputs": [
        {
          "output_type": "display_data",
          "data": {
            "text/plain": [
              "$root\n",
              "[1] 0.0357123\n",
              "\n",
              "$iteration\n",
              "[1] 9\n",
              "\n",
              "$tol\n",
              "[1] 1e-10\n"
            ],
            "text/latex": "\\begin{description}\n\\item[\\$root] 0.0357123022406281\n\\item[\\$iteration] 9\n\\item[\\$tol] 1e-10\n\\end{description}\n",
            "text/markdown": "$root\n:   0.0357123022406281\n$iteration\n:   9\n$tol\n:   1e-10\n\n\n",
            "text/html": [
              "<dl>\n",
              "\t<dt>$root</dt>\n",
              "\t\t<dd>0.0357123022406281</dd>\n",
              "\t<dt>$iteration</dt>\n",
              "\t\t<dd>9</dd>\n",
              "\t<dt>$tol</dt>\n",
              "\t\t<dd>1e-10</dd>\n",
              "</dl>\n"
            ]
          },
          "metadata": {
            "tags": []
          }
        }
      ]
    },
    {
      "cell_type": "code",
      "metadata": {
        "id": "c4RtSzFpy-3e"
      },
      "source": [
        "# Newton Raphson\n",
        "NR = function(f, df, x0, mat.iter = 500, tol = 1e-10){\n",
        "    x = x0\n",
        "  \n",
        "    iter = 0\n",
        "    error = tol + 1\n",
        "    while (error > tol){\n",
        "        iter = iter + 1\n",
        "        x = x - f(x)/df(x)\n",
        "        error = abs(f(x))\n",
        "    }\n",
        "    return (list(root = x, iteration = iter, tol = tol))\n",
        "}"
      ],
      "execution_count": null,
      "outputs": []
    },
    {
      "cell_type": "code",
      "metadata": {
        "colab": {
          "base_uri": "https://localhost:8080/",
          "height": 146
        },
        "id": "TflTv8VBHTz5",
        "outputId": "1e5bce56-08fb-49e5-e013-f24435135e37"
      },
      "source": [
        "NR(L, dL, 0.4)"
      ],
      "execution_count": null,
      "outputs": [
        {
          "output_type": "display_data",
          "data": {
            "text/plain": [
              "$root\n",
              "[1] 0.0357123\n",
              "\n",
              "$iteration\n",
              "[1] 6\n",
              "\n",
              "$tol\n",
              "[1] 1e-10\n"
            ],
            "text/latex": "\\begin{description}\n\\item[\\$root] 0.0357123022406281\n\\item[\\$iteration] 6\n\\item[\\$tol] 1e-10\n\\end{description}\n",
            "text/markdown": "$root\n:   0.0357123022406281\n$iteration\n:   6\n$tol\n:   1e-10\n\n\n",
            "text/html": [
              "<dl>\n",
              "\t<dt>$root</dt>\n",
              "\t\t<dd>0.0357123022406281</dd>\n",
              "\t<dt>$iteration</dt>\n",
              "\t\t<dd>6</dd>\n",
              "\t<dt>$tol</dt>\n",
              "\t\t<dd>1e-10</dd>\n",
              "</dl>\n"
            ]
          },
          "metadata": {
            "tags": []
          }
        }
      ]
    },
    {
      "cell_type": "markdown",
      "metadata": {
        "id": "ZghMy9XPjphG"
      },
      "source": [
        "5.Try at least three different methods to find the estimates of B and C for the \n",
        "Gompertz model, $\\mu_x = BC^x, x>0$, using the Taiwan data in 2018-2020. You \n",
        "may count “nlminb”, “nls” or “opt” as one of the methods (for replacing Newton’s method). Also, similar to what we saw in the class, discuss the influence of starting points to the number of iterations. You may choose the male data or female data.(Bonus: Compare the results of different counties.)\n"
      ]
    },
    {
      "cell_type": "code",
      "metadata": {
        "id": "iGz3a2thj36H",
        "colab": {
          "base_uri": "https://localhost:8080/"
        },
        "outputId": "c78007ce-09b1-4d88-c88f-148b554f0921"
      },
      "source": [
        "data = read.csv(\"maledeathrates.csv\", header = T)\n",
        "age = c(0:100)\n",
        "print(head(data, 20))"
      ],
      "execution_count": 4,
      "outputs": [
        {
          "output_type": "stream",
          "text": [
            "   year p_2017 p_2018 p_2019 n_2017 n_2018 n_2019 d_2017 d_2018 d_2019\n",
            "1     0   4.20   4.55   4.32  95090  88146  87291    399    401    377\n",
            "2     1   0.29   0.36   0.28 108888 102220  94647     32     37     27\n",
            "3     2   0.16   0.23   0.23 112410 109010 102418     18     25     24\n",
            "4     3   0.11   0.14   0.22 110720 112362 109031     12     16     24\n",
            "5     4   0.13   0.11   0.11 102612 110652 112352     13     12     12\n",
            "6     5   0.14   0.10   0.16 122946 102621 110652     17     10     18\n",
            "7     6   0.15   0.12   0.10 104314 122851 102538     16     15     10\n",
            "8     7   0.09   0.10   0.13  88178 104229 122720      8     10     16\n",
            "9     8   0.10   0.11   0.10 101632  88112 104183     10     10     10\n",
            "10    9   0.08   0.11   0.07 104081 101598  88111      8     11      6\n",
            "11   10   0.15   0.13   0.10 107711 104059 101602     16     14     10\n",
            "12   11   0.16   0.13   0.09 108141 107678 104051     17     14      9\n",
            "13   12   0.13   0.18   0.06 108537 108104 107657     14     19      6\n",
            "14   13   0.15   0.21   0.16 114611 108496 108079     17     23     17\n",
            "15   14   0.24   0.25   0.14 119086 114583 108470     29     29     15\n",
            "16   15   0.25   0.33   0.30 128699 119092 114601     32     39     34\n",
            "17   16   0.35   0.34   0.34 133670 128627 119073     47     44     40\n",
            "18   17   0.42   0.33   0.44 159409 133533 128522     67     44     57\n",
            "19   18   0.56   0.58   0.74 147394 159360 133486     83     92     99\n",
            "20   19   0.63   0.50   0.59 138696 147349 159323     87     74     94\n"
          ],
          "name": "stdout"
        }
      ]
    },
    {
      "cell_type": "code",
      "metadata": {
        "id": "qstnc7l6_tqW",
        "colab": {
          "base_uri": "https://localhost:8080/"
        },
        "outputId": "1b8cac16-716e-4e0b-8fe1-cae2e3c46e1e"
      },
      "source": [
        "# 2017\n",
        "# WLS\n",
        "age = c(0:100)\n",
        "survival_prob2017 = 1 - data[, 2]/1000\n",
        "\n",
        "y2017 = log(-log(survival_prob2017))\n",
        "WLS2017 = lm(y2017 ~ age, weights = c(data[, 5]))\n",
        "#print(summary(WLS2017)$coef)\n",
        "C2017 = exp(WLS2017$coef[2])\n",
        "B2017 = exp(WLS2017$coef[1] - log(C2017 - 1) + log(log(C2017)))\n",
        "print(C2017); print(B2017)\n",
        "cat(\"\\n\")\n",
        "\n",
        "\n",
        "# 2018\n",
        "# WLS\n",
        "age = c(0:100)\n",
        "survival_prob2018 = 1 - data[, 3]/1000\n",
        "\n",
        "y2018 = log(-log(survival_prob2018))\n",
        "WLS2018 = lm(y2018 ~ age, weights = c(data[, 6]))\n",
        "#print(summary(WLS2018)$coef)\n",
        "C2018 = exp(WLS2018$coef[2])\n",
        "B2018 = exp(WLS2018$coef[1] - log(C2018 - 1) + log(log(C2018)))\n",
        "print(C2018); print(B2018)\n",
        "cat(\"\\n\")\n",
        "\n",
        "# 2019\n",
        "# WLS\n",
        "age = c(0:100)\n",
        "survival_prob2019 = 1 - data[, 4]/1000\n",
        "\n",
        "y2019 = log(-log(survival_prob2019))\n",
        "WLS2019 = lm(y2019 ~ age, weights = c(data[, 7]))\n",
        "#print(summary(WLS2019)$coef)\n",
        "C2019 = exp(WLS2019$coef[2])\n",
        "B2019 = exp(WLS2019$coef[1] - log(C2019 - 1) + log(log(C2019)))\n",
        "print(C2019); print(B2019)\n",
        "cat(\"\\n\")"
      ],
      "execution_count": 7,
      "outputs": [
        {
          "output_type": "stream",
          "text": [
            "     age \n",
            "1.082013 \n",
            " (Intercept) \n",
            "9.490935e-05 \n",
            "\n",
            "     age \n",
            "1.081235 \n",
            " (Intercept) \n",
            "9.585549e-05 \n",
            "\n",
            "     age \n",
            "1.082263 \n",
            " (Intercept) \n",
            "9.000237e-05 \n",
            "\n"
          ],
          "name": "stdout"
        }
      ]
    },
    {
      "cell_type": "code",
      "metadata": {
        "colab": {
          "base_uri": "https://localhost:8080/",
          "height": 1000
        },
        "id": "SsCuDfTdS9cs",
        "outputId": "4286e392-cf84-4240-8803-4ee3efee0f25"
      },
      "source": [
        "# 2017\n",
        "# nonlinear maxmization\n",
        "func_nm2017 = function(nm2017){\n",
        "    B = nm2017[1]\n",
        "    C = nm2017[2]\n",
        "    minbc = sum(data[, 5] * (survival_prob2017 - exp(-B * (C^age * (C - 1) / log(C))))^2)\n",
        "    return (minbc)\n",
        "}\n",
        "\n",
        "nlminb(start = c(1e-5, 1.05), obj = func_nm2017)\n",
        "nlminb(start = c(1e-3, 1.1), obj = func_nm2017)\n",
        "nlminb(start = c(1, 0), obj = func_nm2017)\n",
        "cat(\"\\n\")\n",
        "# 2018\n",
        "# nonlinear maxmization\n",
        "func_nm2018 = function(nm2018){\n",
        "    B = nm2018[1]\n",
        "    C = nm2018[2]\n",
        "    minbc = sum(data[, 6] * (survival_prob2018 - exp(-B * (C^age * (C - 1) / log(C))))^2)\n",
        "    return (minbc)\n",
        "}\n",
        "\n",
        "nlminb(start = c(1e-5, 1.05), obj = func_nm2018)\n",
        "nlminb(start = c(1e-3, 1.1), obj = func_nm2018)\n",
        "nlminb(start = c(1, 0), obj = func_nm2018)\n",
        "\n",
        "cat(\"\\n\")\n",
        "# 2019\n",
        "# nonlinear maxmization\n",
        "func_nm2019 = function(nm2019){\n",
        "    B = nm2019[1]\n",
        "    C = nm2019[2]\n",
        "    minbc = sum(data[, 7] * (survival_prob2019 - exp(-B * (C^age * (C - 1) / log(C))))^2)\n",
        "    return (minbc)\n",
        "}\n",
        "\n",
        "nlminb(start = c(1e-5, 1.05), obj = func_nm2019)\n",
        "nlminb(start = c(1e-3, 1.1), obj = func_nm2019)\n",
        "nlminb(start = c(1, 0), obj = func_nm2019)\n",
        "cat(\"\\n\")"
      ],
      "execution_count": 9,
      "outputs": [
        {
          "output_type": "display_data",
          "data": {
            "text/plain": [
              "$par\n",
              "[1] 3.114022e-05 1.099871e+00\n",
              "\n",
              "$objective\n",
              "[1] 43.40604\n",
              "\n",
              "$convergence\n",
              "[1] 0\n",
              "\n",
              "$iterations\n",
              "[1] 34\n",
              "\n",
              "$evaluations\n",
              "function gradient \n",
              "      56       76 \n",
              "\n",
              "$message\n",
              "[1] \"both X-convergence and relative convergence (5)\"\n"
            ],
            "text/latex": "\\begin{description}\n\\item[\\$par] \\begin{enumerate*}\n\\item 3.11402199560593e-05\n\\item 1.09987051800797\n\\end{enumerate*}\n\n\\item[\\$objective] 43.4060396556321\n\\item[\\$convergence] 0\n\\item[\\$iterations] 34\n\\item[\\$evaluations] \\begin{description*}\n\\item[function] 56\n\\item[gradient] 76\n\\end{description*}\n\n\\item[\\$message] 'both X-convergence and relative convergence (5)'\n\\end{description}\n",
            "text/markdown": "$par\n:   1. 3.11402199560593e-05\n2. 1.09987051800797\n\n\n\n$objective\n:   43.4060396556321\n$convergence\n:   0\n$iterations\n:   34\n$evaluations\n:   function\n:   56gradient\n:   76\n\n\n$message\n:   'both X-convergence and relative convergence (5)'\n\n\n",
            "text/html": [
              "<dl>\n",
              "\t<dt>$par</dt>\n",
              "\t\t<dd><style>\n",
              ".list-inline {list-style: none; margin:0; padding: 0}\n",
              ".list-inline>li {display: inline-block}\n",
              ".list-inline>li:not(:last-child)::after {content: \"\\00b7\"; padding: 0 .5ex}\n",
              "</style>\n",
              "<ol class=list-inline><li>3.11402199560593e-05</li><li>1.09987051800797</li></ol>\n",
              "</dd>\n",
              "\t<dt>$objective</dt>\n",
              "\t\t<dd>43.4060396556321</dd>\n",
              "\t<dt>$convergence</dt>\n",
              "\t\t<dd>0</dd>\n",
              "\t<dt>$iterations</dt>\n",
              "\t\t<dd>34</dd>\n",
              "\t<dt>$evaluations</dt>\n",
              "\t\t<dd><style>\n",
              ".dl-inline {width: auto; margin:0; padding: 0}\n",
              ".dl-inline>dt, .dl-inline>dd {float: none; width: auto; display: inline-block}\n",
              ".dl-inline>dt::after {content: \":\\0020\"; padding-right: .5ex}\n",
              ".dl-inline>dt:not(:first-of-type) {padding-left: .5ex}\n",
              "</style><dl class=dl-inline><dt>function</dt><dd>56</dd><dt>gradient</dt><dd>76</dd></dl>\n",
              "</dd>\n",
              "\t<dt>$message</dt>\n",
              "\t\t<dd>'both X-convergence and relative convergence (5)'</dd>\n",
              "</dl>\n"
            ]
          },
          "metadata": {
            "tags": []
          }
        },
        {
          "output_type": "display_data",
          "data": {
            "text/plain": [
              "$par\n",
              "[1] 1.936738e-06 1.099938e+00\n",
              "\n",
              "$objective\n",
              "[1] 5557.101\n",
              "\n",
              "$convergence\n",
              "[1] 1\n",
              "\n",
              "$iterations\n",
              "[1] 2\n",
              "\n",
              "$evaluations\n",
              "function gradient \n",
              "      17        4 \n",
              "\n",
              "$message\n",
              "[1] \"false convergence (8)\"\n"
            ],
            "text/latex": "\\begin{description}\n\\item[\\$par] \\begin{enumerate*}\n\\item 1.93673798512739e-06\n\\item 1.09993779288597\n\\end{enumerate*}\n\n\\item[\\$objective] 5557.10092993574\n\\item[\\$convergence] 1\n\\item[\\$iterations] 2\n\\item[\\$evaluations] \\begin{description*}\n\\item[function] 17\n\\item[gradient] 4\n\\end{description*}\n\n\\item[\\$message] 'false convergence (8)'\n\\end{description}\n",
            "text/markdown": "$par\n:   1. 1.93673798512739e-06\n2. 1.09993779288597\n\n\n\n$objective\n:   5557.10092993574\n$convergence\n:   1\n$iterations\n:   2\n$evaluations\n:   function\n:   17gradient\n:   4\n\n\n$message\n:   'false convergence (8)'\n\n\n",
            "text/html": [
              "<dl>\n",
              "\t<dt>$par</dt>\n",
              "\t\t<dd><style>\n",
              ".list-inline {list-style: none; margin:0; padding: 0}\n",
              ".list-inline>li {display: inline-block}\n",
              ".list-inline>li:not(:last-child)::after {content: \"\\00b7\"; padding: 0 .5ex}\n",
              "</style>\n",
              "<ol class=list-inline><li>1.93673798512739e-06</li><li>1.09993779288597</li></ol>\n",
              "</dd>\n",
              "\t<dt>$objective</dt>\n",
              "\t\t<dd>5557.10092993574</dd>\n",
              "\t<dt>$convergence</dt>\n",
              "\t\t<dd>1</dd>\n",
              "\t<dt>$iterations</dt>\n",
              "\t\t<dd>2</dd>\n",
              "\t<dt>$evaluations</dt>\n",
              "\t\t<dd><style>\n",
              ".dl-inline {width: auto; margin:0; padding: 0}\n",
              ".dl-inline>dt, .dl-inline>dd {float: none; width: auto; display: inline-block}\n",
              ".dl-inline>dt::after {content: \":\\0020\"; padding-right: .5ex}\n",
              ".dl-inline>dt:not(:first-of-type) {padding-left: .5ex}\n",
              "</style><dl class=dl-inline><dt>function</dt><dd>17</dd><dt>gradient</dt><dd>4</dd></dl>\n",
              "</dd>\n",
              "\t<dt>$message</dt>\n",
              "\t\t<dd>'false convergence (8)'</dd>\n",
              "</dl>\n"
            ]
          },
          "metadata": {
            "tags": []
          }
        },
        {
          "output_type": "stream",
          "text": [
            "Warning message in log(C):\n",
            "“NaNs produced”\n",
            "Warning message in nlminb(start = c(1, 0), obj = func_nm2017):\n",
            "“NA/NaN function evaluation”\n",
            "Warning message in log(C):\n",
            "“NaNs produced”\n",
            "Warning message in nlminb(start = c(1, 0), obj = func_nm2017):\n",
            "“NA/NaN function evaluation”\n",
            "Warning message in log(C):\n",
            "“NaNs produced”\n",
            "Warning message in nlminb(start = c(1, 0), obj = func_nm2017):\n",
            "“NA/NaN function evaluation”\n",
            "Warning message in log(C):\n",
            "“NaNs produced”\n",
            "Warning message in nlminb(start = c(1, 0), obj = func_nm2017):\n",
            "“NA/NaN function evaluation”\n",
            "Warning message in log(C):\n",
            "“NaNs produced”\n",
            "Warning message in nlminb(start = c(1, 0), obj = func_nm2017):\n",
            "“NA/NaN function evaluation”\n",
            "Warning message in log(C):\n",
            "“NaNs produced”\n",
            "Warning message in nlminb(start = c(1, 0), obj = func_nm2017):\n",
            "“NA/NaN function evaluation”\n",
            "Warning message in log(C):\n",
            "“NaNs produced”\n",
            "Warning message in nlminb(start = c(1, 0), obj = func_nm2017):\n",
            "“NA/NaN function evaluation”\n",
            "Warning message in log(C):\n",
            "“NaNs produced”\n",
            "Warning message in nlminb(start = c(1, 0), obj = func_nm2017):\n",
            "“NA/NaN function evaluation”\n",
            "Warning message in log(C):\n",
            "“NaNs produced”\n",
            "Warning message in nlminb(start = c(1, 0), obj = func_nm2017):\n",
            "“NA/NaN function evaluation”\n",
            "Warning message in log(C):\n",
            "“NaNs produced”\n",
            "Warning message in nlminb(start = c(1, 0), obj = func_nm2017):\n",
            "“NA/NaN function evaluation”\n",
            "Warning message in log(C):\n",
            "“NaNs produced”\n",
            "Warning message in nlminb(start = c(1, 0), obj = func_nm2017):\n",
            "“NA/NaN function evaluation”\n",
            "Warning message in log(C):\n",
            "“NaNs produced”\n",
            "Warning message in nlminb(start = c(1, 0), obj = func_nm2017):\n",
            "“NA/NaN function evaluation”\n",
            "Warning message in log(C):\n",
            "“NaNs produced”\n",
            "Warning message in nlminb(start = c(1, 0), obj = func_nm2017):\n",
            "“NA/NaN function evaluation”\n",
            "Warning message in log(C):\n",
            "“NaNs produced”\n",
            "Warning message in nlminb(start = c(1, 0), obj = func_nm2017):\n",
            "“NA/NaN function evaluation”\n",
            "Warning message in log(C):\n",
            "“NaNs produced”\n",
            "Warning message in nlminb(start = c(1, 0), obj = func_nm2017):\n",
            "“NA/NaN function evaluation”\n"
          ],
          "name": "stderr"
        },
        {
          "output_type": "display_data",
          "data": {
            "text/plain": [
              "$par\n",
              "[1] 1 0\n",
              "\n",
              "$objective\n",
              "[1] 6378.747\n",
              "\n",
              "$convergence\n",
              "[1] 1\n",
              "\n",
              "$iterations\n",
              "[1] 1\n",
              "\n",
              "$evaluations\n",
              "function gradient \n",
              "      16        2 \n",
              "\n",
              "$message\n",
              "[1] \"false convergence (8)\"\n"
            ],
            "text/latex": "\\begin{description}\n\\item[\\$par] \\begin{enumerate*}\n\\item 1\n\\item 0\n\\end{enumerate*}\n\n\\item[\\$objective] 6378.7474726296\n\\item[\\$convergence] 1\n\\item[\\$iterations] 1\n\\item[\\$evaluations] \\begin{description*}\n\\item[function] 16\n\\item[gradient] 2\n\\end{description*}\n\n\\item[\\$message] 'false convergence (8)'\n\\end{description}\n",
            "text/markdown": "$par\n:   1. 1\n2. 0\n\n\n\n$objective\n:   6378.7474726296\n$convergence\n:   1\n$iterations\n:   1\n$evaluations\n:   function\n:   16gradient\n:   2\n\n\n$message\n:   'false convergence (8)'\n\n\n",
            "text/html": [
              "<dl>\n",
              "\t<dt>$par</dt>\n",
              "\t\t<dd><style>\n",
              ".list-inline {list-style: none; margin:0; padding: 0}\n",
              ".list-inline>li {display: inline-block}\n",
              ".list-inline>li:not(:last-child)::after {content: \"\\00b7\"; padding: 0 .5ex}\n",
              "</style>\n",
              "<ol class=list-inline><li>1</li><li>0</li></ol>\n",
              "</dd>\n",
              "\t<dt>$objective</dt>\n",
              "\t\t<dd>6378.7474726296</dd>\n",
              "\t<dt>$convergence</dt>\n",
              "\t\t<dd>1</dd>\n",
              "\t<dt>$iterations</dt>\n",
              "\t\t<dd>1</dd>\n",
              "\t<dt>$evaluations</dt>\n",
              "\t\t<dd><style>\n",
              ".dl-inline {width: auto; margin:0; padding: 0}\n",
              ".dl-inline>dt, .dl-inline>dd {float: none; width: auto; display: inline-block}\n",
              ".dl-inline>dt::after {content: \":\\0020\"; padding-right: .5ex}\n",
              ".dl-inline>dt:not(:first-of-type) {padding-left: .5ex}\n",
              "</style><dl class=dl-inline><dt>function</dt><dd>16</dd><dt>gradient</dt><dd>2</dd></dl>\n",
              "</dd>\n",
              "\t<dt>$message</dt>\n",
              "\t\t<dd>'false convergence (8)'</dd>\n",
              "</dl>\n"
            ]
          },
          "metadata": {
            "tags": []
          }
        },
        {
          "output_type": "stream",
          "text": [
            "\n"
          ],
          "name": "stdout"
        },
        {
          "output_type": "display_data",
          "data": {
            "text/plain": [
              "$par\n",
              "[1] 2.895278e-05 1.100540e+00\n",
              "\n",
              "$objective\n",
              "[1] 33.93734\n",
              "\n",
              "$convergence\n",
              "[1] 0\n",
              "\n",
              "$iterations\n",
              "[1] 34\n",
              "\n",
              "$evaluations\n",
              "function gradient \n",
              "      58       74 \n",
              "\n",
              "$message\n",
              "[1] \"both X-convergence and relative convergence (5)\"\n"
            ],
            "text/latex": "\\begin{description}\n\\item[\\$par] \\begin{enumerate*}\n\\item 2.89527762163905e-05\n\\item 1.10054010394641\n\\end{enumerate*}\n\n\\item[\\$objective] 33.9373444735067\n\\item[\\$convergence] 0\n\\item[\\$iterations] 34\n\\item[\\$evaluations] \\begin{description*}\n\\item[function] 58\n\\item[gradient] 74\n\\end{description*}\n\n\\item[\\$message] 'both X-convergence and relative convergence (5)'\n\\end{description}\n",
            "text/markdown": "$par\n:   1. 2.89527762163905e-05\n2. 1.10054010394641\n\n\n\n$objective\n:   33.9373444735067\n$convergence\n:   0\n$iterations\n:   34\n$evaluations\n:   function\n:   58gradient\n:   74\n\n\n$message\n:   'both X-convergence and relative convergence (5)'\n\n\n",
            "text/html": [
              "<dl>\n",
              "\t<dt>$par</dt>\n",
              "\t\t<dd><style>\n",
              ".list-inline {list-style: none; margin:0; padding: 0}\n",
              ".list-inline>li {display: inline-block}\n",
              ".list-inline>li:not(:last-child)::after {content: \"\\00b7\"; padding: 0 .5ex}\n",
              "</style>\n",
              "<ol class=list-inline><li>2.89527762163905e-05</li><li>1.10054010394641</li></ol>\n",
              "</dd>\n",
              "\t<dt>$objective</dt>\n",
              "\t\t<dd>33.9373444735067</dd>\n",
              "\t<dt>$convergence</dt>\n",
              "\t\t<dd>0</dd>\n",
              "\t<dt>$iterations</dt>\n",
              "\t\t<dd>34</dd>\n",
              "\t<dt>$evaluations</dt>\n",
              "\t\t<dd><style>\n",
              ".dl-inline {width: auto; margin:0; padding: 0}\n",
              ".dl-inline>dt, .dl-inline>dd {float: none; width: auto; display: inline-block}\n",
              ".dl-inline>dt::after {content: \":\\0020\"; padding-right: .5ex}\n",
              ".dl-inline>dt:not(:first-of-type) {padding-left: .5ex}\n",
              "</style><dl class=dl-inline><dt>function</dt><dd>58</dd><dt>gradient</dt><dd>74</dd></dl>\n",
              "</dd>\n",
              "\t<dt>$message</dt>\n",
              "\t\t<dd>'both X-convergence and relative convergence (5)'</dd>\n",
              "</dl>\n"
            ]
          },
          "metadata": {
            "tags": []
          }
        },
        {
          "output_type": "display_data",
          "data": {
            "text/plain": [
              "$par\n",
              "[1] 1.938626e-06 1.099938e+00\n",
              "\n",
              "$objective\n",
              "[1] 5506.554\n",
              "\n",
              "$convergence\n",
              "[1] 1\n",
              "\n",
              "$iterations\n",
              "[1] 2\n",
              "\n",
              "$evaluations\n",
              "function gradient \n",
              "      17        4 \n",
              "\n",
              "$message\n",
              "[1] \"false convergence (8)\"\n"
            ],
            "text/latex": "\\begin{description}\n\\item[\\$par] \\begin{enumerate*}\n\\item 1.93862579217219e-06\n\\item 1.09993776260502\n\\end{enumerate*}\n\n\\item[\\$objective] 5506.55434251679\n\\item[\\$convergence] 1\n\\item[\\$iterations] 2\n\\item[\\$evaluations] \\begin{description*}\n\\item[function] 17\n\\item[gradient] 4\n\\end{description*}\n\n\\item[\\$message] 'false convergence (8)'\n\\end{description}\n",
            "text/markdown": "$par\n:   1. 1.93862579217219e-06\n2. 1.09993776260502\n\n\n\n$objective\n:   5506.55434251679\n$convergence\n:   1\n$iterations\n:   2\n$evaluations\n:   function\n:   17gradient\n:   4\n\n\n$message\n:   'false convergence (8)'\n\n\n",
            "text/html": [
              "<dl>\n",
              "\t<dt>$par</dt>\n",
              "\t\t<dd><style>\n",
              ".list-inline {list-style: none; margin:0; padding: 0}\n",
              ".list-inline>li {display: inline-block}\n",
              ".list-inline>li:not(:last-child)::after {content: \"\\00b7\"; padding: 0 .5ex}\n",
              "</style>\n",
              "<ol class=list-inline><li>1.93862579217219e-06</li><li>1.09993776260502</li></ol>\n",
              "</dd>\n",
              "\t<dt>$objective</dt>\n",
              "\t\t<dd>5506.55434251679</dd>\n",
              "\t<dt>$convergence</dt>\n",
              "\t\t<dd>1</dd>\n",
              "\t<dt>$iterations</dt>\n",
              "\t\t<dd>2</dd>\n",
              "\t<dt>$evaluations</dt>\n",
              "\t\t<dd><style>\n",
              ".dl-inline {width: auto; margin:0; padding: 0}\n",
              ".dl-inline>dt, .dl-inline>dd {float: none; width: auto; display: inline-block}\n",
              ".dl-inline>dt::after {content: \":\\0020\"; padding-right: .5ex}\n",
              ".dl-inline>dt:not(:first-of-type) {padding-left: .5ex}\n",
              "</style><dl class=dl-inline><dt>function</dt><dd>17</dd><dt>gradient</dt><dd>4</dd></dl>\n",
              "</dd>\n",
              "\t<dt>$message</dt>\n",
              "\t\t<dd>'false convergence (8)'</dd>\n",
              "</dl>\n"
            ]
          },
          "metadata": {
            "tags": []
          }
        },
        {
          "output_type": "stream",
          "text": [
            "Warning message in log(C):\n",
            "“NaNs produced”\n",
            "Warning message in nlminb(start = c(1, 0), obj = func_nm2018):\n",
            "“NA/NaN function evaluation”\n",
            "Warning message in log(C):\n",
            "“NaNs produced”\n",
            "Warning message in nlminb(start = c(1, 0), obj = func_nm2018):\n",
            "“NA/NaN function evaluation”\n",
            "Warning message in log(C):\n",
            "“NaNs produced”\n",
            "Warning message in nlminb(start = c(1, 0), obj = func_nm2018):\n",
            "“NA/NaN function evaluation”\n",
            "Warning message in log(C):\n",
            "“NaNs produced”\n",
            "Warning message in nlminb(start = c(1, 0), obj = func_nm2018):\n",
            "“NA/NaN function evaluation”\n",
            "Warning message in log(C):\n",
            "“NaNs produced”\n",
            "Warning message in nlminb(start = c(1, 0), obj = func_nm2018):\n",
            "“NA/NaN function evaluation”\n",
            "Warning message in log(C):\n",
            "“NaNs produced”\n",
            "Warning message in nlminb(start = c(1, 0), obj = func_nm2018):\n",
            "“NA/NaN function evaluation”\n",
            "Warning message in log(C):\n",
            "“NaNs produced”\n",
            "Warning message in nlminb(start = c(1, 0), obj = func_nm2018):\n",
            "“NA/NaN function evaluation”\n",
            "Warning message in log(C):\n",
            "“NaNs produced”\n",
            "Warning message in nlminb(start = c(1, 0), obj = func_nm2018):\n",
            "“NA/NaN function evaluation”\n",
            "Warning message in log(C):\n",
            "“NaNs produced”\n",
            "Warning message in nlminb(start = c(1, 0), obj = func_nm2018):\n",
            "“NA/NaN function evaluation”\n",
            "Warning message in log(C):\n",
            "“NaNs produced”\n",
            "Warning message in nlminb(start = c(1, 0), obj = func_nm2018):\n",
            "“NA/NaN function evaluation”\n",
            "Warning message in log(C):\n",
            "“NaNs produced”\n",
            "Warning message in nlminb(start = c(1, 0), obj = func_nm2018):\n",
            "“NA/NaN function evaluation”\n",
            "Warning message in log(C):\n",
            "“NaNs produced”\n",
            "Warning message in nlminb(start = c(1, 0), obj = func_nm2018):\n",
            "“NA/NaN function evaluation”\n",
            "Warning message in log(C):\n",
            "“NaNs produced”\n",
            "Warning message in nlminb(start = c(1, 0), obj = func_nm2018):\n",
            "“NA/NaN function evaluation”\n",
            "Warning message in log(C):\n",
            "“NaNs produced”\n",
            "Warning message in nlminb(start = c(1, 0), obj = func_nm2018):\n",
            "“NA/NaN function evaluation”\n",
            "Warning message in log(C):\n",
            "“NaNs produced”\n",
            "Warning message in nlminb(start = c(1, 0), obj = func_nm2018):\n",
            "“NA/NaN function evaluation”\n"
          ],
          "name": "stderr"
        },
        {
          "output_type": "display_data",
          "data": {
            "text/plain": [
              "$par\n",
              "[1] 1 0\n",
              "\n",
              "$objective\n",
              "[1] 6341.733\n",
              "\n",
              "$convergence\n",
              "[1] 1\n",
              "\n",
              "$iterations\n",
              "[1] 1\n",
              "\n",
              "$evaluations\n",
              "function gradient \n",
              "      16        2 \n",
              "\n",
              "$message\n",
              "[1] \"false convergence (8)\"\n"
            ],
            "text/latex": "\\begin{description}\n\\item[\\$par] \\begin{enumerate*}\n\\item 1\n\\item 0\n\\end{enumerate*}\n\n\\item[\\$objective] 6341.7333316981\n\\item[\\$convergence] 1\n\\item[\\$iterations] 1\n\\item[\\$evaluations] \\begin{description*}\n\\item[function] 16\n\\item[gradient] 2\n\\end{description*}\n\n\\item[\\$message] 'false convergence (8)'\n\\end{description}\n",
            "text/markdown": "$par\n:   1. 1\n2. 0\n\n\n\n$objective\n:   6341.7333316981\n$convergence\n:   1\n$iterations\n:   1\n$evaluations\n:   function\n:   16gradient\n:   2\n\n\n$message\n:   'false convergence (8)'\n\n\n",
            "text/html": [
              "<dl>\n",
              "\t<dt>$par</dt>\n",
              "\t\t<dd><style>\n",
              ".list-inline {list-style: none; margin:0; padding: 0}\n",
              ".list-inline>li {display: inline-block}\n",
              ".list-inline>li:not(:last-child)::after {content: \"\\00b7\"; padding: 0 .5ex}\n",
              "</style>\n",
              "<ol class=list-inline><li>1</li><li>0</li></ol>\n",
              "</dd>\n",
              "\t<dt>$objective</dt>\n",
              "\t\t<dd>6341.7333316981</dd>\n",
              "\t<dt>$convergence</dt>\n",
              "\t\t<dd>1</dd>\n",
              "\t<dt>$iterations</dt>\n",
              "\t\t<dd>1</dd>\n",
              "\t<dt>$evaluations</dt>\n",
              "\t\t<dd><style>\n",
              ".dl-inline {width: auto; margin:0; padding: 0}\n",
              ".dl-inline>dt, .dl-inline>dd {float: none; width: auto; display: inline-block}\n",
              ".dl-inline>dt::after {content: \":\\0020\"; padding-right: .5ex}\n",
              ".dl-inline>dt:not(:first-of-type) {padding-left: .5ex}\n",
              "</style><dl class=dl-inline><dt>function</dt><dd>16</dd><dt>gradient</dt><dd>2</dd></dl>\n",
              "</dd>\n",
              "\t<dt>$message</dt>\n",
              "\t\t<dd>'false convergence (8)'</dd>\n",
              "</dl>\n"
            ]
          },
          "metadata": {
            "tags": []
          }
        },
        {
          "output_type": "stream",
          "text": [
            "\n"
          ],
          "name": "stdout"
        },
        {
          "output_type": "display_data",
          "data": {
            "text/plain": [
              "$par\n",
              "[1] 2.600419e-05 1.101792e+00\n",
              "\n",
              "$objective\n",
              "[1] 47.34032\n",
              "\n",
              "$convergence\n",
              "[1] 0\n",
              "\n",
              "$iterations\n",
              "[1] 35\n",
              "\n",
              "$evaluations\n",
              "function gradient \n",
              "      65       79 \n",
              "\n",
              "$message\n",
              "[1] \"both X-convergence and relative convergence (5)\"\n"
            ],
            "text/latex": "\\begin{description}\n\\item[\\$par] \\begin{enumerate*}\n\\item 2.60041942235622e-05\n\\item 1.10179249008037\n\\end{enumerate*}\n\n\\item[\\$objective] 47.3403246293401\n\\item[\\$convergence] 0\n\\item[\\$iterations] 35\n\\item[\\$evaluations] \\begin{description*}\n\\item[function] 65\n\\item[gradient] 79\n\\end{description*}\n\n\\item[\\$message] 'both X-convergence and relative convergence (5)'\n\\end{description}\n",
            "text/markdown": "$par\n:   1. 2.60041942235622e-05\n2. 1.10179249008037\n\n\n\n$objective\n:   47.3403246293401\n$convergence\n:   0\n$iterations\n:   35\n$evaluations\n:   function\n:   65gradient\n:   79\n\n\n$message\n:   'both X-convergence and relative convergence (5)'\n\n\n",
            "text/html": [
              "<dl>\n",
              "\t<dt>$par</dt>\n",
              "\t\t<dd><style>\n",
              ".list-inline {list-style: none; margin:0; padding: 0}\n",
              ".list-inline>li {display: inline-block}\n",
              ".list-inline>li:not(:last-child)::after {content: \"\\00b7\"; padding: 0 .5ex}\n",
              "</style>\n",
              "<ol class=list-inline><li>2.60041942235622e-05</li><li>1.10179249008037</li></ol>\n",
              "</dd>\n",
              "\t<dt>$objective</dt>\n",
              "\t\t<dd>47.3403246293401</dd>\n",
              "\t<dt>$convergence</dt>\n",
              "\t\t<dd>0</dd>\n",
              "\t<dt>$iterations</dt>\n",
              "\t\t<dd>35</dd>\n",
              "\t<dt>$evaluations</dt>\n",
              "\t\t<dd><style>\n",
              ".dl-inline {width: auto; margin:0; padding: 0}\n",
              ".dl-inline>dt, .dl-inline>dd {float: none; width: auto; display: inline-block}\n",
              ".dl-inline>dt::after {content: \":\\0020\"; padding-right: .5ex}\n",
              ".dl-inline>dt:not(:first-of-type) {padding-left: .5ex}\n",
              "</style><dl class=dl-inline><dt>function</dt><dd>65</dd><dt>gradient</dt><dd>79</dd></dl>\n",
              "</dd>\n",
              "\t<dt>$message</dt>\n",
              "\t\t<dd>'both X-convergence and relative convergence (5)'</dd>\n",
              "</dl>\n"
            ]
          },
          "metadata": {
            "tags": []
          }
        },
        {
          "output_type": "display_data",
          "data": {
            "text/plain": [
              "$par\n",
              "[1] 1.942836e-06 1.099938e+00\n",
              "\n",
              "$objective\n",
              "[1] 5584.058\n",
              "\n",
              "$convergence\n",
              "[1] 1\n",
              "\n",
              "$iterations\n",
              "[1] 2\n",
              "\n",
              "$evaluations\n",
              "function gradient \n",
              "      17        4 \n",
              "\n",
              "$message\n",
              "[1] \"false convergence (8)\"\n"
            ],
            "text/latex": "\\begin{description}\n\\item[\\$par] \\begin{enumerate*}\n\\item 1.94283581022402e-06\n\\item 1.09993769512837\n\\end{enumerate*}\n\n\\item[\\$objective] 5584.05797404312\n\\item[\\$convergence] 1\n\\item[\\$iterations] 2\n\\item[\\$evaluations] \\begin{description*}\n\\item[function] 17\n\\item[gradient] 4\n\\end{description*}\n\n\\item[\\$message] 'false convergence (8)'\n\\end{description}\n",
            "text/markdown": "$par\n:   1. 1.94283581022402e-06\n2. 1.09993769512837\n\n\n\n$objective\n:   5584.05797404312\n$convergence\n:   1\n$iterations\n:   2\n$evaluations\n:   function\n:   17gradient\n:   4\n\n\n$message\n:   'false convergence (8)'\n\n\n",
            "text/html": [
              "<dl>\n",
              "\t<dt>$par</dt>\n",
              "\t\t<dd><style>\n",
              ".list-inline {list-style: none; margin:0; padding: 0}\n",
              ".list-inline>li {display: inline-block}\n",
              ".list-inline>li:not(:last-child)::after {content: \"\\00b7\"; padding: 0 .5ex}\n",
              "</style>\n",
              "<ol class=list-inline><li>1.94283581022402e-06</li><li>1.09993769512837</li></ol>\n",
              "</dd>\n",
              "\t<dt>$objective</dt>\n",
              "\t\t<dd>5584.05797404312</dd>\n",
              "\t<dt>$convergence</dt>\n",
              "\t\t<dd>1</dd>\n",
              "\t<dt>$iterations</dt>\n",
              "\t\t<dd>2</dd>\n",
              "\t<dt>$evaluations</dt>\n",
              "\t\t<dd><style>\n",
              ".dl-inline {width: auto; margin:0; padding: 0}\n",
              ".dl-inline>dt, .dl-inline>dd {float: none; width: auto; display: inline-block}\n",
              ".dl-inline>dt::after {content: \":\\0020\"; padding-right: .5ex}\n",
              ".dl-inline>dt:not(:first-of-type) {padding-left: .5ex}\n",
              "</style><dl class=dl-inline><dt>function</dt><dd>17</dd><dt>gradient</dt><dd>4</dd></dl>\n",
              "</dd>\n",
              "\t<dt>$message</dt>\n",
              "\t\t<dd>'false convergence (8)'</dd>\n",
              "</dl>\n"
            ]
          },
          "metadata": {
            "tags": []
          }
        },
        {
          "output_type": "stream",
          "text": [
            "Warning message in log(C):\n",
            "“NaNs produced”\n",
            "Warning message in nlminb(start = c(1, 0), obj = func_nm2019):\n",
            "“NA/NaN function evaluation”\n",
            "Warning message in log(C):\n",
            "“NaNs produced”\n",
            "Warning message in nlminb(start = c(1, 0), obj = func_nm2019):\n",
            "“NA/NaN function evaluation”\n",
            "Warning message in log(C):\n",
            "“NaNs produced”\n",
            "Warning message in nlminb(start = c(1, 0), obj = func_nm2019):\n",
            "“NA/NaN function evaluation”\n",
            "Warning message in log(C):\n",
            "“NaNs produced”\n",
            "Warning message in nlminb(start = c(1, 0), obj = func_nm2019):\n",
            "“NA/NaN function evaluation”\n",
            "Warning message in log(C):\n",
            "“NaNs produced”\n",
            "Warning message in nlminb(start = c(1, 0), obj = func_nm2019):\n",
            "“NA/NaN function evaluation”\n",
            "Warning message in log(C):\n",
            "“NaNs produced”\n",
            "Warning message in nlminb(start = c(1, 0), obj = func_nm2019):\n",
            "“NA/NaN function evaluation”\n",
            "Warning message in log(C):\n",
            "“NaNs produced”\n",
            "Warning message in nlminb(start = c(1, 0), obj = func_nm2019):\n",
            "“NA/NaN function evaluation”\n",
            "Warning message in log(C):\n",
            "“NaNs produced”\n",
            "Warning message in nlminb(start = c(1, 0), obj = func_nm2019):\n",
            "“NA/NaN function evaluation”\n",
            "Warning message in log(C):\n",
            "“NaNs produced”\n",
            "Warning message in nlminb(start = c(1, 0), obj = func_nm2019):\n",
            "“NA/NaN function evaluation”\n",
            "Warning message in log(C):\n",
            "“NaNs produced”\n",
            "Warning message in nlminb(start = c(1, 0), obj = func_nm2019):\n",
            "“NA/NaN function evaluation”\n",
            "Warning message in log(C):\n",
            "“NaNs produced”\n",
            "Warning message in nlminb(start = c(1, 0), obj = func_nm2019):\n",
            "“NA/NaN function evaluation”\n",
            "Warning message in log(C):\n",
            "“NaNs produced”\n",
            "Warning message in nlminb(start = c(1, 0), obj = func_nm2019):\n",
            "“NA/NaN function evaluation”\n",
            "Warning message in log(C):\n",
            "“NaNs produced”\n",
            "Warning message in nlminb(start = c(1, 0), obj = func_nm2019):\n",
            "“NA/NaN function evaluation”\n",
            "Warning message in log(C):\n",
            "“NaNs produced”\n",
            "Warning message in nlminb(start = c(1, 0), obj = func_nm2019):\n",
            "“NA/NaN function evaluation”\n",
            "Warning message in log(C):\n",
            "“NaNs produced”\n",
            "Warning message in nlminb(start = c(1, 0), obj = func_nm2019):\n",
            "“NA/NaN function evaluation”\n"
          ],
          "name": "stderr"
        },
        {
          "output_type": "display_data",
          "data": {
            "text/plain": [
              "$par\n",
              "[1] 1 0\n",
              "\n",
              "$objective\n",
              "[1] 6440.565\n",
              "\n",
              "$convergence\n",
              "[1] 1\n",
              "\n",
              "$iterations\n",
              "[1] 1\n",
              "\n",
              "$evaluations\n",
              "function gradient \n",
              "      16        2 \n",
              "\n",
              "$message\n",
              "[1] \"false convergence (8)\"\n"
            ],
            "text/latex": "\\begin{description}\n\\item[\\$par] \\begin{enumerate*}\n\\item 1\n\\item 0\n\\end{enumerate*}\n\n\\item[\\$objective] 6440.5645915159\n\\item[\\$convergence] 1\n\\item[\\$iterations] 1\n\\item[\\$evaluations] \\begin{description*}\n\\item[function] 16\n\\item[gradient] 2\n\\end{description*}\n\n\\item[\\$message] 'false convergence (8)'\n\\end{description}\n",
            "text/markdown": "$par\n:   1. 1\n2. 0\n\n\n\n$objective\n:   6440.5645915159\n$convergence\n:   1\n$iterations\n:   1\n$evaluations\n:   function\n:   16gradient\n:   2\n\n\n$message\n:   'false convergence (8)'\n\n\n",
            "text/html": [
              "<dl>\n",
              "\t<dt>$par</dt>\n",
              "\t\t<dd><style>\n",
              ".list-inline {list-style: none; margin:0; padding: 0}\n",
              ".list-inline>li {display: inline-block}\n",
              ".list-inline>li:not(:last-child)::after {content: \"\\00b7\"; padding: 0 .5ex}\n",
              "</style>\n",
              "<ol class=list-inline><li>1</li><li>0</li></ol>\n",
              "</dd>\n",
              "\t<dt>$objective</dt>\n",
              "\t\t<dd>6440.5645915159</dd>\n",
              "\t<dt>$convergence</dt>\n",
              "\t\t<dd>1</dd>\n",
              "\t<dt>$iterations</dt>\n",
              "\t\t<dd>1</dd>\n",
              "\t<dt>$evaluations</dt>\n",
              "\t\t<dd><style>\n",
              ".dl-inline {width: auto; margin:0; padding: 0}\n",
              ".dl-inline>dt, .dl-inline>dd {float: none; width: auto; display: inline-block}\n",
              ".dl-inline>dt::after {content: \":\\0020\"; padding-right: .5ex}\n",
              ".dl-inline>dt:not(:first-of-type) {padding-left: .5ex}\n",
              "</style><dl class=dl-inline><dt>function</dt><dd>16</dd><dt>gradient</dt><dd>2</dd></dl>\n",
              "</dd>\n",
              "\t<dt>$message</dt>\n",
              "\t\t<dd>'false convergence (8)'</dd>\n",
              "</dl>\n"
            ]
          },
          "metadata": {
            "tags": []
          }
        },
        {
          "output_type": "stream",
          "text": [
            "\n"
          ],
          "name": "stdout"
        }
      ]
    },
    {
      "cell_type": "code",
      "metadata": {
        "colab": {
          "base_uri": "https://localhost:8080/",
          "height": 1000
        },
        "id": "heODyzovdbUo",
        "outputId": "1adbc73c-ae7f-4f86-d062-857b6522e4da"
      },
      "source": [
        "# 2017\n",
        "# MLE\n",
        "n2017 = data[, 5]\n",
        "d2017 = data[, 8]\n",
        "func_mle2017 = function(mle){\n",
        "  B = mle[1]\n",
        "  C = mle[2]\n",
        "  minbc = sum(((n2017 - d2017) * B * (C^age) * (C - 1) / log(C) -\n",
        "                 d2017 * log(1 - exp(-B * (C^age) * (C - 1) / (log(C)))))^2)\n",
        "  return (minbc)\n",
        "}\n",
        "\n",
        "nlminb(start = c(1e-05, 1.05), obj = func_mle2017)\n",
        "nlminb(start = c(1e-03, 1.1), obj = func_mle2017)\n",
        "nlminb(start = c(1, 0), obj = func_mle2017)\n",
        "# 2018\n",
        "# MLE\n",
        "n2018 = data[, 6]\n",
        "d2018 = data[, 9]\n",
        "func_mle2018 = function(mle){\n",
        "  B = mle[1]\n",
        "  C = mle[2]\n",
        "  minbc = sum(((n2018 - d2018) * B * (C^age) * (C - 1) / log(C) -\n",
        "                 d2018 * log(1 - exp(-B * (C^age) * (C - 1) / (log(C)))))^2)\n",
        "  return (minbc)\n",
        "}\n",
        "\n",
        "nlminb(start = c(1e-05, 1.05), obj = func_mle2018)\n",
        "nlminb(start = c(1e-03, 1.1), obj = func_mle2018)\n",
        "nlminb(start = c(1, 0), obj = func_mle2018)\n",
        "\n",
        "# 2019\n",
        "# MLE\n",
        "n2019 = data[, 7]\n",
        "d2019 = data[, 10]\n",
        "func_mle2019 = function(mle){\n",
        "  B = mle[1]\n",
        "  C = mle[2]\n",
        "  minbc = sum(((n2019 - d2019) * B * (C^age) * (C - 1) / log(C) -\n",
        "                 d2019 * log(1 - exp(-B * (C^age) * (C - 1) / (log(C)))))^2)\n",
        "  return (minbc)\n",
        "}\n",
        "\n",
        "nlminb(start = c(1e-05, 1.05), obj = func_mle2019)\n",
        "nlminb(start = c(1e-03, 1.1), obj = func_mle2019)\n",
        "nlminb(start = c(1, 0), obj = func_mle2019)\n"
      ],
      "execution_count": 5,
      "outputs": [
        {
          "output_type": "display_data",
          "data": {
            "text/plain": [
              "$par\n",
              "[1] 5.347169e-05 1.092087e+00\n",
              "\n",
              "$objective\n",
              "[1] 3606200650\n",
              "\n",
              "$convergence\n",
              "[1] 0\n",
              "\n",
              "$iterations\n",
              "[1] 28\n",
              "\n",
              "$evaluations\n",
              "function gradient \n",
              "      66       63 \n",
              "\n",
              "$message\n",
              "[1] \"relative convergence (4)\"\n"
            ],
            "text/latex": "\\begin{description}\n\\item[\\$par] \\begin{enumerate*}\n\\item 5.34716916798127e-05\n\\item 1.09208719150654\n\\end{enumerate*}\n\n\\item[\\$objective] 3606200650.2952\n\\item[\\$convergence] 0\n\\item[\\$iterations] 28\n\\item[\\$evaluations] \\begin{description*}\n\\item[function] 66\n\\item[gradient] 63\n\\end{description*}\n\n\\item[\\$message] 'relative convergence (4)'\n\\end{description}\n",
            "text/markdown": "$par\n:   1. 5.34716916798127e-05\n2. 1.09208719150654\n\n\n\n$objective\n:   3606200650.2952\n$convergence\n:   0\n$iterations\n:   28\n$evaluations\n:   function\n:   66gradient\n:   63\n\n\n$message\n:   'relative convergence (4)'\n\n\n",
            "text/html": [
              "<dl>\n",
              "\t<dt>$par</dt>\n",
              "\t\t<dd><style>\n",
              ".list-inline {list-style: none; margin:0; padding: 0}\n",
              ".list-inline>li {display: inline-block}\n",
              ".list-inline>li:not(:last-child)::after {content: \"\\00b7\"; padding: 0 .5ex}\n",
              "</style>\n",
              "<ol class=list-inline><li>5.34716916798127e-05</li><li>1.09208719150654</li></ol>\n",
              "</dd>\n",
              "\t<dt>$objective</dt>\n",
              "\t\t<dd>3606200650.2952</dd>\n",
              "\t<dt>$convergence</dt>\n",
              "\t\t<dd>0</dd>\n",
              "\t<dt>$iterations</dt>\n",
              "\t\t<dd>28</dd>\n",
              "\t<dt>$evaluations</dt>\n",
              "\t\t<dd><style>\n",
              ".dl-inline {width: auto; margin:0; padding: 0}\n",
              ".dl-inline>dt, .dl-inline>dd {float: none; width: auto; display: inline-block}\n",
              ".dl-inline>dt::after {content: \":\\0020\"; padding-right: .5ex}\n",
              ".dl-inline>dt:not(:first-of-type) {padding-left: .5ex}\n",
              "</style><dl class=dl-inline><dt>function</dt><dd>66</dd><dt>gradient</dt><dd>63</dd></dl>\n",
              "</dd>\n",
              "\t<dt>$message</dt>\n",
              "\t\t<dd>'relative convergence (4)'</dd>\n",
              "</dl>\n"
            ]
          },
          "metadata": {
            "tags": []
          }
        },
        {
          "output_type": "stream",
          "text": [
            "Warning message in log(1 - exp(-B * (C^age) * (C - 1)/(log(C)))):\n",
            "“NaNs produced”\n",
            "Warning message in nlminb(start = c(0.001, 1.1), obj = func_mle2017):\n",
            "“NA/NaN function evaluation”\n",
            "Warning message in log(1 - exp(-B * (C^age) * (C - 1)/(log(C)))):\n",
            "“NaNs produced”\n",
            "Warning message in nlminb(start = c(0.001, 1.1), obj = func_mle2017):\n",
            "“NA/NaN function evaluation”\n",
            "Warning message in log(1 - exp(-B * (C^age) * (C - 1)/(log(C)))):\n",
            "“NaNs produced”\n",
            "Warning message in nlminb(start = c(0.001, 1.1), obj = func_mle2017):\n",
            "“NA/NaN function evaluation”\n"
          ],
          "name": "stderr"
        },
        {
          "output_type": "display_data",
          "data": {
            "text/plain": [
              "$par\n",
              "[1] 5.347168e-05 1.092087e+00\n",
              "\n",
              "$objective\n",
              "[1] 3606200650\n",
              "\n",
              "$convergence\n",
              "[1] 0\n",
              "\n",
              "$iterations\n",
              "[1] 18\n",
              "\n",
              "$evaluations\n",
              "function gradient \n",
              "      52       48 \n",
              "\n",
              "$message\n",
              "[1] \"both X-convergence and relative convergence (5)\"\n"
            ],
            "text/latex": "\\begin{description}\n\\item[\\$par] \\begin{enumerate*}\n\\item 5.34716812684798e-05\n\\item 1.0920871976747\n\\end{enumerate*}\n\n\\item[\\$objective] 3606200650.29517\n\\item[\\$convergence] 0\n\\item[\\$iterations] 18\n\\item[\\$evaluations] \\begin{description*}\n\\item[function] 52\n\\item[gradient] 48\n\\end{description*}\n\n\\item[\\$message] 'both X-convergence and relative convergence (5)'\n\\end{description}\n",
            "text/markdown": "$par\n:   1. 5.34716812684798e-05\n2. 1.0920871976747\n\n\n\n$objective\n:   3606200650.29517\n$convergence\n:   0\n$iterations\n:   18\n$evaluations\n:   function\n:   52gradient\n:   48\n\n\n$message\n:   'both X-convergence and relative convergence (5)'\n\n\n",
            "text/html": [
              "<dl>\n",
              "\t<dt>$par</dt>\n",
              "\t\t<dd><style>\n",
              ".list-inline {list-style: none; margin:0; padding: 0}\n",
              ".list-inline>li {display: inline-block}\n",
              ".list-inline>li:not(:last-child)::after {content: \"\\00b7\"; padding: 0 .5ex}\n",
              "</style>\n",
              "<ol class=list-inline><li>5.34716812684798e-05</li><li>1.0920871976747</li></ol>\n",
              "</dd>\n",
              "\t<dt>$objective</dt>\n",
              "\t\t<dd>3606200650.29517</dd>\n",
              "\t<dt>$convergence</dt>\n",
              "\t\t<dd>0</dd>\n",
              "\t<dt>$iterations</dt>\n",
              "\t\t<dd>18</dd>\n",
              "\t<dt>$evaluations</dt>\n",
              "\t\t<dd><style>\n",
              ".dl-inline {width: auto; margin:0; padding: 0}\n",
              ".dl-inline>dt, .dl-inline>dd {float: none; width: auto; display: inline-block}\n",
              ".dl-inline>dt::after {content: \":\\0020\"; padding-right: .5ex}\n",
              ".dl-inline>dt:not(:first-of-type) {padding-left: .5ex}\n",
              "</style><dl class=dl-inline><dt>function</dt><dd>52</dd><dt>gradient</dt><dd>48</dd></dl>\n",
              "</dd>\n",
              "\t<dt>$message</dt>\n",
              "\t\t<dd>'both X-convergence and relative convergence (5)'</dd>\n",
              "</dl>\n"
            ]
          },
          "metadata": {
            "tags": []
          }
        },
        {
          "output_type": "stream",
          "text": [
            "Warning message in nlminb(start = c(1, 0), obj = func_mle2017):\n",
            "“NA/NaN function evaluation”\n"
          ],
          "name": "stderr"
        },
        {
          "output_type": "display_data",
          "data": {
            "text/plain": [
              "$par\n",
              "[1] 1 0\n",
              "\n",
              "$objective\n",
              "[1] Inf\n",
              "\n",
              "$convergence\n",
              "[1] 0\n",
              "\n",
              "$iterations\n",
              "[1] 1\n",
              "\n",
              "$evaluations\n",
              "function gradient \n",
              "       2        2 \n",
              "\n",
              "$message\n",
              "[1] \"X-convergence (3)\"\n"
            ],
            "text/latex": "\\begin{description}\n\\item[\\$par] \\begin{enumerate*}\n\\item 1\n\\item 0\n\\end{enumerate*}\n\n\\item[\\$objective] Inf\n\\item[\\$convergence] 0\n\\item[\\$iterations] 1\n\\item[\\$evaluations] \\begin{description*}\n\\item[function] 2\n\\item[gradient] 2\n\\end{description*}\n\n\\item[\\$message] 'X-convergence (3)'\n\\end{description}\n",
            "text/markdown": "$par\n:   1. 1\n2. 0\n\n\n\n$objective\n:   Inf\n$convergence\n:   0\n$iterations\n:   1\n$evaluations\n:   function\n:   2gradient\n:   2\n\n\n$message\n:   'X-convergence (3)'\n\n\n",
            "text/html": [
              "<dl>\n",
              "\t<dt>$par</dt>\n",
              "\t\t<dd><style>\n",
              ".list-inline {list-style: none; margin:0; padding: 0}\n",
              ".list-inline>li {display: inline-block}\n",
              ".list-inline>li:not(:last-child)::after {content: \"\\00b7\"; padding: 0 .5ex}\n",
              "</style>\n",
              "<ol class=list-inline><li>1</li><li>0</li></ol>\n",
              "</dd>\n",
              "\t<dt>$objective</dt>\n",
              "\t\t<dd>Inf</dd>\n",
              "\t<dt>$convergence</dt>\n",
              "\t\t<dd>0</dd>\n",
              "\t<dt>$iterations</dt>\n",
              "\t\t<dd>1</dd>\n",
              "\t<dt>$evaluations</dt>\n",
              "\t\t<dd><style>\n",
              ".dl-inline {width: auto; margin:0; padding: 0}\n",
              ".dl-inline>dt, .dl-inline>dd {float: none; width: auto; display: inline-block}\n",
              ".dl-inline>dt::after {content: \":\\0020\"; padding-right: .5ex}\n",
              ".dl-inline>dt:not(:first-of-type) {padding-left: .5ex}\n",
              "</style><dl class=dl-inline><dt>function</dt><dd>2</dd><dt>gradient</dt><dd>2</dd></dl>\n",
              "</dd>\n",
              "\t<dt>$message</dt>\n",
              "\t\t<dd>'X-convergence (3)'</dd>\n",
              "</dl>\n"
            ]
          },
          "metadata": {
            "tags": []
          }
        },
        {
          "output_type": "stream",
          "text": [
            "Warning message in log(1 - exp(-B * (C^age) * (C - 1)/(log(C)))):\n",
            "“NaNs produced”\n",
            "Warning message in nlminb(start = c(1e-05, 1.05), obj = func_mle2018):\n",
            "“NA/NaN function evaluation”\n"
          ],
          "name": "stderr"
        },
        {
          "output_type": "display_data",
          "data": {
            "text/plain": [
              "$par\n",
              "[1] 5.044606e-05 1.092544e+00\n",
              "\n",
              "$objective\n",
              "[1] 3647379939\n",
              "\n",
              "$convergence\n",
              "[1] 0\n",
              "\n",
              "$iterations\n",
              "[1] 26\n",
              "\n",
              "$evaluations\n",
              "function gradient \n",
              "      60       63 \n",
              "\n",
              "$message\n",
              "[1] \"both X-convergence and relative convergence (5)\"\n"
            ],
            "text/latex": "\\begin{description}\n\\item[\\$par] \\begin{enumerate*}\n\\item 5.04460645254037e-05\n\\item 1.09254402426235\n\\end{enumerate*}\n\n\\item[\\$objective] 3647379939.14405\n\\item[\\$convergence] 0\n\\item[\\$iterations] 26\n\\item[\\$evaluations] \\begin{description*}\n\\item[function] 60\n\\item[gradient] 63\n\\end{description*}\n\n\\item[\\$message] 'both X-convergence and relative convergence (5)'\n\\end{description}\n",
            "text/markdown": "$par\n:   1. 5.04460645254037e-05\n2. 1.09254402426235\n\n\n\n$objective\n:   3647379939.14405\n$convergence\n:   0\n$iterations\n:   26\n$evaluations\n:   function\n:   60gradient\n:   63\n\n\n$message\n:   'both X-convergence and relative convergence (5)'\n\n\n",
            "text/html": [
              "<dl>\n",
              "\t<dt>$par</dt>\n",
              "\t\t<dd><style>\n",
              ".list-inline {list-style: none; margin:0; padding: 0}\n",
              ".list-inline>li {display: inline-block}\n",
              ".list-inline>li:not(:last-child)::after {content: \"\\00b7\"; padding: 0 .5ex}\n",
              "</style>\n",
              "<ol class=list-inline><li>5.04460645254037e-05</li><li>1.09254402426235</li></ol>\n",
              "</dd>\n",
              "\t<dt>$objective</dt>\n",
              "\t\t<dd>3647379939.14405</dd>\n",
              "\t<dt>$convergence</dt>\n",
              "\t\t<dd>0</dd>\n",
              "\t<dt>$iterations</dt>\n",
              "\t\t<dd>26</dd>\n",
              "\t<dt>$evaluations</dt>\n",
              "\t\t<dd><style>\n",
              ".dl-inline {width: auto; margin:0; padding: 0}\n",
              ".dl-inline>dt, .dl-inline>dd {float: none; width: auto; display: inline-block}\n",
              ".dl-inline>dt::after {content: \":\\0020\"; padding-right: .5ex}\n",
              ".dl-inline>dt:not(:first-of-type) {padding-left: .5ex}\n",
              "</style><dl class=dl-inline><dt>function</dt><dd>60</dd><dt>gradient</dt><dd>63</dd></dl>\n",
              "</dd>\n",
              "\t<dt>$message</dt>\n",
              "\t\t<dd>'both X-convergence and relative convergence (5)'</dd>\n",
              "</dl>\n"
            ]
          },
          "metadata": {
            "tags": []
          }
        },
        {
          "output_type": "stream",
          "text": [
            "Warning message in log(1 - exp(-B * (C^age) * (C - 1)/(log(C)))):\n",
            "“NaNs produced”\n",
            "Warning message in nlminb(start = c(0.001, 1.1), obj = func_mle2018):\n",
            "“NA/NaN function evaluation”\n",
            "Warning message in log(1 - exp(-B * (C^age) * (C - 1)/(log(C)))):\n",
            "“NaNs produced”\n",
            "Warning message in nlminb(start = c(0.001, 1.1), obj = func_mle2018):\n",
            "“NA/NaN function evaluation”\n",
            "Warning message in log(1 - exp(-B * (C^age) * (C - 1)/(log(C)))):\n",
            "“NaNs produced”\n",
            "Warning message in nlminb(start = c(0.001, 1.1), obj = func_mle2018):\n",
            "“NA/NaN function evaluation”\n"
          ],
          "name": "stderr"
        },
        {
          "output_type": "display_data",
          "data": {
            "text/plain": [
              "$par\n",
              "[1] 5.044607e-05 1.092544e+00\n",
              "\n",
              "$objective\n",
              "[1] 3647379939\n",
              "\n",
              "$convergence\n",
              "[1] 0\n",
              "\n",
              "$iterations\n",
              "[1] 18\n",
              "\n",
              "$evaluations\n",
              "function gradient \n",
              "      56       48 \n",
              "\n",
              "$message\n",
              "[1] \"relative convergence (4)\"\n"
            ],
            "text/latex": "\\begin{description}\n\\item[\\$par] \\begin{enumerate*}\n\\item 5.04460714075324e-05\n\\item 1.09254402190788\n\\end{enumerate*}\n\n\\item[\\$objective] 3647379939.14405\n\\item[\\$convergence] 0\n\\item[\\$iterations] 18\n\\item[\\$evaluations] \\begin{description*}\n\\item[function] 56\n\\item[gradient] 48\n\\end{description*}\n\n\\item[\\$message] 'relative convergence (4)'\n\\end{description}\n",
            "text/markdown": "$par\n:   1. 5.04460714075324e-05\n2. 1.09254402190788\n\n\n\n$objective\n:   3647379939.14405\n$convergence\n:   0\n$iterations\n:   18\n$evaluations\n:   function\n:   56gradient\n:   48\n\n\n$message\n:   'relative convergence (4)'\n\n\n",
            "text/html": [
              "<dl>\n",
              "\t<dt>$par</dt>\n",
              "\t\t<dd><style>\n",
              ".list-inline {list-style: none; margin:0; padding: 0}\n",
              ".list-inline>li {display: inline-block}\n",
              ".list-inline>li:not(:last-child)::after {content: \"\\00b7\"; padding: 0 .5ex}\n",
              "</style>\n",
              "<ol class=list-inline><li>5.04460714075324e-05</li><li>1.09254402190788</li></ol>\n",
              "</dd>\n",
              "\t<dt>$objective</dt>\n",
              "\t\t<dd>3647379939.14405</dd>\n",
              "\t<dt>$convergence</dt>\n",
              "\t\t<dd>0</dd>\n",
              "\t<dt>$iterations</dt>\n",
              "\t\t<dd>18</dd>\n",
              "\t<dt>$evaluations</dt>\n",
              "\t\t<dd><style>\n",
              ".dl-inline {width: auto; margin:0; padding: 0}\n",
              ".dl-inline>dt, .dl-inline>dd {float: none; width: auto; display: inline-block}\n",
              ".dl-inline>dt::after {content: \":\\0020\"; padding-right: .5ex}\n",
              ".dl-inline>dt:not(:first-of-type) {padding-left: .5ex}\n",
              "</style><dl class=dl-inline><dt>function</dt><dd>56</dd><dt>gradient</dt><dd>48</dd></dl>\n",
              "</dd>\n",
              "\t<dt>$message</dt>\n",
              "\t\t<dd>'relative convergence (4)'</dd>\n",
              "</dl>\n"
            ]
          },
          "metadata": {
            "tags": []
          }
        },
        {
          "output_type": "stream",
          "text": [
            "Warning message in nlminb(start = c(1, 0), obj = func_mle2018):\n",
            "“NA/NaN function evaluation”\n"
          ],
          "name": "stderr"
        },
        {
          "output_type": "display_data",
          "data": {
            "text/plain": [
              "$par\n",
              "[1] 1 0\n",
              "\n",
              "$objective\n",
              "[1] Inf\n",
              "\n",
              "$convergence\n",
              "[1] 0\n",
              "\n",
              "$iterations\n",
              "[1] 1\n",
              "\n",
              "$evaluations\n",
              "function gradient \n",
              "       2        2 \n",
              "\n",
              "$message\n",
              "[1] \"X-convergence (3)\"\n"
            ],
            "text/latex": "\\begin{description}\n\\item[\\$par] \\begin{enumerate*}\n\\item 1\n\\item 0\n\\end{enumerate*}\n\n\\item[\\$objective] Inf\n\\item[\\$convergence] 0\n\\item[\\$iterations] 1\n\\item[\\$evaluations] \\begin{description*}\n\\item[function] 2\n\\item[gradient] 2\n\\end{description*}\n\n\\item[\\$message] 'X-convergence (3)'\n\\end{description}\n",
            "text/markdown": "$par\n:   1. 1\n2. 0\n\n\n\n$objective\n:   Inf\n$convergence\n:   0\n$iterations\n:   1\n$evaluations\n:   function\n:   2gradient\n:   2\n\n\n$message\n:   'X-convergence (3)'\n\n\n",
            "text/html": [
              "<dl>\n",
              "\t<dt>$par</dt>\n",
              "\t\t<dd><style>\n",
              ".list-inline {list-style: none; margin:0; padding: 0}\n",
              ".list-inline>li {display: inline-block}\n",
              ".list-inline>li:not(:last-child)::after {content: \"\\00b7\"; padding: 0 .5ex}\n",
              "</style>\n",
              "<ol class=list-inline><li>1</li><li>0</li></ol>\n",
              "</dd>\n",
              "\t<dt>$objective</dt>\n",
              "\t\t<dd>Inf</dd>\n",
              "\t<dt>$convergence</dt>\n",
              "\t\t<dd>0</dd>\n",
              "\t<dt>$iterations</dt>\n",
              "\t\t<dd>1</dd>\n",
              "\t<dt>$evaluations</dt>\n",
              "\t\t<dd><style>\n",
              ".dl-inline {width: auto; margin:0; padding: 0}\n",
              ".dl-inline>dt, .dl-inline>dd {float: none; width: auto; display: inline-block}\n",
              ".dl-inline>dt::after {content: \":\\0020\"; padding-right: .5ex}\n",
              ".dl-inline>dt:not(:first-of-type) {padding-left: .5ex}\n",
              "</style><dl class=dl-inline><dt>function</dt><dd>2</dd><dt>gradient</dt><dd>2</dd></dl>\n",
              "</dd>\n",
              "\t<dt>$message</dt>\n",
              "\t\t<dd>'X-convergence (3)'</dd>\n",
              "</dl>\n"
            ]
          },
          "metadata": {
            "tags": []
          }
        },
        {
          "output_type": "display_data",
          "data": {
            "text/plain": [
              "$par\n",
              "[1] 5.099187e-05 1.092121e+00\n",
              "\n",
              "$objective\n",
              "[1] 3775987576\n",
              "\n",
              "$convergence\n",
              "[1] 0\n",
              "\n",
              "$iterations\n",
              "[1] 27\n",
              "\n",
              "$evaluations\n",
              "function gradient \n",
              "      71       61 \n",
              "\n",
              "$message\n",
              "[1] \"relative convergence (4)\"\n"
            ],
            "text/latex": "\\begin{description}\n\\item[\\$par] \\begin{enumerate*}\n\\item 5.09918682198082e-05\n\\item 1.09212118916743\n\\end{enumerate*}\n\n\\item[\\$objective] 3775987576.21056\n\\item[\\$convergence] 0\n\\item[\\$iterations] 27\n\\item[\\$evaluations] \\begin{description*}\n\\item[function] 71\n\\item[gradient] 61\n\\end{description*}\n\n\\item[\\$message] 'relative convergence (4)'\n\\end{description}\n",
            "text/markdown": "$par\n:   1. 5.09918682198082e-05\n2. 1.09212118916743\n\n\n\n$objective\n:   3775987576.21056\n$convergence\n:   0\n$iterations\n:   27\n$evaluations\n:   function\n:   71gradient\n:   61\n\n\n$message\n:   'relative convergence (4)'\n\n\n",
            "text/html": [
              "<dl>\n",
              "\t<dt>$par</dt>\n",
              "\t\t<dd><style>\n",
              ".list-inline {list-style: none; margin:0; padding: 0}\n",
              ".list-inline>li {display: inline-block}\n",
              ".list-inline>li:not(:last-child)::after {content: \"\\00b7\"; padding: 0 .5ex}\n",
              "</style>\n",
              "<ol class=list-inline><li>5.09918682198082e-05</li><li>1.09212118916743</li></ol>\n",
              "</dd>\n",
              "\t<dt>$objective</dt>\n",
              "\t\t<dd>3775987576.21056</dd>\n",
              "\t<dt>$convergence</dt>\n",
              "\t\t<dd>0</dd>\n",
              "\t<dt>$iterations</dt>\n",
              "\t\t<dd>27</dd>\n",
              "\t<dt>$evaluations</dt>\n",
              "\t\t<dd><style>\n",
              ".dl-inline {width: auto; margin:0; padding: 0}\n",
              ".dl-inline>dt, .dl-inline>dd {float: none; width: auto; display: inline-block}\n",
              ".dl-inline>dt::after {content: \":\\0020\"; padding-right: .5ex}\n",
              ".dl-inline>dt:not(:first-of-type) {padding-left: .5ex}\n",
              "</style><dl class=dl-inline><dt>function</dt><dd>71</dd><dt>gradient</dt><dd>61</dd></dl>\n",
              "</dd>\n",
              "\t<dt>$message</dt>\n",
              "\t\t<dd>'relative convergence (4)'</dd>\n",
              "</dl>\n"
            ]
          },
          "metadata": {
            "tags": []
          }
        },
        {
          "output_type": "stream",
          "text": [
            "Warning message in log(1 - exp(-B * (C^age) * (C - 1)/(log(C)))):\n",
            "“NaNs produced”\n",
            "Warning message in nlminb(start = c(0.001, 1.1), obj = func_mle2019):\n",
            "“NA/NaN function evaluation”\n",
            "Warning message in log(1 - exp(-B * (C^age) * (C - 1)/(log(C)))):\n",
            "“NaNs produced”\n",
            "Warning message in nlminb(start = c(0.001, 1.1), obj = func_mle2019):\n",
            "“NA/NaN function evaluation”\n",
            "Warning message in log(1 - exp(-B * (C^age) * (C - 1)/(log(C)))):\n",
            "“NaNs produced”\n",
            "Warning message in nlminb(start = c(0.001, 1.1), obj = func_mle2019):\n",
            "“NA/NaN function evaluation”\n"
          ],
          "name": "stderr"
        },
        {
          "output_type": "display_data",
          "data": {
            "text/plain": [
              "$par\n",
              "[1] 5.099186e-05 1.092121e+00\n",
              "\n",
              "$objective\n",
              "[1] 3775987576\n",
              "\n",
              "$convergence\n",
              "[1] 0\n",
              "\n",
              "$iterations\n",
              "[1] 19\n",
              "\n",
              "$evaluations\n",
              "function gradient \n",
              "      46       51 \n",
              "\n",
              "$message\n",
              "[1] \"both X-convergence and relative convergence (5)\"\n"
            ],
            "text/latex": "\\begin{description}\n\\item[\\$par] \\begin{enumerate*}\n\\item 5.09918583638412e-05\n\\item 1.09212119250417\n\\end{enumerate*}\n\n\\item[\\$objective] 3775987576.21056\n\\item[\\$convergence] 0\n\\item[\\$iterations] 19\n\\item[\\$evaluations] \\begin{description*}\n\\item[function] 46\n\\item[gradient] 51\n\\end{description*}\n\n\\item[\\$message] 'both X-convergence and relative convergence (5)'\n\\end{description}\n",
            "text/markdown": "$par\n:   1. 5.09918583638412e-05\n2. 1.09212119250417\n\n\n\n$objective\n:   3775987576.21056\n$convergence\n:   0\n$iterations\n:   19\n$evaluations\n:   function\n:   46gradient\n:   51\n\n\n$message\n:   'both X-convergence and relative convergence (5)'\n\n\n",
            "text/html": [
              "<dl>\n",
              "\t<dt>$par</dt>\n",
              "\t\t<dd><style>\n",
              ".list-inline {list-style: none; margin:0; padding: 0}\n",
              ".list-inline>li {display: inline-block}\n",
              ".list-inline>li:not(:last-child)::after {content: \"\\00b7\"; padding: 0 .5ex}\n",
              "</style>\n",
              "<ol class=list-inline><li>5.09918583638412e-05</li><li>1.09212119250417</li></ol>\n",
              "</dd>\n",
              "\t<dt>$objective</dt>\n",
              "\t\t<dd>3775987576.21056</dd>\n",
              "\t<dt>$convergence</dt>\n",
              "\t\t<dd>0</dd>\n",
              "\t<dt>$iterations</dt>\n",
              "\t\t<dd>19</dd>\n",
              "\t<dt>$evaluations</dt>\n",
              "\t\t<dd><style>\n",
              ".dl-inline {width: auto; margin:0; padding: 0}\n",
              ".dl-inline>dt, .dl-inline>dd {float: none; width: auto; display: inline-block}\n",
              ".dl-inline>dt::after {content: \":\\0020\"; padding-right: .5ex}\n",
              ".dl-inline>dt:not(:first-of-type) {padding-left: .5ex}\n",
              "</style><dl class=dl-inline><dt>function</dt><dd>46</dd><dt>gradient</dt><dd>51</dd></dl>\n",
              "</dd>\n",
              "\t<dt>$message</dt>\n",
              "\t\t<dd>'both X-convergence and relative convergence (5)'</dd>\n",
              "</dl>\n"
            ]
          },
          "metadata": {
            "tags": []
          }
        },
        {
          "output_type": "stream",
          "text": [
            "Warning message in nlminb(start = c(1, 0), obj = func_mle2019):\n",
            "“NA/NaN function evaluation”\n"
          ],
          "name": "stderr"
        },
        {
          "output_type": "display_data",
          "data": {
            "text/plain": [
              "$par\n",
              "[1] 1 0\n",
              "\n",
              "$objective\n",
              "[1] Inf\n",
              "\n",
              "$convergence\n",
              "[1] 0\n",
              "\n",
              "$iterations\n",
              "[1] 1\n",
              "\n",
              "$evaluations\n",
              "function gradient \n",
              "       2        2 \n",
              "\n",
              "$message\n",
              "[1] \"X-convergence (3)\"\n"
            ],
            "text/latex": "\\begin{description}\n\\item[\\$par] \\begin{enumerate*}\n\\item 1\n\\item 0\n\\end{enumerate*}\n\n\\item[\\$objective] Inf\n\\item[\\$convergence] 0\n\\item[\\$iterations] 1\n\\item[\\$evaluations] \\begin{description*}\n\\item[function] 2\n\\item[gradient] 2\n\\end{description*}\n\n\\item[\\$message] 'X-convergence (3)'\n\\end{description}\n",
            "text/markdown": "$par\n:   1. 1\n2. 0\n\n\n\n$objective\n:   Inf\n$convergence\n:   0\n$iterations\n:   1\n$evaluations\n:   function\n:   2gradient\n:   2\n\n\n$message\n:   'X-convergence (3)'\n\n\n",
            "text/html": [
              "<dl>\n",
              "\t<dt>$par</dt>\n",
              "\t\t<dd><style>\n",
              ".list-inline {list-style: none; margin:0; padding: 0}\n",
              ".list-inline>li {display: inline-block}\n",
              ".list-inline>li:not(:last-child)::after {content: \"\\00b7\"; padding: 0 .5ex}\n",
              "</style>\n",
              "<ol class=list-inline><li>1</li><li>0</li></ol>\n",
              "</dd>\n",
              "\t<dt>$objective</dt>\n",
              "\t\t<dd>Inf</dd>\n",
              "\t<dt>$convergence</dt>\n",
              "\t\t<dd>0</dd>\n",
              "\t<dt>$iterations</dt>\n",
              "\t\t<dd>1</dd>\n",
              "\t<dt>$evaluations</dt>\n",
              "\t\t<dd><style>\n",
              ".dl-inline {width: auto; margin:0; padding: 0}\n",
              ".dl-inline>dt, .dl-inline>dd {float: none; width: auto; display: inline-block}\n",
              ".dl-inline>dt::after {content: \":\\0020\"; padding-right: .5ex}\n",
              ".dl-inline>dt:not(:first-of-type) {padding-left: .5ex}\n",
              "</style><dl class=dl-inline><dt>function</dt><dd>2</dd><dt>gradient</dt><dd>2</dd></dl>\n",
              "</dd>\n",
              "\t<dt>$message</dt>\n",
              "\t\t<dd>'X-convergence (3)'</dd>\n",
              "</dl>\n"
            ]
          },
          "metadata": {
            "tags": []
          }
        }
      ]
    },
    {
      "cell_type": "code",
      "metadata": {
        "id": "skdIpOfUfWLD"
      },
      "source": [
        ""
      ],
      "execution_count": null,
      "outputs": []
    }
  ]
}